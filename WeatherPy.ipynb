{
 "cells": [
  {
   "cell_type": "code",
   "execution_count": 1,
   "metadata": {},
   "outputs": [],
   "source": [
    "# Import the dependencies.\n",
    "import pandas as pd\n",
    "import matplotlib.pyplot as plt\n",
    "import numpy as np"
   ]
  },
  {
   "cell_type": "code",
   "execution_count": 2,
   "metadata": {},
   "outputs": [
    {
     "data": {
      "text/plain": [
       "<zip at 0x82aa7b0>"
      ]
     },
     "execution_count": 2,
     "metadata": {},
     "output_type": "execute_result"
    }
   ],
   "source": [
    "#In the next cell, we'll add the code that generates the latitudes and longitudes, but first, they need to be stored so \n",
    "#that we can access them later. Since we are creating arrays of latitudes and longitudes, we'll declare each array as a \n",
    "#variable.\n",
    "# Create a set of random latitude and longitude combinations.\n",
    "lats = np.random.uniform(low=-90.000, high=90.000, size=500)\n",
    "lngs = np.random.uniform(low=-180.000, high=180.000, size=500)\n",
    "lat_lngs = zip(lats, lngs)\n",
    "lat_lngs\n",
    "\n",
    "#The zip object packs each pair of lats and lngs having the same index in their respective array into a tuple. If there \n",
    "#are 1,500 latitudes and longitudes, there will be 1,500 tuples of paired latitudes and longitudes, where each latitude \n",
    "#and longitude in a tuple can be accessed by the index of 0 and 1, respectively."
   ]
  },
  {
   "cell_type": "code",
   "execution_count": 3,
   "metadata": {},
   "outputs": [],
   "source": [
    "# Add the latitudes and longitudes to a list.\n",
    "coordinates = list(lat_lngs)\n",
    "#You can only unzip a zipped tuple once before it is removed from the computer's memory. Make sure you unzip the latitudes \n",
    "#and longitudes into the coordinates list before moving on."
   ]
  },
  {
   "cell_type": "code",
   "execution_count": 4,
   "metadata": {},
   "outputs": [],
   "source": [
    "# Use the citipy module to determine city based on latitude and longitude.\n",
    "from citipy import citipy"
   ]
  },
  {
   "cell_type": "code",
   "execution_count": 5,
   "metadata": {},
   "outputs": [
    {
     "name": "stdout",
     "output_type": "stream",
     "text": [
      "acari pe\n",
      "port alfred za\n",
      "rikitea pf\n",
      "kavieng pg\n",
      "upernavik gl\n",
      "kapaa us\n",
      "rikitea pf\n",
      "longyearbyen sj\n",
      "cape town za\n",
      "margate za\n",
      "castro cl\n",
      "kapaa us\n",
      "chokurdakh ru\n",
      "mataura pf\n",
      "illoqqortoormiut gl\n",
      "dingle ie\n",
      "thompson ca\n",
      "chuy uy\n",
      "upernavik gl\n",
      "bluff nz\n",
      "letlhakane bw\n",
      "kodiak us\n",
      "alotau pg\n",
      "meulaboh id\n",
      "tarko-sale ru\n",
      "bafq ir\n",
      "busselton au\n",
      "vestmanna fo\n",
      "faanui pf\n",
      "corpus christi us\n",
      "cape town za\n",
      "belushya guba ru\n",
      "chimbote pe\n",
      "narsaq gl\n",
      "barrow us\n",
      "strezhevoy ru\n",
      "saint-philippe re\n",
      "rikitea pf\n",
      "mataura pf\n",
      "ushuaia ar\n",
      "punta arenas cl\n",
      "new norfolk au\n",
      "saskylakh ru\n",
      "rikitea pf\n",
      "belushya guba ru\n",
      "mataura pf\n",
      "cherskiy ru\n",
      "sorong id\n",
      "viedma ar\n",
      "sentyabrskiy ru\n",
      "rikitea pf\n",
      "ilulissat gl\n",
      "klaksvik fo\n",
      "mys shmidta ru\n",
      "atuona pf\n",
      "port elizabeth za\n",
      "souillac mu\n",
      "chokurdakh ru\n",
      "wanning cn\n",
      "bredasdorp za\n",
      "piterka ru\n",
      "mendahara id\n",
      "grants pass us\n",
      "klaksvik fo\n",
      "mataura pf\n",
      "arraial do cabo br\n",
      "rikitea pf\n",
      "taolanaro mg\n",
      "bredasdorp za\n",
      "punta arenas cl\n",
      "cap malheureux mu\n",
      "axim gh\n",
      "saint-pierre pm\n",
      "nanzhang cn\n",
      "hihifo to\n",
      "bluff nz\n",
      "port alfred za\n",
      "avera pf\n",
      "ushuaia ar\n",
      "sibu my\n",
      "honningsvag no\n",
      "chuy uy\n",
      "lovozero ru\n",
      "yellowknife ca\n",
      "new norfolk au\n",
      "port elizabeth za\n",
      "punta arenas cl\n",
      "adrar dz\n",
      "grand river south east mu\n",
      "dukat ru\n",
      "cape town za\n",
      "rikitea pf\n",
      "saldanha za\n",
      "busselton au\n",
      "sitka us\n",
      "rikitea pf\n",
      "atuona pf\n",
      "la argentina co\n",
      "port elizabeth za\n",
      "rikitea pf\n",
      "siilinjarvi fi\n",
      "bollnas se\n",
      "bredasdorp za\n",
      "tuktoyaktuk ca\n",
      "moroni km\n",
      "bredasdorp za\n",
      "thinadhoo mv\n",
      "behshahr ir\n",
      "vaini to\n",
      "kieta pg\n",
      "marsabit ke\n",
      "san policarpo ph\n",
      "carnarvon au\n",
      "rio gallegos ar\n",
      "santa maria cv\n",
      "albany au\n",
      "itarema br\n",
      "ribeira grande pt\n",
      "ponta delgada pt\n",
      "lingyuan cn\n",
      "saint-philippe re\n",
      "torbay ca\n",
      "chokurdakh ru\n",
      "samusu ws\n",
      "yirol sd\n",
      "new norfolk au\n",
      "kapaa us\n",
      "cartagena co\n",
      "bougouni ml\n",
      "upernavik gl\n",
      "mataura pf\n",
      "mount isa au\n",
      "cabo san lucas mx\n",
      "narsaq gl\n",
      "cape town za\n",
      "pisco pe\n",
      "maraba br\n",
      "roald no\n",
      "conde br\n",
      "kjollefjord no\n",
      "praia cv\n",
      "kodiak us\n",
      "sal rei cv\n",
      "yellowknife ca\n",
      "vao nc\n",
      "remanso br\n",
      "ushuaia ar\n",
      "rikitea pf\n",
      "ziro in\n",
      "puerto ayora ec\n",
      "grindavik is\n",
      "illoqqortoormiut gl\n",
      "khatanga ru\n",
      "ksenyevka ru\n",
      "hermanus za\n",
      "payson us\n",
      "tunxi cn\n",
      "albany au\n",
      "ixtapa mx\n",
      "noumea nc\n",
      "kavieng pg\n",
      "ribeira grande pt\n",
      "dzerzhinsk by\n",
      "chokurdakh ru\n",
      "kasongo-lunda cd\n",
      "bowmore gb\n",
      "punta arenas cl\n",
      "albany au\n",
      "kuche cn\n",
      "broken hill au\n",
      "lompoc us\n",
      "sao filipe cv\n",
      "lillooet ca\n",
      "albany au\n",
      "san francisco de coray hn\n",
      "punta arenas cl\n",
      "marcona pe\n",
      "skjervoy no\n",
      "vrangel ru\n",
      "mar del plata ar\n",
      "riyadh sa\n",
      "pevek ru\n",
      "bestobe kz\n",
      "mataura pf\n",
      "villa de san francisco hn\n",
      "east london za\n",
      "ziro in\n",
      "kapaa us\n",
      "raudeberg no\n",
      "jamestown sh\n",
      "hermanus za\n",
      "albany au\n",
      "alvaraes br\n",
      "ribeira grande pt\n",
      "salisbury ca\n",
      "carnarvon au\n",
      "bubaque gw\n",
      "saint george bm\n",
      "noumea nc\n",
      "atuona pf\n",
      "attawapiskat ca\n",
      "adamas gr\n",
      "port alfred za\n",
      "barrow us\n",
      "east london za\n",
      "souillac mu\n",
      "geraldton au\n",
      "belushya guba ru\n",
      "shu kz\n",
      "cape town za\n",
      "georgetown sh\n",
      "taltal cl\n",
      "hay river ca\n",
      "san patricio mx\n",
      "hilo us\n",
      "zdvinsk ru\n",
      "kjollefjord no\n",
      "geraldton au\n",
      "viligili mv\n",
      "killarney ca\n",
      "jamestown sh\n",
      "gospic hr\n",
      "nikolskoye ru\n",
      "mys shmidta ru\n",
      "areia branca br\n",
      "olkhovka ru\n",
      "schladming at\n",
      "khatanga ru\n",
      "grand gaube mu\n",
      "yellowknife ca\n",
      "tapaua br\n",
      "boyolangu id\n",
      "akhmim eg\n",
      "puerto cabezas ni\n",
      "kodiak us\n",
      "olinda br\n",
      "cockburn town tc\n",
      "mataura pf\n",
      "albany au\n",
      "kodinsk ru\n",
      "namibe ao\n",
      "fare pf\n",
      "jacqueville ci\n",
      "qaanaaq gl\n",
      "new norfolk au\n",
      "cherskiy ru\n",
      "dartford gb\n",
      "rikitea pf\n",
      "port alfred za\n",
      "kodiak us\n",
      "rikitea pf\n",
      "tasiilaq gl\n",
      "ponta do sol cv\n",
      "saint-philippe re\n",
      "medyn ru\n",
      "rikitea pf\n",
      "hermanus za\n",
      "kang bw\n",
      "ahipara nz\n",
      "kavaratti in\n",
      "bengkulu id\n",
      "isangel vu\n",
      "mataura pf\n",
      "butaritari ki\n",
      "atuona pf\n",
      "hermanus za\n",
      "merauke id\n",
      "taolanaro mg\n",
      "pevek ru\n",
      "mouzouras gr\n",
      "bethel us\n",
      "kazalinsk kz\n",
      "belushya guba ru\n",
      "vila velha br\n",
      "haverfordwest gb\n",
      "hilo us\n",
      "dutlwe bw\n",
      "tsihombe mg\n",
      "mackay au\n",
      "barrow us\n",
      "westport ie\n",
      "rikitea pf\n",
      "ostrovnoy ru\n",
      "hirado jp\n",
      "esna eg\n",
      "mendi pg\n",
      "amderma ru\n",
      "saint-philippe re\n",
      "boyolangu id\n",
      "hermanus za\n",
      "caravelas br\n",
      "henties bay na\n",
      "severo-kurilsk ru\n",
      "kapaa us\n",
      "taolanaro mg\n",
      "rikitea pf\n",
      "tilichiki ru\n",
      "fairbanks us\n",
      "tasiilaq gl\n",
      "castro cl\n",
      "hermanus za\n",
      "airai pw\n",
      "borba br\n",
      "bluff nz\n",
      "leningradskiy ru\n",
      "san luis mx\n",
      "isangel vu\n",
      "waiouru nz\n",
      "tsihombe mg\n",
      "hami cn\n",
      "thompson ca\n",
      "atuona pf\n",
      "samusu ws\n",
      "laguna br\n",
      "yenagoa ng\n",
      "bredasdorp za\n",
      "kavieng pg\n",
      "severo-kurilsk ru\n",
      "kamloops ca\n",
      "mahebourg mu\n",
      "chara ru\n",
      "castro cl\n",
      "fortuna us\n",
      "punta arenas cl\n",
      "vaini to\n",
      "pandan ph\n",
      "matay eg\n",
      "umzimvubu za\n",
      "tuktoyaktuk ca\n",
      "sangar ru\n",
      "livingstonia mw\n",
      "sungai besar my\n",
      "duz tn\n",
      "albany au\n",
      "atuona pf\n",
      "tieling cn\n",
      "garowe so\n",
      "belushya guba ru\n",
      "bluff nz\n",
      "new norfolk au\n",
      "ilo pe\n",
      "mataura pf\n",
      "busselton au\n",
      "hobart au\n",
      "dikson ru\n",
      "nizhneyansk ru\n",
      "busselton au\n",
      "bose cn\n",
      "paita pe\n",
      "semey kz\n",
      "la ronge ca\n",
      "barrow us\n",
      "kudahuvadhoo mv\n",
      "nkhata bay mw\n",
      "vaitupu wf\n",
      "busselton au\n",
      "nome us\n",
      "bethel us\n",
      "novikovo ru\n",
      "qinhuangdao cn\n",
      "avarua ck\n",
      "padang id\n",
      "sitka us\n",
      "colombo lk\n",
      "amderma ru\n",
      "necochea ar\n",
      "tasiilaq gl\n",
      "aden ye\n",
      "katsuura jp\n",
      "lake havasu city us\n",
      "lebu cl\n",
      "oistins bb\n",
      "kaupanger no\n",
      "saint george bm\n",
      "sorland no\n",
      "albany au\n",
      "dawlatabad af\n",
      "utiroa ki\n",
      "fortuna us\n",
      "albany au\n",
      "pisco pe\n",
      "kapaa us\n",
      "embonas gr\n",
      "ballina au\n",
      "qaanaaq gl\n",
      "faanui pf\n",
      "dikson ru\n",
      "ushuaia ar\n",
      "tiksi ru\n",
      "atuona pf\n",
      "mataura pf\n",
      "busselton au\n",
      "monrovia lr\n",
      "te anau nz\n",
      "bilma ne\n",
      "ribeira grande pt\n",
      "rikitea pf\n",
      "bairiki ki\n",
      "gat ly\n",
      "dingle ie\n",
      "busselton au\n",
      "barentsburg sj\n",
      "illoqqortoormiut gl\n",
      "attawapiskat ca\n",
      "amderma ru\n",
      "atuona pf\n",
      "thompson ca\n",
      "hobart au\n",
      "qaanaaq gl\n",
      "hermanus za\n",
      "qasigiannguit gl\n",
      "vestmanna fo\n",
      "geraldton au\n",
      "tuktoyaktuk ca\n",
      "imeni poliny osipenko ru\n",
      "atar mr\n",
      "stornoway gb\n",
      "punta arenas cl\n",
      "tiksi ru\n",
      "dawson creek ca\n",
      "umzimvubu za\n",
      "umm ruwabah sd\n",
      "mataura pf\n",
      "zaysan kz\n",
      "pimentel pe\n",
      "east london za\n",
      "faya td\n",
      "hualmay pe\n",
      "sao filipe cv\n",
      "san cristobal ec\n",
      "camopi gf\n",
      "cape town za\n",
      "ushuaia ar\n",
      "yellowknife ca\n",
      "dingle ie\n",
      "sitka us\n",
      "atuona pf\n",
      "warrington us\n",
      "pangnirtung ca\n",
      "airai pw\n",
      "richards bay za\n",
      "lorch de\n",
      "uruzgan af\n",
      "saint george bm\n",
      "atuona pf\n",
      "albany au\n",
      "jamestown sh\n",
      "vila franca do campo pt\n",
      "egvekinot ru\n",
      "humaita py\n",
      "rikitea pf\n",
      "longyearbyen sj\n",
      "kabompo zm\n",
      "victoria sc\n",
      "georgetown sh\n",
      "provideniya ru\n",
      "jamestown sh\n",
      "bandarbeyla so\n",
      "atuona pf\n",
      "aklavik ca\n",
      "ushuaia ar\n",
      "barentsburg sj\n",
      "punta arenas cl\n",
      "batticaloa lk\n",
      "rikitea pf\n",
      "vaini to\n",
      "albany au\n",
      "kavaratti in\n",
      "tevriz ru\n",
      "palu id\n",
      "punta arenas cl\n",
      "ushuaia ar\n",
      "vila vu\n",
      "saint george bm\n",
      "srednekolymsk ru\n",
      "klaksvik fo\n",
      "tasiilaq gl\n",
      "sambava mg\n",
      "vostok ru\n",
      "busselton au\n",
      "aloleng ph\n",
      "ushuaia ar\n",
      "port alfred za\n",
      "esperance au\n",
      "maragogi br\n",
      "mataura pf\n",
      "hermanus za\n",
      "puerto ayora ec\n",
      "nome us\n",
      "butaritari ki\n",
      "ushuaia ar\n",
      "castro cl\n",
      "vigrestad no\n",
      "nikolayevsk-na-amure ru\n",
      "karratha au\n",
      "georgetown sh\n",
      "bredasdorp za\n",
      "bethel us\n",
      "yellowknife ca\n",
      "kruisfontein za\n"
     ]
    }
   ],
   "source": [
    "# Use the tuple() function to display the latitude and longitude combinations.\n",
    "for coordinate in coordinates:\n",
    "    print(citipy.nearest_city(coordinate[0], coordinate[1]).city_name,\n",
    "          citipy.nearest_city(coordinate[0], coordinate[1]).country_code)"
   ]
  },
  {
   "cell_type": "code",
   "execution_count": 6,
   "metadata": {},
   "outputs": [
    {
     "data": {
      "text/plain": [
       "293"
      ]
     },
     "execution_count": 6,
     "metadata": {},
     "output_type": "execute_result"
    }
   ],
   "source": [
    "# Create a list for holding the cities.\n",
    "cities = []\n",
    "# Identify the nearest city for each latitude and longitude combination.\n",
    "for coordinate in coordinates:\n",
    "    city = citipy.nearest_city(coordinate[0], coordinate[1]).city_name\n",
    "\n",
    "    # If the city is unique, then we will add it to the cities list.\n",
    "    if city not in cities:\n",
    "        cities.append(city)\n",
    "# Print the city count to confirm sufficient count.\n",
    "len(cities)"
   ]
  },
  {
   "cell_type": "markdown",
   "metadata": {},
   "source": [
    "# Module 6.2.1: Understanding APIs\n"
   ]
  },
  {
   "cell_type": "code",
   "execution_count": 7,
   "metadata": {},
   "outputs": [],
   "source": [
    "#Using an API has its limitations because not all information from a server is accessible. Most APIs have tiered services, \n",
    "#from free to paid. Free services allow access to limited information, and paid subscriptions provide more access based on \n",
    "#the payment plan. Our company has a paid subscription for APIs, but we can only get certain information from websites on \n",
    "#hotels such as location, accessibility, rooms, prices, services, and amenities, as well as regional weather data."
   ]
  },
  {
   "cell_type": "markdown",
   "metadata": {},
   "source": [
    "# Module 6.2.2: Get Started with OpenWeatherMap API"
   ]
  },
  {
   "cell_type": "code",
   "execution_count": 8,
   "metadata": {},
   "outputs": [],
   "source": [
    "#Launch the Anaconda Prompt for your PythonData environment.\n",
    "#After the Python prompt, >, type python to launch Python.\n",
    "#At the Python prompt, >>>, type import requests and press Enter.\n",
    "#On the next line type requests.__version__ and press Enter.\n",
    "#The output should be version 2.22.0 or later."
   ]
  },
  {
   "cell_type": "markdown",
   "metadata": {},
   "source": [
    "# Module 6.2.4: Make an API Call\n",
    "## Retrieve a Response Using the get() Method"
   ]
  },
  {
   "cell_type": "code",
   "execution_count": 9,
   "metadata": {},
   "outputs": [],
   "source": [
    "# Import the requests library.\n",
    "import requests\n",
    "\n",
    "# Import the API key.\n",
    "from config import weather_api_key"
   ]
  },
  {
   "cell_type": "code",
   "execution_count": 10,
   "metadata": {},
   "outputs": [
    {
     "name": "stdout",
     "output_type": "stream",
     "text": [
      "http://api.openweathermap.org/data/2.5/weather?units=Imperial&APPID=f1fbebd8ae0bab942dba92d8bad5d83b&q=Boston\n"
     ]
    }
   ],
   "source": [
    "# Starting URL for Weather Map API Call.\n",
    "url = \"http://api.openweathermap.org/data/2.5/weather?units=Imperial&APPID=\" + weather_api_key+ \"&q=\" + \"Boston\"\n",
    "print(url)"
   ]
  },
  {
   "cell_type": "code",
   "execution_count": 11,
   "metadata": {},
   "outputs": [
    {
     "name": "stdout",
     "output_type": "stream",
     "text": [
      "http://api.openweathermap.org/data/2.5/weather?units=Imperial&APPID=f1fbebd8ae0bab942dba92d8bad5d83b&q=Boston&q=Boston\n"
     ]
    }
   ],
   "source": [
    "# Create an endpoint URL for a city.\n",
    "city_url = url + \"&q=\" + \"Boston\"\n",
    "print(city_url)"
   ]
  },
  {
   "cell_type": "code",
   "execution_count": 12,
   "metadata": {},
   "outputs": [
    {
     "data": {
      "text/plain": [
       "<Response [200]>"
      ]
     },
     "execution_count": 12,
     "metadata": {},
     "output_type": "execute_result"
    }
   ],
   "source": [
    "# Make a 'Get' request for the city weather.\n",
    "city_weather = requests.get(city_url)\n",
    "city_weather\n",
    "\n",
    "#The code output will be <Response [200]>, indicating a valid response. We won't see this code when a website appears in a \n",
    "#browser. However, when a website does not appear, we'll see a 404 code, indicating a client error. You can directly call \n",
    "#the response code with the get() method using the status_code. If we chain the status_code to the city_weather variable, \n",
    "#we get 200 as the output."
   ]
  },
  {
   "cell_type": "markdown",
   "metadata": {},
   "source": [
    "# Module 6.2.4: Get Data from a Response"
   ]
  },
  {
   "cell_type": "code",
   "execution_count": 13,
   "metadata": {},
   "outputs": [
    {
     "data": {
      "text/plain": [
       "<Response [200]>"
      ]
     },
     "execution_count": 13,
     "metadata": {},
     "output_type": "execute_result"
    }
   ],
   "source": [
    "# Create an endpoint URL for a city.\n",
    "city_url = url + \"&q=\" + \"Boston\"\n",
    "city_weather = requests.get(city_url)\n",
    "city_weather\n",
    "\n",
    "#When we run this cell the output is \"<Response [200]>.\"\n",
    "#When we receive a valid response from the server, we have to decide on the data format. The options are text, JSON, XML, \n",
    "#or HTML format. We can apply the format attributes to get the data into a useful format to parse.\n",
    "#One format that provides a preview of the JSON data is the text attribute. Let's get the content for the Boston weather \n",
    "#data using the following code."
   ]
  },
  {
   "cell_type": "code",
   "execution_count": 14,
   "metadata": {},
   "outputs": [
    {
     "data": {
      "text/plain": [
       "'{\"coord\":{\"lon\":-71.0598,\"lat\":42.3584},\"weather\":[{\"id\":804,\"main\":\"Clouds\",\"description\":\"overcast clouds\",\"icon\":\"04d\"}],\"base\":\"stations\",\"main\":{\"temp\":58.21,\"feels_like\":53.46,\"temp_min\":51.8,\"temp_max\":64,\"pressure\":1024,\"humidity\":71},\"visibility\":10000,\"wind\":{\"speed\":8.05,\"deg\":70},\"clouds\":{\"all\":90},\"dt\":1616611669,\"sys\":{\"type\":1,\"id\":3486,\"country\":\"US\",\"sunrise\":1616582406,\"sunset\":1616626836},\"timezone\":-14400,\"id\":4930956,\"name\":\"Boston\",\"cod\":200}'"
      ]
     },
     "execution_count": 14,
     "metadata": {},
     "output_type": "execute_result"
    }
   ],
   "source": [
    "# Get the text of the 'Get' request.\n",
    "city_weather.text\n",
    "#The text in the output is a dictionary of dictionaries and arrays, or a JSON file. We can work with this data, but it \n",
    "#might be more challenging if we needed to retrieve temperature (temp) and humidity ( humidity) from this output because \n",
    "#the data is in a sentence format."
   ]
  },
  {
   "cell_type": "code",
   "execution_count": 15,
   "metadata": {},
   "outputs": [
    {
     "data": {
      "text/plain": [
       "{'coord': {'lon': -71.0598, 'lat': 42.3584},\n",
       " 'weather': [{'id': 804,\n",
       "   'main': 'Clouds',\n",
       "   'description': 'overcast clouds',\n",
       "   'icon': '04d'}],\n",
       " 'base': 'stations',\n",
       " 'main': {'temp': 58.21,\n",
       "  'feels_like': 53.46,\n",
       "  'temp_min': 51.8,\n",
       "  'temp_max': 64,\n",
       "  'pressure': 1024,\n",
       "  'humidity': 71},\n",
       " 'visibility': 10000,\n",
       " 'wind': {'speed': 8.05, 'deg': 70},\n",
       " 'clouds': {'all': 90},\n",
       " 'dt': 1616611669,\n",
       " 'sys': {'type': 1,\n",
       "  'id': 3486,\n",
       "  'country': 'US',\n",
       "  'sunrise': 1616582406,\n",
       "  'sunset': 1616626836},\n",
       " 'timezone': -14400,\n",
       " 'id': 4930956,\n",
       " 'name': 'Boston',\n",
       " 'cod': 200}"
      ]
     },
     "execution_count": 15,
     "metadata": {},
     "output_type": "execute_result"
    }
   ],
   "source": [
    "# Get the JSON text of the 'Get' request.\n",
    "city_weather.json()"
   ]
  },
  {
   "cell_type": "markdown",
   "metadata": {},
   "source": [
    "# Module 6.2.4: Handle Request Errors"
   ]
  },
  {
   "cell_type": "code",
   "execution_count": 16,
   "metadata": {},
   "outputs": [
    {
     "name": "stdout",
     "output_type": "stream",
     "text": [
      "City Weather found.\n"
     ]
    }
   ],
   "source": [
    "#When we submit a get request for the city_weather, we want to make sure that we get a valid response, i.e., 200, before \n",
    "#we retrieve any data. To check if we get a valid response, we can write a conditional expression that will evaluate \n",
    "#whether the status code is equal to 200. If it is, then we can print out a statement that says the weather data was found. \n",
    "#If there is a response other than 200, we can print out a statement that says the weather was not found, as in the \n",
    "#following example:\n",
    "# Create an endpoint URL for a city.\n",
    "city_url = url + \"&q=\" + \"Boston\"\n",
    "city_weather = requests.get(city_url)\n",
    "if city_weather.status_code == 200:\n",
    "    print(f\"City Weather found.\")\n",
    "else:\n",
    "    print(f\"City weather not found.\")\n",
    "    \n",
    "#When the conditional expression is evaluated, it will print City weather found if true, or City weather not found if false.\n",
    "#When we run the cell code above, the output is City weather found."
   ]
  },
  {
   "cell_type": "code",
   "execution_count": 17,
   "metadata": {},
   "outputs": [
    {
     "name": "stdout",
     "output_type": "stream",
     "text": [
      "http://api.openweathermap.org/data/2.5/weather?units=Imperial&APPID=f1fbebd8ae0bab942dba92d8bad5d83b&q=Boston&q=Boston\n"
     ]
    }
   ],
   "source": [
    "#However, if we type print(city_url) in a new cell and run the cell, the output will be a URL. If we click the URL, the \n",
    "#web browser returns a 404 response and there is no data to retrieve.\n",
    "print(city_url)\n"
   ]
  },
  {
   "cell_type": "markdown",
   "metadata": {},
   "source": [
    "# Module 6.2.5: Parse a Response from an API"
   ]
  },
  {
   "cell_type": "code",
   "execution_count": 18,
   "metadata": {},
   "outputs": [
    {
     "data": {
      "text/plain": [
       "{'coord': {'lon': -71.0598, 'lat': 42.3584},\n",
       " 'weather': [{'id': 804,\n",
       "   'main': 'Clouds',\n",
       "   'description': 'overcast clouds',\n",
       "   'icon': '04d'}],\n",
       " 'base': 'stations',\n",
       " 'main': {'temp': 58.21,\n",
       "  'feels_like': 53.46,\n",
       "  'temp_min': 51.8,\n",
       "  'temp_max': 64,\n",
       "  'pressure': 1024,\n",
       "  'humidity': 71},\n",
       " 'visibility': 10000,\n",
       " 'wind': {'speed': 8.05, 'deg': 70},\n",
       " 'clouds': {'all': 90},\n",
       " 'dt': 1616611669,\n",
       " 'sys': {'type': 1,\n",
       "  'id': 3486,\n",
       "  'country': 'US',\n",
       "  'sunrise': 1616582406,\n",
       "  'sunset': 1616626836},\n",
       " 'timezone': -14400,\n",
       " 'id': 4930956,\n",
       " 'name': 'Boston',\n",
       " 'cod': 200}"
      ]
     },
     "execution_count": 18,
     "metadata": {},
     "output_type": "execute_result"
    }
   ],
   "source": [
    "#Before we collect weather data from more than 500 cities, we'll walk through how to get the weather data from Boston. \n",
    "#First, correct the spelling for the city of Boston to get a valid URL\n",
    "# Create an endpoint URL for a city.\n",
    "city_url = url + \"&q=\" + \"Boston\"\n",
    "city_weather = requests.get(city_url)\n",
    "city_weather.json()"
   ]
  },
  {
   "cell_type": "code",
   "execution_count": 19,
   "metadata": {},
   "outputs": [],
   "source": [
    "#let's assign a variable to the city_weather.json() data to the variable \"boston_data\" \n",
    "# Get the JSON data.\n",
    "boston_data = city_weather.json()"
   ]
  },
  {
   "cell_type": "code",
   "execution_count": 20,
   "metadata": {},
   "outputs": [
    {
     "data": {
      "text/plain": [
       "'US'"
      ]
     },
     "execution_count": 20,
     "metadata": {},
     "output_type": "execute_result"
    }
   ],
   "source": [
    "boston_data['sys']['country']"
   ]
  },
  {
   "cell_type": "code",
   "execution_count": 21,
   "metadata": {},
   "outputs": [
    {
     "data": {
      "text/plain": [
       "1616611669"
      ]
     },
     "execution_count": 21,
     "metadata": {},
     "output_type": "execute_result"
    }
   ],
   "source": [
    "#If we want to retrieve the date in the weather data, we would add the dt key to the boston_data variable\n",
    "boston_data[\"dt\"]"
   ]
  },
  {
   "cell_type": "code",
   "execution_count": 22,
   "metadata": {},
   "outputs": [
    {
     "name": "stdout",
     "output_type": "stream",
     "text": [
      "42.3584 -71.0598 64 71 90 8.05\n"
     ]
    }
   ],
   "source": [
    "#Using similar syntax to get the time of day, we can get the latitude, longitude, maximum temperature, humidity, \n",
    "#percent cloudiness, and wind speed. Add the following code to a new cell and run the cell.\n",
    "\n",
    "lat = boston_data[\"coord\"][\"lat\"]\n",
    "lng = boston_data[\"coord\"][\"lon\"]\n",
    "max_temp = boston_data[\"main\"][\"temp_max\"]\n",
    "humidity = boston_data[\"main\"][\"humidity\"]\n",
    "clouds = boston_data[\"clouds\"][\"all\"]\n",
    "wind = boston_data[\"wind\"][\"speed\"]\n",
    "print(lat, lng, max_temp, humidity, clouds, wind)"
   ]
  },
  {
   "cell_type": "markdown",
   "metadata": {},
   "source": [
    "# Module 6.2.5: Convert the Date Timestamp"
   ]
  },
  {
   "cell_type": "code",
   "execution_count": 23,
   "metadata": {},
   "outputs": [
    {
     "data": {
      "text/plain": [
       "datetime.datetime(2021, 3, 24, 18, 47, 49)"
      ]
     },
     "execution_count": 23,
     "metadata": {},
     "output_type": "execute_result"
    }
   ],
   "source": [
    "#Let's convert the date from the Boston weather data in the JSON format to the ISO format\n",
    "\n",
    "# Import the datetime module from the datetime library.\n",
    "from datetime import datetime\n",
    "# Get the date from the JSON file.\n",
    "date = boston_data[\"dt\"]\n",
    "# Convert the UTC date to a date format with year, month, day, hours, minutes, and seconds.\n",
    "datetime.utcfromtimestamp(date)"
   ]
  },
  {
   "cell_type": "markdown",
   "metadata": {},
   "source": [
    "# Module 6.2.6: Get the City Weather Data\n"
   ]
  },
  {
   "cell_type": "code",
   "execution_count": 24,
   "metadata": {},
   "outputs": [],
   "source": [
    "#1. Import our dependencies and initialize counters and an empty list that will hold the weather data.\n",
    "#2. Loop through the cities list.\n",
    "#3. Group the cities in sets of 50 to log the process as we find the weather data for each city.\n",
    "    #Two counters will be needed here: one to log the city count from 1 to 50, and another for the sets.\n",
    "#4. Build the city_url or endpoint for each city.\n",
    "#5. Log the URL and the record and set numbers.\n",
    "#6. Make an API request for each city.\n",
    "#7. Parse the JSON weather data for the following:\n",
    "    #City, country, and date\n",
    "    #Latitude and longitude\n",
    "    #Maximum temperature\n",
    "    #Humidity\n",
    "    #Cloudiness\n",
    "    #Wind speed\n",
    "#8. Add the data to a list in a dictionary format and then convert the list to a DataFrame."
   ]
  },
  {
   "cell_type": "markdown",
   "metadata": {},
   "source": [
    "# 1. Import Dependencies, and Initialize an Empty List and Counters"
   ]
  },
  {
   "cell_type": "code",
   "execution_count": 25,
   "metadata": {},
   "outputs": [],
   "source": [
    "# Import the datetime module from the datetime library.\n",
    "from datetime import datetime\n",
    "\n",
    "# Import the requests library.\n",
    "import requests\n",
    "\n",
    "# Import the API key.\n",
    "from config import weather_api_key\n",
    "\n",
    "# Import the datetime module from the datetime library.\n",
    "from datetime import datetime"
   ]
  },
  {
   "cell_type": "code",
   "execution_count": 26,
   "metadata": {},
   "outputs": [],
   "source": [
    "url = \"http://api.openweathermap.org/data/2.5/weather?units=Imperial&APPID=\" + weather_api_key"
   ]
  },
  {
   "cell_type": "code",
   "execution_count": 27,
   "metadata": {},
   "outputs": [
    {
     "name": "stdout",
     "output_type": "stream",
     "text": [
      "Beginning Data Retrieval     \n",
      "-----------------------------\n"
     ]
    }
   ],
   "source": [
    "# Create an empty list to hold the weather data.\n",
    "city_data = []\n",
    "# Print the beginning of the logging.\n",
    "print(\"Beginning Data Retrieval     \")\n",
    "print(\"-----------------------------\")\n",
    "\n",
    "# Create counters.\n",
    "record_count = 1\n",
    "set_count = 1\n",
    "\n",
    "#In the code block, we have initialized the counters at 1 because we want the first iteration of the logging for each \n",
    "#recorded response and the set to start at 1."
   ]
  },
  {
   "cell_type": "markdown",
   "metadata": {},
   "source": [
    "# 2. Loop Through the List of Cities and Build the City URL"
   ]
  },
  {
   "cell_type": "code",
   "execution_count": 28,
   "metadata": {},
   "outputs": [
    {
     "name": "stdout",
     "output_type": "stream",
     "text": [
      "Processing Record 1 of Set 1 | acari\n",
      "Processing Record 2 of Set 1 | port alfred\n",
      "Processing Record 3 of Set 1 | rikitea\n",
      "Processing Record 4 of Set 1 | kavieng\n",
      "Processing Record 5 of Set 1 | upernavik\n",
      "Processing Record 6 of Set 1 | kapaa\n",
      "Processing Record 7 of Set 1 | longyearbyen\n",
      "Processing Record 8 of Set 1 | cape town\n",
      "Processing Record 9 of Set 1 | margate\n",
      "Processing Record 10 of Set 1 | castro\n",
      "Processing Record 11 of Set 1 | chokurdakh\n",
      "Processing Record 12 of Set 1 | mataura\n",
      "Processing Record 13 of Set 1 | illoqqortoormiut\n",
      "City not found. Skipping...\n",
      "Processing Record 14 of Set 1 | dingle\n",
      "Processing Record 15 of Set 1 | thompson\n",
      "Processing Record 16 of Set 1 | chuy\n",
      "Processing Record 17 of Set 1 | bluff\n",
      "Processing Record 18 of Set 1 | letlhakane\n",
      "Processing Record 19 of Set 1 | kodiak\n",
      "Processing Record 20 of Set 1 | alotau\n",
      "City not found. Skipping...\n",
      "Processing Record 21 of Set 1 | meulaboh\n",
      "Processing Record 22 of Set 1 | tarko-sale\n",
      "Processing Record 23 of Set 1 | bafq\n",
      "Processing Record 24 of Set 1 | busselton\n",
      "Processing Record 25 of Set 1 | vestmanna\n",
      "Processing Record 26 of Set 1 | faanui\n",
      "Processing Record 27 of Set 1 | corpus christi\n",
      "Processing Record 28 of Set 1 | belushya guba\n",
      "City not found. Skipping...\n",
      "Processing Record 29 of Set 1 | chimbote\n",
      "Processing Record 30 of Set 1 | narsaq\n",
      "Processing Record 31 of Set 1 | barrow\n",
      "Processing Record 32 of Set 1 | strezhevoy\n",
      "Processing Record 33 of Set 1 | saint-philippe\n",
      "Processing Record 34 of Set 1 | ushuaia\n",
      "Processing Record 35 of Set 1 | punta arenas\n",
      "Processing Record 36 of Set 1 | new norfolk\n",
      "Processing Record 37 of Set 1 | saskylakh\n",
      "Processing Record 38 of Set 1 | cherskiy\n",
      "Processing Record 39 of Set 1 | sorong\n",
      "Processing Record 40 of Set 1 | viedma\n",
      "Processing Record 41 of Set 1 | sentyabrskiy\n",
      "City not found. Skipping...\n",
      "Processing Record 42 of Set 1 | ilulissat\n",
      "Processing Record 43 of Set 1 | klaksvik\n",
      "Processing Record 44 of Set 1 | mys shmidta\n",
      "City not found. Skipping...\n",
      "Processing Record 45 of Set 1 | atuona\n",
      "Processing Record 46 of Set 1 | port elizabeth\n",
      "Processing Record 47 of Set 1 | souillac\n",
      "Processing Record 48 of Set 1 | wanning\n",
      "Processing Record 49 of Set 1 | bredasdorp\n",
      "Processing Record 50 of Set 1 | piterka\n",
      "Processing Record 1 of Set 2 | mendahara\n",
      "City not found. Skipping...\n",
      "Processing Record 2 of Set 2 | grants pass\n",
      "Processing Record 3 of Set 2 | arraial do cabo\n",
      "Processing Record 4 of Set 2 | taolanaro\n",
      "City not found. Skipping...\n",
      "Processing Record 5 of Set 2 | cap malheureux\n",
      "Processing Record 6 of Set 2 | axim\n",
      "Processing Record 7 of Set 2 | saint-pierre\n",
      "Processing Record 8 of Set 2 | nanzhang\n",
      "Processing Record 9 of Set 2 | hihifo\n",
      "City not found. Skipping...\n",
      "Processing Record 10 of Set 2 | avera\n",
      "Processing Record 11 of Set 2 | sibu\n",
      "Processing Record 12 of Set 2 | honningsvag\n",
      "Processing Record 13 of Set 2 | lovozero\n",
      "Processing Record 14 of Set 2 | yellowknife\n",
      "Processing Record 15 of Set 2 | adrar\n",
      "Processing Record 16 of Set 2 | grand river south east\n",
      "City not found. Skipping...\n",
      "Processing Record 17 of Set 2 | dukat\n",
      "Processing Record 18 of Set 2 | saldanha\n",
      "Processing Record 19 of Set 2 | sitka\n",
      "Processing Record 20 of Set 2 | la argentina\n",
      "Processing Record 21 of Set 2 | siilinjarvi\n",
      "Processing Record 22 of Set 2 | bollnas\n",
      "Processing Record 23 of Set 2 | tuktoyaktuk\n",
      "Processing Record 24 of Set 2 | moroni\n",
      "Processing Record 25 of Set 2 | thinadhoo\n",
      "Processing Record 26 of Set 2 | behshahr\n",
      "Processing Record 27 of Set 2 | vaini\n",
      "Processing Record 28 of Set 2 | kieta\n",
      "Processing Record 29 of Set 2 | marsabit\n",
      "Processing Record 30 of Set 2 | san policarpo\n",
      "Processing Record 31 of Set 2 | carnarvon\n",
      "Processing Record 32 of Set 2 | rio gallegos\n",
      "Processing Record 33 of Set 2 | santa maria\n",
      "Processing Record 34 of Set 2 | albany\n",
      "Processing Record 35 of Set 2 | itarema\n",
      "Processing Record 36 of Set 2 | ribeira grande\n",
      "Processing Record 37 of Set 2 | ponta delgada\n",
      "Processing Record 38 of Set 2 | lingyuan\n",
      "Processing Record 39 of Set 2 | torbay\n",
      "Processing Record 40 of Set 2 | samusu\n",
      "City not found. Skipping...\n",
      "Processing Record 41 of Set 2 | yirol\n",
      "City not found. Skipping...\n",
      "Processing Record 42 of Set 2 | cartagena\n",
      "Processing Record 43 of Set 2 | bougouni\n",
      "Processing Record 44 of Set 2 | mount isa\n",
      "Processing Record 45 of Set 2 | cabo san lucas\n",
      "Processing Record 46 of Set 2 | pisco\n",
      "Processing Record 47 of Set 2 | maraba\n",
      "Processing Record 48 of Set 2 | roald\n",
      "Processing Record 49 of Set 2 | conde\n",
      "Processing Record 50 of Set 2 | kjollefjord\n",
      "Processing Record 1 of Set 3 | praia\n",
      "Processing Record 2 of Set 3 | sal rei\n",
      "Processing Record 3 of Set 3 | vao\n",
      "Processing Record 4 of Set 3 | remanso\n",
      "Processing Record 5 of Set 3 | ziro\n",
      "Processing Record 6 of Set 3 | puerto ayora\n",
      "Processing Record 7 of Set 3 | grindavik\n",
      "Processing Record 8 of Set 3 | khatanga\n",
      "Processing Record 9 of Set 3 | ksenyevka\n",
      "City not found. Skipping...\n",
      "Processing Record 10 of Set 3 | hermanus\n",
      "Processing Record 11 of Set 3 | payson\n",
      "Processing Record 12 of Set 3 | tunxi\n",
      "City not found. Skipping...\n",
      "Processing Record 13 of Set 3 | ixtapa\n",
      "Processing Record 14 of Set 3 | noumea\n",
      "Processing Record 15 of Set 3 | dzerzhinsk\n",
      "Processing Record 16 of Set 3 | kasongo-lunda\n",
      "Processing Record 17 of Set 3 | bowmore\n",
      "Processing Record 18 of Set 3 | kuche\n",
      "City not found. Skipping...\n",
      "Processing Record 19 of Set 3 | broken hill\n",
      "Processing Record 20 of Set 3 | lompoc\n",
      "Processing Record 21 of Set 3 | sao filipe\n",
      "Processing Record 22 of Set 3 | lillooet\n",
      "Processing Record 23 of Set 3 | san francisco de coray\n",
      "Processing Record 24 of Set 3 | marcona\n",
      "City not found. Skipping...\n",
      "Processing Record 25 of Set 3 | skjervoy\n",
      "Processing Record 26 of Set 3 | vrangel\n",
      "Processing Record 27 of Set 3 | mar del plata\n",
      "Processing Record 28 of Set 3 | riyadh\n",
      "Processing Record 29 of Set 3 | pevek\n",
      "Processing Record 30 of Set 3 | bestobe\n",
      "Processing Record 31 of Set 3 | villa de san francisco\n",
      "Processing Record 32 of Set 3 | east london\n",
      "Processing Record 33 of Set 3 | raudeberg\n",
      "Processing Record 34 of Set 3 | jamestown\n",
      "Processing Record 35 of Set 3 | alvaraes\n",
      "Processing Record 36 of Set 3 | salisbury\n",
      "Processing Record 37 of Set 3 | bubaque\n",
      "Processing Record 38 of Set 3 | saint george\n",
      "Processing Record 39 of Set 3 | attawapiskat\n",
      "City not found. Skipping...\n",
      "Processing Record 40 of Set 3 | adamas\n",
      "Processing Record 41 of Set 3 | geraldton\n",
      "Processing Record 42 of Set 3 | shu\n",
      "Processing Record 43 of Set 3 | georgetown\n",
      "Processing Record 44 of Set 3 | taltal\n",
      "Processing Record 45 of Set 3 | hay river\n",
      "Processing Record 46 of Set 3 | san patricio\n",
      "Processing Record 47 of Set 3 | hilo\n",
      "Processing Record 48 of Set 3 | zdvinsk\n",
      "Processing Record 49 of Set 3 | viligili\n",
      "City not found. Skipping...\n",
      "Processing Record 50 of Set 3 | killarney\n",
      "Processing Record 1 of Set 4 | gospic\n",
      "Processing Record 2 of Set 4 | nikolskoye\n",
      "Processing Record 3 of Set 4 | areia branca\n",
      "Processing Record 4 of Set 4 | olkhovka\n",
      "Processing Record 5 of Set 4 | schladming\n",
      "Processing Record 6 of Set 4 | grand gaube\n",
      "Processing Record 7 of Set 4 | tapaua\n",
      "City not found. Skipping...\n",
      "Processing Record 8 of Set 4 | boyolangu\n",
      "Processing Record 9 of Set 4 | akhmim\n",
      "Processing Record 10 of Set 4 | puerto cabezas\n",
      "Processing Record 11 of Set 4 | olinda\n",
      "Processing Record 12 of Set 4 | cockburn town\n",
      "Processing Record 13 of Set 4 | kodinsk\n",
      "Processing Record 14 of Set 4 | namibe\n",
      "Processing Record 15 of Set 4 | fare\n",
      "Processing Record 16 of Set 4 | jacqueville\n",
      "Processing Record 17 of Set 4 | qaanaaq\n",
      "Processing Record 18 of Set 4 | dartford\n",
      "Processing Record 19 of Set 4 | tasiilaq\n",
      "Processing Record 20 of Set 4 | ponta do sol\n",
      "Processing Record 21 of Set 4 | medyn\n",
      "Processing Record 22 of Set 4 | kang\n",
      "Processing Record 23 of Set 4 | ahipara\n",
      "Processing Record 24 of Set 4 | kavaratti\n",
      "Processing Record 25 of Set 4 | bengkulu\n",
      "Processing Record 26 of Set 4 | isangel\n",
      "Processing Record 27 of Set 4 | butaritari\n",
      "Processing Record 28 of Set 4 | merauke\n",
      "Processing Record 29 of Set 4 | mouzouras\n",
      "Processing Record 30 of Set 4 | bethel\n",
      "Processing Record 31 of Set 4 | kazalinsk\n",
      "City not found. Skipping...\n",
      "Processing Record 32 of Set 4 | vila velha\n",
      "Processing Record 33 of Set 4 | haverfordwest\n",
      "Processing Record 34 of Set 4 | dutlwe\n",
      "Processing Record 35 of Set 4 | tsihombe\n",
      "City not found. Skipping...\n",
      "Processing Record 36 of Set 4 | mackay\n"
     ]
    },
    {
     "name": "stdout",
     "output_type": "stream",
     "text": [
      "Processing Record 37 of Set 4 | westport\n",
      "Processing Record 38 of Set 4 | ostrovnoy\n",
      "Processing Record 39 of Set 4 | hirado\n",
      "Processing Record 40 of Set 4 | esna\n",
      "Processing Record 41 of Set 4 | mendi\n",
      "Processing Record 42 of Set 4 | amderma\n",
      "City not found. Skipping...\n",
      "Processing Record 43 of Set 4 | caravelas\n",
      "Processing Record 44 of Set 4 | henties bay\n",
      "Processing Record 45 of Set 4 | severo-kurilsk\n",
      "Processing Record 46 of Set 4 | tilichiki\n",
      "Processing Record 47 of Set 4 | fairbanks\n",
      "Processing Record 48 of Set 4 | airai\n",
      "Processing Record 49 of Set 4 | borba\n",
      "Processing Record 50 of Set 4 | leningradskiy\n",
      "Processing Record 1 of Set 5 | san luis\n",
      "Processing Record 2 of Set 5 | waiouru\n",
      "Processing Record 3 of Set 5 | hami\n",
      "Processing Record 4 of Set 5 | laguna\n",
      "Processing Record 5 of Set 5 | yenagoa\n",
      "Processing Record 6 of Set 5 | kamloops\n",
      "Processing Record 7 of Set 5 | mahebourg\n",
      "Processing Record 8 of Set 5 | chara\n",
      "Processing Record 9 of Set 5 | fortuna\n",
      "Processing Record 10 of Set 5 | pandan\n",
      "Processing Record 11 of Set 5 | matay\n",
      "Processing Record 12 of Set 5 | umzimvubu\n",
      "City not found. Skipping...\n",
      "Processing Record 13 of Set 5 | sangar\n",
      "Processing Record 14 of Set 5 | livingstonia\n",
      "Processing Record 15 of Set 5 | sungai besar\n",
      "Processing Record 16 of Set 5 | duz\n",
      "City not found. Skipping...\n",
      "Processing Record 17 of Set 5 | tieling\n",
      "Processing Record 18 of Set 5 | garowe\n",
      "Processing Record 19 of Set 5 | ilo\n",
      "Processing Record 20 of Set 5 | hobart\n",
      "Processing Record 21 of Set 5 | dikson\n",
      "Processing Record 22 of Set 5 | nizhneyansk\n",
      "City not found. Skipping...\n",
      "Processing Record 23 of Set 5 | bose\n",
      "Processing Record 24 of Set 5 | paita\n",
      "Processing Record 25 of Set 5 | semey\n",
      "Processing Record 26 of Set 5 | la ronge\n",
      "Processing Record 27 of Set 5 | kudahuvadhoo\n",
      "Processing Record 28 of Set 5 | nkhata bay\n",
      "Processing Record 29 of Set 5 | vaitupu\n",
      "City not found. Skipping...\n",
      "Processing Record 30 of Set 5 | nome\n",
      "Processing Record 31 of Set 5 | novikovo\n",
      "Processing Record 32 of Set 5 | qinhuangdao\n",
      "Processing Record 33 of Set 5 | avarua\n",
      "Processing Record 34 of Set 5 | padang\n",
      "Processing Record 35 of Set 5 | colombo\n",
      "Processing Record 36 of Set 5 | necochea\n",
      "Processing Record 37 of Set 5 | aden\n",
      "Processing Record 38 of Set 5 | katsuura\n",
      "Processing Record 39 of Set 5 | lake havasu city\n",
      "Processing Record 40 of Set 5 | lebu\n",
      "Processing Record 41 of Set 5 | oistins\n",
      "Processing Record 42 of Set 5 | kaupanger\n",
      "Processing Record 43 of Set 5 | sorland\n",
      "Processing Record 44 of Set 5 | dawlatabad\n",
      "Processing Record 45 of Set 5 | utiroa\n",
      "City not found. Skipping...\n",
      "Processing Record 46 of Set 5 | embonas\n",
      "Processing Record 47 of Set 5 | ballina\n",
      "Processing Record 48 of Set 5 | tiksi\n",
      "Processing Record 49 of Set 5 | monrovia\n",
      "Processing Record 50 of Set 5 | te anau\n",
      "Processing Record 1 of Set 6 | bilma\n",
      "Processing Record 2 of Set 6 | bairiki\n",
      "Processing Record 3 of Set 6 | gat\n",
      "Processing Record 4 of Set 6 | barentsburg\n",
      "City not found. Skipping...\n",
      "Processing Record 5 of Set 6 | qasigiannguit\n",
      "Processing Record 6 of Set 6 | imeni poliny osipenko\n",
      "Processing Record 7 of Set 6 | atar\n",
      "Processing Record 8 of Set 6 | stornoway\n",
      "Processing Record 9 of Set 6 | dawson creek\n",
      "Processing Record 10 of Set 6 | umm ruwabah\n",
      "City not found. Skipping...\n",
      "Processing Record 11 of Set 6 | zaysan\n",
      "Processing Record 12 of Set 6 | pimentel\n",
      "Processing Record 13 of Set 6 | faya\n",
      "Processing Record 14 of Set 6 | hualmay\n",
      "Processing Record 15 of Set 6 | san cristobal\n",
      "Processing Record 16 of Set 6 | camopi\n",
      "Processing Record 17 of Set 6 | warrington\n",
      "Processing Record 18 of Set 6 | pangnirtung\n",
      "Processing Record 19 of Set 6 | richards bay\n",
      "Processing Record 20 of Set 6 | lorch\n",
      "Processing Record 21 of Set 6 | uruzgan\n",
      "Processing Record 22 of Set 6 | vila franca do campo\n",
      "Processing Record 23 of Set 6 | egvekinot\n",
      "Processing Record 24 of Set 6 | humaita\n",
      "Processing Record 25 of Set 6 | kabompo\n",
      "Processing Record 26 of Set 6 | victoria\n",
      "Processing Record 27 of Set 6 | provideniya\n",
      "Processing Record 28 of Set 6 | bandarbeyla\n",
      "Processing Record 29 of Set 6 | aklavik\n",
      "Processing Record 30 of Set 6 | batticaloa\n",
      "Processing Record 31 of Set 6 | tevriz\n",
      "Processing Record 32 of Set 6 | palu\n",
      "Processing Record 33 of Set 6 | vila\n",
      "Processing Record 34 of Set 6 | srednekolymsk\n",
      "Processing Record 35 of Set 6 | sambava\n",
      "Processing Record 36 of Set 6 | vostok\n",
      "Processing Record 37 of Set 6 | aloleng\n",
      "Processing Record 38 of Set 6 | esperance\n",
      "Processing Record 39 of Set 6 | maragogi\n",
      "Processing Record 40 of Set 6 | vigrestad\n",
      "Processing Record 41 of Set 6 | nikolayevsk-na-amure\n",
      "Processing Record 42 of Set 6 | karratha\n",
      "Processing Record 43 of Set 6 | kruisfontein\n",
      "-----------------------------\n",
      "Data Retrieval Complete      \n",
      "-----------------------------\n"
     ]
    }
   ],
   "source": [
    "# Loop through all the cities in the list.\n",
    "for i, city in enumerate(cities):\n",
    "\n",
    "    # Group cities in sets of 50 for logging purposes.\n",
    "    if (i % 50 == 0 and i >= 50):\n",
    "        set_count += 1\n",
    "        record_count = 1\n",
    "    # Create endpoint URL with each city.\n",
    "    city_url = url + \"&q=\" + city.replace(\" \",\"+\")\n",
    "\n",
    "    # Log the URL, record, and set numbers and the city.\n",
    "    print(f\"Processing Record {record_count} of Set {set_count} | {city}\")\n",
    "    # Add 1 to the record count.\n",
    "    record_count += 1\n",
    "    \n",
    "    # Run an API request for each of the cities.\n",
    "    try:\n",
    "        # Parse the JSON and retrieve data.\n",
    "        city_weather = requests.get(city_url).json()\n",
    "        # Parse out the needed data.\n",
    "        city_lat = city_weather[\"coord\"][\"lat\"]\n",
    "        city_lng = city_weather[\"coord\"][\"lon\"]\n",
    "        city_max_temp = city_weather[\"main\"][\"temp_max\"]\n",
    "        city_humidity = city_weather[\"main\"][\"humidity\"]\n",
    "        city_clouds = city_weather[\"clouds\"][\"all\"]\n",
    "        city_wind = city_weather[\"wind\"][\"speed\"]\n",
    "        city_country = city_weather[\"sys\"][\"country\"]\n",
    "        # Convert the date to ISO standard.\n",
    "        city_date = datetime.utcfromtimestamp(city_weather[\"dt\"]).strftime('%Y-%m-%d %H:%M:%S')\n",
    "        # Append the city information into city_data list.\n",
    "        city_data.append({\"City\": city.title(),\n",
    "                          \"Lat\": city_lat,\n",
    "                          \"Lng\": city_lng,\n",
    "                          \"Max Temp\": city_max_temp,\n",
    "                          \"Humidity\": city_humidity,\n",
    "                          \"Cloudiness\": city_clouds,\n",
    "                          \"Wind Speed\": city_wind,\n",
    "                          \"Country\": city_country,\n",
    "                          \"Date\": city_date})\n",
    "\n",
    "# If an error is experienced, skip the city.\n",
    "    except:\n",
    "        print(\"City not found. Skipping...\")\n",
    "        pass\n",
    "\n",
    "# Indicate that Data Loading is complete.\n",
    "print(\"-----------------------------\")\n",
    "print(\"Data Retrieval Complete      \")\n",
    "print(\"-----------------------------\")\n",
    "\n",
    "#Let's review the code:\n",
    "\n",
    "#We parse the JSON file for the current city.\n",
    "#If there is no weather data for the city, i.e. , a <Response [404]> then there is no weather to retrieve and City not found. Skipping... is printed.\n",
    "#If there is weather data for the city, we will retrieve the latitude, longitude, maximum temperature, humidity, cloudiness,\n",
    "#wind speed, and date and assign those values to variables.\n",
    "#We could write a try-except block for each one of these parameters to handle the KeyError if the data wasn't found, but \n",
    "#since these parameters are always present in the response this won't be necessary.\n",
    "#We append the cities list with a dictionary for that city, where the key-value pairs are the values from our weather \n",
    "#parameters.\n",
    "#Finally, below the try block and after the except block, we add the closing print statement, which will let us know the \n",
    "#data retrieval has been completed. Make sure that your except block is indented and in line with the try block, and that \n",
    "#the print statements are flush with the margin.\n",
    "#Under the print statement in the except block, we add the pass statement, which is a general purpose statement to handle \n",
    "#all errors encountered and to allow the program to continue."
   ]
  },
  {
   "cell_type": "code",
   "execution_count": 29,
   "metadata": {},
   "outputs": [
    {
     "data": {
      "text/plain": [
       "265"
      ]
     },
     "execution_count": 29,
     "metadata": {},
     "output_type": "execute_result"
    }
   ],
   "source": [
    "# tally the number of cities in the city_data array\n",
    "len(city_data)"
   ]
  },
  {
   "cell_type": "markdown",
   "metadata": {},
   "source": [
    "# Module 6.2.7: Create a DataFrame of City Weather Data"
   ]
  },
  {
   "cell_type": "code",
   "execution_count": 30,
   "metadata": {},
   "outputs": [
    {
     "data": {
      "text/html": [
       "<div>\n",
       "<style scoped>\n",
       "    .dataframe tbody tr th:only-of-type {\n",
       "        vertical-align: middle;\n",
       "    }\n",
       "\n",
       "    .dataframe tbody tr th {\n",
       "        vertical-align: top;\n",
       "    }\n",
       "\n",
       "    .dataframe thead th {\n",
       "        text-align: right;\n",
       "    }\n",
       "</style>\n",
       "<table border=\"1\" class=\"dataframe\">\n",
       "  <thead>\n",
       "    <tr style=\"text-align: right;\">\n",
       "      <th></th>\n",
       "      <th>City</th>\n",
       "      <th>Lat</th>\n",
       "      <th>Lng</th>\n",
       "      <th>Max Temp</th>\n",
       "      <th>Humidity</th>\n",
       "      <th>Cloudiness</th>\n",
       "      <th>Wind Speed</th>\n",
       "      <th>Country</th>\n",
       "      <th>Date</th>\n",
       "    </tr>\n",
       "  </thead>\n",
       "  <tbody>\n",
       "    <tr>\n",
       "      <th>0</th>\n",
       "      <td>Acari</td>\n",
       "      <td>-15.4311</td>\n",
       "      <td>-74.6158</td>\n",
       "      <td>82.83</td>\n",
       "      <td>51</td>\n",
       "      <td>25</td>\n",
       "      <td>11.23</td>\n",
       "      <td>PE</td>\n",
       "      <td>2021-03-24 18:52:21</td>\n",
       "    </tr>\n",
       "    <tr>\n",
       "      <th>1</th>\n",
       "      <td>Port Alfred</td>\n",
       "      <td>-33.5906</td>\n",
       "      <td>26.8910</td>\n",
       "      <td>70.97</td>\n",
       "      <td>76</td>\n",
       "      <td>100</td>\n",
       "      <td>19.44</td>\n",
       "      <td>ZA</td>\n",
       "      <td>2021-03-24 18:52:22</td>\n",
       "    </tr>\n",
       "    <tr>\n",
       "      <th>2</th>\n",
       "      <td>Rikitea</td>\n",
       "      <td>-23.1203</td>\n",
       "      <td>-134.9692</td>\n",
       "      <td>79.36</td>\n",
       "      <td>66</td>\n",
       "      <td>0</td>\n",
       "      <td>12.26</td>\n",
       "      <td>PF</td>\n",
       "      <td>2021-03-24 18:48:20</td>\n",
       "    </tr>\n",
       "    <tr>\n",
       "      <th>3</th>\n",
       "      <td>Kavieng</td>\n",
       "      <td>-2.5744</td>\n",
       "      <td>150.7967</td>\n",
       "      <td>79.84</td>\n",
       "      <td>79</td>\n",
       "      <td>100</td>\n",
       "      <td>6.55</td>\n",
       "      <td>PG</td>\n",
       "      <td>2021-03-24 18:52:22</td>\n",
       "    </tr>\n",
       "    <tr>\n",
       "      <th>4</th>\n",
       "      <td>Upernavik</td>\n",
       "      <td>72.7868</td>\n",
       "      <td>-56.1549</td>\n",
       "      <td>-14.10</td>\n",
       "      <td>88</td>\n",
       "      <td>95</td>\n",
       "      <td>3.67</td>\n",
       "      <td>GL</td>\n",
       "      <td>2021-03-24 18:52:22</td>\n",
       "    </tr>\n",
       "    <tr>\n",
       "      <th>5</th>\n",
       "      <td>Kapaa</td>\n",
       "      <td>22.0752</td>\n",
       "      <td>-159.3190</td>\n",
       "      <td>72.00</td>\n",
       "      <td>78</td>\n",
       "      <td>20</td>\n",
       "      <td>8.05</td>\n",
       "      <td>US</td>\n",
       "      <td>2021-03-24 18:48:28</td>\n",
       "    </tr>\n",
       "    <tr>\n",
       "      <th>6</th>\n",
       "      <td>Longyearbyen</td>\n",
       "      <td>78.2186</td>\n",
       "      <td>15.6401</td>\n",
       "      <td>26.60</td>\n",
       "      <td>68</td>\n",
       "      <td>40</td>\n",
       "      <td>14.97</td>\n",
       "      <td>SJ</td>\n",
       "      <td>2021-03-24 18:52:23</td>\n",
       "    </tr>\n",
       "    <tr>\n",
       "      <th>7</th>\n",
       "      <td>Cape Town</td>\n",
       "      <td>-33.9258</td>\n",
       "      <td>18.4232</td>\n",
       "      <td>73.00</td>\n",
       "      <td>73</td>\n",
       "      <td>0</td>\n",
       "      <td>10.36</td>\n",
       "      <td>ZA</td>\n",
       "      <td>2021-03-24 18:52:20</td>\n",
       "    </tr>\n",
       "    <tr>\n",
       "      <th>8</th>\n",
       "      <td>Margate</td>\n",
       "      <td>51.3813</td>\n",
       "      <td>1.3862</td>\n",
       "      <td>51.01</td>\n",
       "      <td>70</td>\n",
       "      <td>100</td>\n",
       "      <td>3.00</td>\n",
       "      <td>GB</td>\n",
       "      <td>2021-03-24 18:52:23</td>\n",
       "    </tr>\n",
       "    <tr>\n",
       "      <th>9</th>\n",
       "      <td>Castro</td>\n",
       "      <td>-24.7911</td>\n",
       "      <td>-50.0119</td>\n",
       "      <td>81.91</td>\n",
       "      <td>51</td>\n",
       "      <td>98</td>\n",
       "      <td>2.59</td>\n",
       "      <td>BR</td>\n",
       "      <td>2021-03-24 18:52:24</td>\n",
       "    </tr>\n",
       "  </tbody>\n",
       "</table>\n",
       "</div>"
      ],
      "text/plain": [
       "           City      Lat       Lng  Max Temp  Humidity  Cloudiness  \\\n",
       "0         Acari -15.4311  -74.6158     82.83        51          25   \n",
       "1   Port Alfred -33.5906   26.8910     70.97        76         100   \n",
       "2       Rikitea -23.1203 -134.9692     79.36        66           0   \n",
       "3       Kavieng  -2.5744  150.7967     79.84        79         100   \n",
       "4     Upernavik  72.7868  -56.1549    -14.10        88          95   \n",
       "5         Kapaa  22.0752 -159.3190     72.00        78          20   \n",
       "6  Longyearbyen  78.2186   15.6401     26.60        68          40   \n",
       "7     Cape Town -33.9258   18.4232     73.00        73           0   \n",
       "8       Margate  51.3813    1.3862     51.01        70         100   \n",
       "9        Castro -24.7911  -50.0119     81.91        51          98   \n",
       "\n",
       "   Wind Speed Country                 Date  \n",
       "0       11.23      PE  2021-03-24 18:52:21  \n",
       "1       19.44      ZA  2021-03-24 18:52:22  \n",
       "2       12.26      PF  2021-03-24 18:48:20  \n",
       "3        6.55      PG  2021-03-24 18:52:22  \n",
       "4        3.67      GL  2021-03-24 18:52:22  \n",
       "5        8.05      US  2021-03-24 18:48:28  \n",
       "6       14.97      SJ  2021-03-24 18:52:23  \n",
       "7       10.36      ZA  2021-03-24 18:52:20  \n",
       "8        3.00      GB  2021-03-24 18:52:23  \n",
       "9        2.59      BR  2021-03-24 18:52:24  "
      ]
     },
     "execution_count": 30,
     "metadata": {},
     "output_type": "execute_result"
    }
   ],
   "source": [
    "#Our next steps will entail converting the array of dictionaries to a DataFrame, ensuring the columns are in the correct \n",
    "#order, and exporting the DataFrame to a comma-separated (CSV) file.\n",
    "\n",
    "#Recall that we can convert a list of dictionaries to a Pandas DataFrame using df = pd.DataFrame(list with dictionaries).\n",
    "# Convert the array of dictionaries to a Pandas DataFrame.\n",
    "city_data_df = pd.DataFrame(city_data)\n",
    "city_data_df.head(10)"
   ]
  },
  {
   "cell_type": "code",
   "execution_count": 31,
   "metadata": {},
   "outputs": [
    {
     "data": {
      "text/html": [
       "<div>\n",
       "<style scoped>\n",
       "    .dataframe tbody tr th:only-of-type {\n",
       "        vertical-align: middle;\n",
       "    }\n",
       "\n",
       "    .dataframe tbody tr th {\n",
       "        vertical-align: top;\n",
       "    }\n",
       "\n",
       "    .dataframe thead th {\n",
       "        text-align: right;\n",
       "    }\n",
       "</style>\n",
       "<table border=\"1\" class=\"dataframe\">\n",
       "  <thead>\n",
       "    <tr style=\"text-align: right;\">\n",
       "      <th></th>\n",
       "      <th>City</th>\n",
       "      <th>Country</th>\n",
       "      <th>Date</th>\n",
       "      <th>Lat</th>\n",
       "      <th>Lng</th>\n",
       "      <th>Max Temp</th>\n",
       "      <th>Humidity</th>\n",
       "      <th>Cloudiness</th>\n",
       "      <th>Wind Speed</th>\n",
       "    </tr>\n",
       "  </thead>\n",
       "  <tbody>\n",
       "    <tr>\n",
       "      <th>0</th>\n",
       "      <td>Acari</td>\n",
       "      <td>PE</td>\n",
       "      <td>2021-03-24 18:52:21</td>\n",
       "      <td>-15.4311</td>\n",
       "      <td>-74.6158</td>\n",
       "      <td>82.83</td>\n",
       "      <td>51</td>\n",
       "      <td>25</td>\n",
       "      <td>11.23</td>\n",
       "    </tr>\n",
       "    <tr>\n",
       "      <th>1</th>\n",
       "      <td>Port Alfred</td>\n",
       "      <td>ZA</td>\n",
       "      <td>2021-03-24 18:52:22</td>\n",
       "      <td>-33.5906</td>\n",
       "      <td>26.8910</td>\n",
       "      <td>70.97</td>\n",
       "      <td>76</td>\n",
       "      <td>100</td>\n",
       "      <td>19.44</td>\n",
       "    </tr>\n",
       "    <tr>\n",
       "      <th>2</th>\n",
       "      <td>Rikitea</td>\n",
       "      <td>PF</td>\n",
       "      <td>2021-03-24 18:48:20</td>\n",
       "      <td>-23.1203</td>\n",
       "      <td>-134.9692</td>\n",
       "      <td>79.36</td>\n",
       "      <td>66</td>\n",
       "      <td>0</td>\n",
       "      <td>12.26</td>\n",
       "    </tr>\n",
       "    <tr>\n",
       "      <th>3</th>\n",
       "      <td>Kavieng</td>\n",
       "      <td>PG</td>\n",
       "      <td>2021-03-24 18:52:22</td>\n",
       "      <td>-2.5744</td>\n",
       "      <td>150.7967</td>\n",
       "      <td>79.84</td>\n",
       "      <td>79</td>\n",
       "      <td>100</td>\n",
       "      <td>6.55</td>\n",
       "    </tr>\n",
       "    <tr>\n",
       "      <th>4</th>\n",
       "      <td>Upernavik</td>\n",
       "      <td>GL</td>\n",
       "      <td>2021-03-24 18:52:22</td>\n",
       "      <td>72.7868</td>\n",
       "      <td>-56.1549</td>\n",
       "      <td>-14.10</td>\n",
       "      <td>88</td>\n",
       "      <td>95</td>\n",
       "      <td>3.67</td>\n",
       "    </tr>\n",
       "    <tr>\n",
       "      <th>...</th>\n",
       "      <td>...</td>\n",
       "      <td>...</td>\n",
       "      <td>...</td>\n",
       "      <td>...</td>\n",
       "      <td>...</td>\n",
       "      <td>...</td>\n",
       "      <td>...</td>\n",
       "      <td>...</td>\n",
       "      <td>...</td>\n",
       "    </tr>\n",
       "    <tr>\n",
       "      <th>260</th>\n",
       "      <td>Maragogi</td>\n",
       "      <td>BR</td>\n",
       "      <td>2021-03-24 18:53:36</td>\n",
       "      <td>-9.0122</td>\n",
       "      <td>-35.2225</td>\n",
       "      <td>82.35</td>\n",
       "      <td>68</td>\n",
       "      <td>59</td>\n",
       "      <td>10.20</td>\n",
       "    </tr>\n",
       "    <tr>\n",
       "      <th>261</th>\n",
       "      <td>Vigrestad</td>\n",
       "      <td>NO</td>\n",
       "      <td>2021-03-24 18:53:36</td>\n",
       "      <td>58.5667</td>\n",
       "      <td>5.7000</td>\n",
       "      <td>42.01</td>\n",
       "      <td>91</td>\n",
       "      <td>15</td>\n",
       "      <td>1.01</td>\n",
       "    </tr>\n",
       "    <tr>\n",
       "      <th>262</th>\n",
       "      <td>Nikolayevsk-Na-Amure</td>\n",
       "      <td>RU</td>\n",
       "      <td>2021-03-24 18:49:07</td>\n",
       "      <td>53.1406</td>\n",
       "      <td>140.7300</td>\n",
       "      <td>1.96</td>\n",
       "      <td>96</td>\n",
       "      <td>51</td>\n",
       "      <td>4.59</td>\n",
       "    </tr>\n",
       "    <tr>\n",
       "      <th>263</th>\n",
       "      <td>Karratha</td>\n",
       "      <td>AU</td>\n",
       "      <td>2021-03-24 18:49:17</td>\n",
       "      <td>-20.7377</td>\n",
       "      <td>116.8463</td>\n",
       "      <td>81.68</td>\n",
       "      <td>63</td>\n",
       "      <td>1</td>\n",
       "      <td>6.71</td>\n",
       "    </tr>\n",
       "    <tr>\n",
       "      <th>264</th>\n",
       "      <td>Kruisfontein</td>\n",
       "      <td>ZA</td>\n",
       "      <td>2021-03-24 18:49:47</td>\n",
       "      <td>-34.0033</td>\n",
       "      <td>24.7314</td>\n",
       "      <td>70.00</td>\n",
       "      <td>75</td>\n",
       "      <td>100</td>\n",
       "      <td>5.99</td>\n",
       "    </tr>\n",
       "  </tbody>\n",
       "</table>\n",
       "<p>265 rows × 9 columns</p>\n",
       "</div>"
      ],
      "text/plain": [
       "                     City Country                 Date      Lat       Lng  \\\n",
       "0                   Acari      PE  2021-03-24 18:52:21 -15.4311  -74.6158   \n",
       "1             Port Alfred      ZA  2021-03-24 18:52:22 -33.5906   26.8910   \n",
       "2                 Rikitea      PF  2021-03-24 18:48:20 -23.1203 -134.9692   \n",
       "3                 Kavieng      PG  2021-03-24 18:52:22  -2.5744  150.7967   \n",
       "4               Upernavik      GL  2021-03-24 18:52:22  72.7868  -56.1549   \n",
       "..                    ...     ...                  ...      ...       ...   \n",
       "260              Maragogi      BR  2021-03-24 18:53:36  -9.0122  -35.2225   \n",
       "261             Vigrestad      NO  2021-03-24 18:53:36  58.5667    5.7000   \n",
       "262  Nikolayevsk-Na-Amure      RU  2021-03-24 18:49:07  53.1406  140.7300   \n",
       "263              Karratha      AU  2021-03-24 18:49:17 -20.7377  116.8463   \n",
       "264          Kruisfontein      ZA  2021-03-24 18:49:47 -34.0033   24.7314   \n",
       "\n",
       "     Max Temp  Humidity  Cloudiness  Wind Speed  \n",
       "0       82.83        51          25       11.23  \n",
       "1       70.97        76         100       19.44  \n",
       "2       79.36        66           0       12.26  \n",
       "3       79.84        79         100        6.55  \n",
       "4      -14.10        88          95        3.67  \n",
       "..        ...       ...         ...         ...  \n",
       "260     82.35        68          59       10.20  \n",
       "261     42.01        91          15        1.01  \n",
       "262      1.96        96          51        4.59  \n",
       "263     81.68        63           1        6.71  \n",
       "264     70.00        75         100        5.99  \n",
       "\n",
       "[265 rows x 9 columns]"
      ]
     },
     "execution_count": 31,
     "metadata": {},
     "output_type": "execute_result"
    }
   ],
   "source": [
    "new_column_order = [\"City\", \"Country\", \"Date\", \"Lat\", \"Lng\", \"Max Temp\", \"Humidity\", \"Cloudiness\", \"Wind Speed\"]\n",
    "city_data_df = city_data_df[new_column_order]\n",
    "city_data_df"
   ]
  },
  {
   "cell_type": "code",
   "execution_count": 32,
   "metadata": {},
   "outputs": [],
   "source": [
    "# Create the output file (CSV).\n",
    "output_data_file = \"weather_data/cities.csv\"\n",
    "# Export the City_Data into a CSV.\n",
    "city_data_df.to_csv(output_data_file, index_label = \"City_ID\")\n",
    "\n",
    "#The last line in the code block will export the DataFrame to a CSV file, with the index label (or column A) header as \n",
    "#\"City_ID.\" If we ever need to export the CSV file to a DataFrame, that header will be present in the DataFrame.\n",
    "\n",
    "#We've completed our tasks for making API calls, parsing the response, and collecting the data for our project. Before we \n",
    "#move on to graphing and statistical analysis, let's update our GitHub repository."
   ]
  },
  {
   "cell_type": "markdown",
   "metadata": {},
   "source": [
    "# Module 6.3.1 Plot Latitude vs. Temperature"
   ]
  },
  {
   "cell_type": "code",
   "execution_count": 33,
   "metadata": {},
   "outputs": [],
   "source": [
    "#We are going to create a series of scatter plots for each weather parameter against the latitude for all the cities. \n",
    "#The students will use these scatter plots to write a summary report on how different weather parameters change based on \n",
    "#the latitude.\n",
    "\n",
    "#We'll create scatter plots for latitude vs. maximum temperature, humidity, cloudiness, and wind speed. The first, latitude \n",
    "#vs. maximum temperature, should look like the following scatter plot.\n",
    "\n",
    "#Note: Recall that to create a scatter plot, we collect then add x- and y-axis data to plt.scatter()"
   ]
  },
  {
   "cell_type": "code",
   "execution_count": 34,
   "metadata": {},
   "outputs": [],
   "source": [
    "#Step 1: First, we'll retrieve the data we need to create our scatter plots. We will need latitude, maximum temperature, \n",
    "#humidity, cloudiness, and wind speed from all the cities.\n",
    "\n",
    "# Extract relevant fields from the DataFrame for plotting.\n",
    "lats = city_data_df[\"Lat\"]\n",
    "max_temps = city_data_df[\"Max Temp\"]\n",
    "humidity = city_data_df[\"Humidity\"]\n",
    "cloudiness = city_data_df[\"Cloudiness\"]\n",
    "wind_speed = city_data_df[\"Wind Speed\"]"
   ]
  },
  {
   "cell_type": "code",
   "execution_count": 35,
   "metadata": {},
   "outputs": [
    {
     "data": {
      "text/plain": [
       "1616615602.8045094"
      ]
     },
     "execution_count": 35,
     "metadata": {},
     "output_type": "execute_result"
    }
   ],
   "source": [
    "#Step 2: Your final scatter plot will need the current date in the title. To add the current date, we will need to import\n",
    "#the time module, rather than the datetime module that we used to convert the date. The time module is a standard Python \n",
    "#library, so there is no need to install it.\n",
    "# Import the time module.\n",
    "import time\n",
    "# Get today's date in seconds.\n",
    "today = time.time()\n",
    "today"
   ]
  },
  {
   "cell_type": "code",
   "execution_count": 36,
   "metadata": {},
   "outputs": [
    {
     "data": {
      "image/png": "[encoded data removed]",
      "text/plain": [
       "<Figure size 432x288 with 1 Axes>"
      ]
     },
     "metadata": {
      "needs_background": "light"
     },
     "output_type": "display_data"
    }
   ],
   "source": [
    "#The format for time appears like the datetime stamp for the JSON weather data. We can convert this using the string format\n",
    "#method, strftime() and pass the formatting parameters for our date in parentheses. To get the format for today, we can add \n",
    "#%x inside the parentheses.\n",
    "\n",
    "#In the API_practice file, add strftime(\"%x\")to the time module for our today variable and run the cell. The output will be \n",
    "#today's date.\n",
    "# Import time module\n",
    "import time\n",
    "\n",
    "# Build the scatter plot for latitude vs. max temperature.\n",
    "plt.scatter(lats,\n",
    "            max_temps,\n",
    "            edgecolor=\"black\", linewidths=1, marker=\"o\",\n",
    "            alpha=0.8, label=\"Cities\")\n",
    "\n",
    "# Incorporate the other graph properties.\n",
    "plt.title(f\"City Latitude vs. Max Temperature \"+ time.strftime(\"%x\"))\n",
    "plt.ylabel(\"Max Temperature (F)\")\n",
    "plt.xlabel(\"Latitude\")\n",
    "plt.grid(True)\n",
    "\n",
    "# Save the figure.\n",
    "plt.savefig(\"weather_data/Fig1.png\")\n",
    "\n",
    "# Show plot.\n",
    "plt.show()"
   ]
  },
  {
   "cell_type": "code",
   "execution_count": 37,
   "metadata": {},
   "outputs": [
    {
     "data": {
      "image/png": "[encoded data removed]",
      "text/plain": [
       "<Figure size 432x288 with 1 Axes>"
      ]
     },
     "metadata": {
      "needs_background": "light"
     },
     "output_type": "display_data"
    }
   ],
   "source": [
    "# Build the scatter plots for latitude vs. humidity.\n",
    "plt.scatter(lats,\n",
    "            humidity,\n",
    "            edgecolor=\"black\", linewidths=1, marker=\"o\",\n",
    "            alpha=0.8, label=\"Cities\")\n",
    "\n",
    "# Incorporate the other graph properties.\n",
    "plt.title(f\"City Latitude vs. Humidity \"+ time.strftime(\"%x\"))\n",
    "plt.ylabel(\"Humidity (%)\")\n",
    "plt.xlabel(\"Latitude\")\n",
    "plt.grid(True)\n",
    "# Save the figure.\n",
    "plt.savefig(\"weather_data/Fig2.png\")\n",
    "# Show plot.\n",
    "plt.show()"
   ]
  },
  {
   "cell_type": "markdown",
   "metadata": {},
   "source": [
    "# Module: 6.3.3 Plot Latitude vs. Cloudiness\n"
   ]
  },
  {
   "cell_type": "code",
   "execution_count": 38,
   "metadata": {},
   "outputs": [
    {
     "data": {
      "image/png": "[encoded data removed]",
      "text/plain": [
       "<Figure size 432x288 with 1 Axes>"
      ]
     },
     "metadata": {
      "needs_background": "light"
     },
     "output_type": "display_data"
    }
   ],
   "source": [
    "#Let's refactor the code for our scatter plots by changing the y-axis variable to \"cloudiness,\" the title to \"Cloudiness \n",
    "#(%),\" and the y-axis label to \"Cloudiness (%).\"\n",
    "# Build the scatter plots for latitude vs. cloudiness.\n",
    "plt.scatter(lats,\n",
    "            cloudiness,\n",
    "            edgecolor=\"black\", linewidths=1, marker=\"o\",\n",
    "            alpha=0.8, label=\"Cities\")\n",
    "\n",
    "# Incorporate the other graph properties.\n",
    "plt.title(f\"City Latitude vs. Cloudiness (%) \"+ time.strftime(\"%x\"))\n",
    "plt.ylabel(\"Cloudiness (%)\")\n",
    "plt.xlabel(\"Latitude\")\n",
    "plt.grid(True)\n",
    "# Save the figure.\n",
    "plt.savefig(\"weather_data/Fig3.png\")\n",
    "# Show plot.\n",
    "plt.show()"
   ]
  },
  {
   "cell_type": "markdown",
   "metadata": {},
   "source": [
    "# Module: 6.3.4 Plot Latitude vs. Wind Speed\n"
   ]
  },
  {
   "cell_type": "code",
   "execution_count": 39,
   "metadata": {},
   "outputs": [
    {
     "data": {
      "image/png": "[encoded data removed]",
      "text/plain": [
       "<Figure size 432x288 with 1 Axes>"
      ]
     },
     "metadata": {
      "needs_background": "light"
     },
     "output_type": "display_data"
    }
   ],
   "source": [
    "#Now, we can create our last scatter plot! Let's repurpose the code we have been using and change the y-axis variable to \n",
    "#\"wind speed,\" the title to \"Wind Speed,\" and the y-axis label to \"Wind Speed (mph).\"\n",
    "\n",
    "# Build the scatter plots for latitude vs. wind speed.\n",
    "plt.scatter(lats,\n",
    "            wind_speed,\n",
    "            edgecolor=\"black\", linewidths=1, marker=\"o\",\n",
    "            alpha=0.8, label=\"Cities\")\n",
    "\n",
    "# Incorporate the other graph properties.\n",
    "plt.title(f\"City Latitude vs. Wind Speed \"+ time.strftime(\"%x\"))\n",
    "plt.ylabel(\"Wind Speed (mph)\")\n",
    "plt.xlabel(\"Latitude\")\n",
    "plt.grid(True)\n",
    "# Save the figure.\n",
    "plt.savefig(\"weather_data/Fig4.png\")\n",
    "# Show plot.\n",
    "plt.show()"
   ]
  },
  {
   "cell_type": "markdown",
   "metadata": {},
   "source": [
    "# Module 6.4.1: Use Linear Regression to Find the Relationship Between Variables"
   ]
  },
  {
   "cell_type": "code",
   "execution_count": 40,
   "metadata": {},
   "outputs": [],
   "source": [
    "#Linear regression is used to find a relationship between a dependent variable and one or more independent variables. \n",
    "#The trick is to find something (a dependent variable) that depends on something else (the independent variable) and plot \n",
    "#that relationship.\n",
    "#Independent variable: the variable changed by the analyst to observe how it affects the dependent variable \n",
    "\n",
    "#Dependent variable: the variable tested by the analyst to observe how it is affected by the independent variable\n",
    "\n",
    "#To determine if maximum temperature correlates to latitude, we can plot a linear regression line, a straight trendline \n",
    "#predicting the average y-value, or dependent variable, for a given x-value, or independent variable. This line can be \n",
    "#plotted using the equation y = mx + b, where \"m\" is the slope of the line and \"b\" is the y-intercept. For every x-value,\n",
    "#or latitude we use in the equation, we will get a predicted temperature value.\n",
    "\n",
    "#To determine how strong the relationship is between the fitted line and the data, we find the correlation coefficient, \n",
    "#or r-value. A correlation coefficient close to 1 shows a strong positive correlation, whereas close to –1 shows a strong \n",
    "#negative correlation. A correlation coefficient close to zero is no correlation."
   ]
  },
  {
   "cell_type": "markdown",
   "metadata": {},
   "source": [
    "# Module 6.4.1: Practice Using Linear Regression"
   ]
  },
  {
   "cell_type": "code",
   "execution_count": 41,
   "metadata": {},
   "outputs": [],
   "source": [
    "#In a new cell of our random_numbers Jupyter Notebook file, we'll import the linear regression function from the SciPy \n",
    "#statistics module."
   ]
  },
  {
   "cell_type": "markdown",
   "metadata": {},
   "source": [
    "# Mondule 6.4.2: Find the Correlation Between Latitude and Maximum Temperature"
   ]
  },
  {
   "cell_type": "code",
   "execution_count": 42,
   "metadata": {},
   "outputs": [],
   "source": [
    "#Using the data from the Northern and Southern Hemispheres, we are going to perform linear regression on all four weather \n",
    "#parameters: maximum temperature, humidity, cloudiness, and wind speed.\n",
    "\n",
    "#We have an algorithm that performs the linear regression; returns the equation of the regression line, and correlation \n",
    "#coefficient, and p value; and adds the regression line to a scatter plot of city weather data. Below, the code looks like \n",
    "#what we have used before.\n",
    "\n",
    "# Perform linear regression.\n",
    "#1. (slope, intercept, r_value, p_value, std_err) = linregress(x_values, y_values)\n",
    "\n",
    "# Calculate the regression line \"y values\" from the slope and intercept.\n",
    "#2. regress_values = x_values * slope + intercept\n",
    "\n",
    "# Get the equation of the line.\n",
    "#3. line_eq = \"y = \" + str(round(slope,2)) + \"x + \" + str(round(intercept,2))\n",
    "\n",
    "# Create a scatter plot of the x and y values.\n",
    "#4. plt.scatter(x_values,y_values)\n",
    "# Plot the regression line with the x-values and the y coordinates based on the intercept and slope.\n",
    "#5. plt.plot(x_values,regress_values,\"r\")\n",
    "# Annotate the text for the line equation and add its coordinates.\n",
    "#6. plt.annotate(line_eq, (10,40), fontsize=15, color=\"red\")\n",
    "#7. plt.xlabel('Latitude')\n",
    "#8. plt.ylabel('Temp')\n",
    "#9. plt.show()"
   ]
  },
  {
   "cell_type": "markdown",
   "metadata": {},
   "source": [
    "# Module 6.4.2: Create a Linear Regression Function"
   ]
  },
  {
   "cell_type": "code",
   "execution_count": 72,
   "metadata": {},
   "outputs": [],
   "source": [
    "  # Import linregress\n",
    "from scipy.stats import linregress"
   ]
  },
  {
   "cell_type": "code",
   "execution_count": 82,
   "metadata": {},
   "outputs": [],
   "source": [
    "# Create a function to create perform linear regression on the weather data\n",
    "# and plot a regression line and the equation with the data.\n",
    "def plot_linear_regression(x_values, y_values, title, y_label, text_coordinates):\n",
    "    # Run regression on hemisphere weather data.\n",
    "    (slope, intercept, r_value, p_value, std_err) = linregress(x_values, y_values)\n",
    "    # Calculate the regression line \"y values\" from the slope and intercept.\n",
    "    regress_values = x_values * slope + intercept\n",
    "    # Get the equation of the line.\n",
    "    line_eq = \"y = \" + str(round(slope,2)) + \"x + \" + str(round(intercept,2))\n",
    "    # Create a scatter plot and plot the regression line.\n",
    "    plt.scatter(x_values,y_values)\n",
    "    plt.plot(x_values,regress_values,\"r\")\n",
    "    # Annotate the text for the line equation.\n",
    "    plt.annotate(line_eq, text_coordinates, fontsize=15, color=\"red\")\n",
    "    plt.xlabel('Latitude')\n",
    "    plt.ylabel(y_label)\n",
    "    plt.show()\n",
    "#If we run this code there will be no output until we call the function with five parameters."
   ]
  },
  {
   "cell_type": "markdown",
   "metadata": {},
   "source": [
    "# Module 6.4.2: Create the Hemisphere DataFrames"
   ]
  },
  {
   "cell_type": "code",
   "execution_count": 83,
   "metadata": {},
   "outputs": [],
   "source": [
    "#We will add some code to perform regression analysis on the maximum temperatures in the Northern and Southern Hemispheres. \n",
    "#To do this, we will need to create Northern Hemisphere DataFrames from the city_data_df DataFrame.\n",
    "\n",
    "#To create a new DataFrame from a current DataFrame, we can use the loc method on the current DataFrame. The loc method \n",
    "#accesses a group of rows and columns in the current DataFrame by an index, labels, or a Boolean array. The syntax to get a\n",
    "#specific row from a current DataFrame is row = df.loc[row_index].\n",
    "\n",
    "#Let's apply this method to our city_data_df DataFrame by adding the code index13 = city_data_df.loc[13] in a cell and \n",
    "#running the cell. The output will present all the information at index 13 of the city_data_df DataFrame. Note that you may \n",
    "#see a different city in your output cell than the one shown in the following image.\n",
    "city_data_df = pd.read_csv(\"weather_data/cities.csv\")"
   ]
  },
  {
   "cell_type": "code",
   "execution_count": 84,
   "metadata": {},
   "outputs": [
    {
     "data": {
      "text/plain": [
       "City_ID                        13\n",
       "City                     Thompson\n",
       "Country                        CA\n",
       "Date          2021-03-24 18:52:25\n",
       "Lat                       55.7435\n",
       "Lng                      -97.8558\n",
       "Max Temp                      6.8\n",
       "Humidity                       56\n",
       "Cloudiness                     40\n",
       "Wind Speed                   11.5\n",
       "Name: 13, dtype: object"
      ]
     },
     "execution_count": 84,
     "metadata": {},
     "output_type": "execute_result"
    }
   ],
   "source": [
    "index13 = city_data_df.loc[13]\n",
    "index13"
   ]
  },
  {
   "cell_type": "code",
   "execution_count": 85,
   "metadata": {},
   "outputs": [
    {
     "data": {
      "text/plain": [
       "0      False\n",
       "1      False\n",
       "2      False\n",
       "3      False\n",
       "4       True\n",
       "       ...  \n",
       "260    False\n",
       "261     True\n",
       "262     True\n",
       "263    False\n",
       "264    False\n",
       "Name: Lat, Length: 265, dtype: bool"
      ]
     },
     "execution_count": 85,
     "metadata": {},
     "output_type": "execute_result"
    }
   ],
   "source": [
    "#We can also filter a DataFrame based on a value of a row. For instance, if we wanted to get all Northern Hemisphere \n",
    "#latitudes, for latitudes greater than or equal to 0, we can filter the city_data_df DataFrame using the code \n",
    "#city_data_df[\"Lat\"] >= 0. Executing this code will return either \"True\" or \"False\" for all the rows that meet these \n",
    "#criteria.\n",
    "\n",
    "city_data_df[\"Lat\"] >= 0"
   ]
  },
  {
   "cell_type": "code",
   "execution_count": 86,
   "metadata": {},
   "outputs": [
    {
     "data": {
      "text/html": [
       "<div>\n",
       "<style scoped>\n",
       "    .dataframe tbody tr th:only-of-type {\n",
       "        vertical-align: middle;\n",
       "    }\n",
       "\n",
       "    .dataframe tbody tr th {\n",
       "        vertical-align: top;\n",
       "    }\n",
       "\n",
       "    .dataframe thead th {\n",
       "        text-align: right;\n",
       "    }\n",
       "</style>\n",
       "<table border=\"1\" class=\"dataframe\">\n",
       "  <thead>\n",
       "    <tr style=\"text-align: right;\">\n",
       "      <th></th>\n",
       "      <th>City_ID</th>\n",
       "      <th>City</th>\n",
       "      <th>Country</th>\n",
       "      <th>Date</th>\n",
       "      <th>Lat</th>\n",
       "      <th>Lng</th>\n",
       "      <th>Max Temp</th>\n",
       "      <th>Humidity</th>\n",
       "      <th>Cloudiness</th>\n",
       "      <th>Wind Speed</th>\n",
       "    </tr>\n",
       "  </thead>\n",
       "  <tbody>\n",
       "    <tr>\n",
       "      <th>4</th>\n",
       "      <td>4</td>\n",
       "      <td>Upernavik</td>\n",
       "      <td>GL</td>\n",
       "      <td>2021-03-24 18:52:22</td>\n",
       "      <td>72.7868</td>\n",
       "      <td>-56.1549</td>\n",
       "      <td>-14.10</td>\n",
       "      <td>88</td>\n",
       "      <td>95</td>\n",
       "      <td>3.67</td>\n",
       "    </tr>\n",
       "    <tr>\n",
       "      <th>5</th>\n",
       "      <td>5</td>\n",
       "      <td>Kapaa</td>\n",
       "      <td>US</td>\n",
       "      <td>2021-03-24 18:48:28</td>\n",
       "      <td>22.0752</td>\n",
       "      <td>-159.3190</td>\n",
       "      <td>72.00</td>\n",
       "      <td>78</td>\n",
       "      <td>20</td>\n",
       "      <td>8.05</td>\n",
       "    </tr>\n",
       "    <tr>\n",
       "      <th>6</th>\n",
       "      <td>6</td>\n",
       "      <td>Longyearbyen</td>\n",
       "      <td>SJ</td>\n",
       "      <td>2021-03-24 18:52:23</td>\n",
       "      <td>78.2186</td>\n",
       "      <td>15.6401</td>\n",
       "      <td>26.60</td>\n",
       "      <td>68</td>\n",
       "      <td>40</td>\n",
       "      <td>14.97</td>\n",
       "    </tr>\n",
       "    <tr>\n",
       "      <th>8</th>\n",
       "      <td>8</td>\n",
       "      <td>Margate</td>\n",
       "      <td>GB</td>\n",
       "      <td>2021-03-24 18:52:23</td>\n",
       "      <td>51.3813</td>\n",
       "      <td>1.3862</td>\n",
       "      <td>51.01</td>\n",
       "      <td>70</td>\n",
       "      <td>100</td>\n",
       "      <td>3.00</td>\n",
       "    </tr>\n",
       "    <tr>\n",
       "      <th>10</th>\n",
       "      <td>10</td>\n",
       "      <td>Chokurdakh</td>\n",
       "      <td>RU</td>\n",
       "      <td>2021-03-24 18:52:24</td>\n",
       "      <td>70.6333</td>\n",
       "      <td>147.9167</td>\n",
       "      <td>-22.90</td>\n",
       "      <td>99</td>\n",
       "      <td>100</td>\n",
       "      <td>6.35</td>\n",
       "    </tr>\n",
       "    <tr>\n",
       "      <th>...</th>\n",
       "      <td>...</td>\n",
       "      <td>...</td>\n",
       "      <td>...</td>\n",
       "      <td>...</td>\n",
       "      <td>...</td>\n",
       "      <td>...</td>\n",
       "      <td>...</td>\n",
       "      <td>...</td>\n",
       "      <td>...</td>\n",
       "      <td>...</td>\n",
       "    </tr>\n",
       "    <tr>\n",
       "      <th>255</th>\n",
       "      <td>255</td>\n",
       "      <td>Srednekolymsk</td>\n",
       "      <td>RU</td>\n",
       "      <td>2021-03-24 18:53:35</td>\n",
       "      <td>67.4500</td>\n",
       "      <td>153.6833</td>\n",
       "      <td>-7.83</td>\n",
       "      <td>99</td>\n",
       "      <td>100</td>\n",
       "      <td>3.11</td>\n",
       "    </tr>\n",
       "    <tr>\n",
       "      <th>257</th>\n",
       "      <td>257</td>\n",
       "      <td>Vostok</td>\n",
       "      <td>RU</td>\n",
       "      <td>2021-03-24 18:53:35</td>\n",
       "      <td>46.4856</td>\n",
       "      <td>135.8833</td>\n",
       "      <td>11.70</td>\n",
       "      <td>98</td>\n",
       "      <td>73</td>\n",
       "      <td>3.29</td>\n",
       "    </tr>\n",
       "    <tr>\n",
       "      <th>258</th>\n",
       "      <td>258</td>\n",
       "      <td>Aloleng</td>\n",
       "      <td>PH</td>\n",
       "      <td>2021-03-24 18:53:35</td>\n",
       "      <td>16.1307</td>\n",
       "      <td>119.7824</td>\n",
       "      <td>78.85</td>\n",
       "      <td>80</td>\n",
       "      <td>9</td>\n",
       "      <td>8.86</td>\n",
       "    </tr>\n",
       "    <tr>\n",
       "      <th>261</th>\n",
       "      <td>261</td>\n",
       "      <td>Vigrestad</td>\n",
       "      <td>NO</td>\n",
       "      <td>2021-03-24 18:53:36</td>\n",
       "      <td>58.5667</td>\n",
       "      <td>5.7000</td>\n",
       "      <td>42.01</td>\n",
       "      <td>91</td>\n",
       "      <td>15</td>\n",
       "      <td>1.01</td>\n",
       "    </tr>\n",
       "    <tr>\n",
       "      <th>262</th>\n",
       "      <td>262</td>\n",
       "      <td>Nikolayevsk-Na-Amure</td>\n",
       "      <td>RU</td>\n",
       "      <td>2021-03-24 18:49:07</td>\n",
       "      <td>53.1406</td>\n",
       "      <td>140.7300</td>\n",
       "      <td>1.96</td>\n",
       "      <td>96</td>\n",
       "      <td>51</td>\n",
       "      <td>4.59</td>\n",
       "    </tr>\n",
       "  </tbody>\n",
       "</table>\n",
       "<p>171 rows × 10 columns</p>\n",
       "</div>"
      ],
      "text/plain": [
       "     City_ID                  City Country                 Date      Lat  \\\n",
       "4          4             Upernavik      GL  2021-03-24 18:52:22  72.7868   \n",
       "5          5                 Kapaa      US  2021-03-24 18:48:28  22.0752   \n",
       "6          6          Longyearbyen      SJ  2021-03-24 18:52:23  78.2186   \n",
       "8          8               Margate      GB  2021-03-24 18:52:23  51.3813   \n",
       "10        10            Chokurdakh      RU  2021-03-24 18:52:24  70.6333   \n",
       "..       ...                   ...     ...                  ...      ...   \n",
       "255      255         Srednekolymsk      RU  2021-03-24 18:53:35  67.4500   \n",
       "257      257                Vostok      RU  2021-03-24 18:53:35  46.4856   \n",
       "258      258               Aloleng      PH  2021-03-24 18:53:35  16.1307   \n",
       "261      261             Vigrestad      NO  2021-03-24 18:53:36  58.5667   \n",
       "262      262  Nikolayevsk-Na-Amure      RU  2021-03-24 18:49:07  53.1406   \n",
       "\n",
       "          Lng  Max Temp  Humidity  Cloudiness  Wind Speed  \n",
       "4    -56.1549    -14.10        88          95        3.67  \n",
       "5   -159.3190     72.00        78          20        8.05  \n",
       "6     15.6401     26.60        68          40       14.97  \n",
       "8      1.3862     51.01        70         100        3.00  \n",
       "10   147.9167    -22.90        99         100        6.35  \n",
       "..        ...       ...       ...         ...         ...  \n",
       "255  153.6833     -7.83        99         100        3.11  \n",
       "257  135.8833     11.70        98          73        3.29  \n",
       "258  119.7824     78.85        80           9        8.86  \n",
       "261    5.7000     42.01        91          15        1.01  \n",
       "262  140.7300      1.96        96          51        4.59  \n",
       "\n",
       "[171 rows x 10 columns]"
      ]
     },
     "execution_count": 86,
     "metadata": {},
     "output_type": "execute_result"
    }
   ],
   "source": [
    "#If we want to return a DataFrame with all data fitting the criteria, for latitudes greater than or equal to 0, we can use \n",
    "#the loc method on the city_data_df DataFrame. Inside the brackets, we would add the conditional filter \n",
    "#city_data_df[\"Lat\"] >= 0\n",
    "\n",
    "city_data_df.loc[(city_data_df[\"Lat\"] >= 0)]"
   ]
  },
  {
   "cell_type": "code",
   "execution_count": 87,
   "metadata": {},
   "outputs": [
    {
     "data": {
      "text/html": [
       "<div>\n",
       "<style scoped>\n",
       "    .dataframe tbody tr th:only-of-type {\n",
       "        vertical-align: middle;\n",
       "    }\n",
       "\n",
       "    .dataframe tbody tr th {\n",
       "        vertical-align: top;\n",
       "    }\n",
       "\n",
       "    .dataframe thead th {\n",
       "        text-align: right;\n",
       "    }\n",
       "</style>\n",
       "<table border=\"1\" class=\"dataframe\">\n",
       "  <thead>\n",
       "    <tr style=\"text-align: right;\">\n",
       "      <th></th>\n",
       "      <th>City_ID</th>\n",
       "      <th>City</th>\n",
       "      <th>Country</th>\n",
       "      <th>Date</th>\n",
       "      <th>Lat</th>\n",
       "      <th>Lng</th>\n",
       "      <th>Max Temp</th>\n",
       "      <th>Humidity</th>\n",
       "      <th>Cloudiness</th>\n",
       "      <th>Wind Speed</th>\n",
       "    </tr>\n",
       "  </thead>\n",
       "  <tbody>\n",
       "    <tr>\n",
       "      <th>4</th>\n",
       "      <td>4</td>\n",
       "      <td>Upernavik</td>\n",
       "      <td>GL</td>\n",
       "      <td>2021-03-24 18:52:22</td>\n",
       "      <td>72.7868</td>\n",
       "      <td>-56.1549</td>\n",
       "      <td>-14.10</td>\n",
       "      <td>88</td>\n",
       "      <td>95</td>\n",
       "      <td>3.67</td>\n",
       "    </tr>\n",
       "    <tr>\n",
       "      <th>5</th>\n",
       "      <td>5</td>\n",
       "      <td>Kapaa</td>\n",
       "      <td>US</td>\n",
       "      <td>2021-03-24 18:48:28</td>\n",
       "      <td>22.0752</td>\n",
       "      <td>-159.3190</td>\n",
       "      <td>72.00</td>\n",
       "      <td>78</td>\n",
       "      <td>20</td>\n",
       "      <td>8.05</td>\n",
       "    </tr>\n",
       "    <tr>\n",
       "      <th>6</th>\n",
       "      <td>6</td>\n",
       "      <td>Longyearbyen</td>\n",
       "      <td>SJ</td>\n",
       "      <td>2021-03-24 18:52:23</td>\n",
       "      <td>78.2186</td>\n",
       "      <td>15.6401</td>\n",
       "      <td>26.60</td>\n",
       "      <td>68</td>\n",
       "      <td>40</td>\n",
       "      <td>14.97</td>\n",
       "    </tr>\n",
       "    <tr>\n",
       "      <th>8</th>\n",
       "      <td>8</td>\n",
       "      <td>Margate</td>\n",
       "      <td>GB</td>\n",
       "      <td>2021-03-24 18:52:23</td>\n",
       "      <td>51.3813</td>\n",
       "      <td>1.3862</td>\n",
       "      <td>51.01</td>\n",
       "      <td>70</td>\n",
       "      <td>100</td>\n",
       "      <td>3.00</td>\n",
       "    </tr>\n",
       "    <tr>\n",
       "      <th>10</th>\n",
       "      <td>10</td>\n",
       "      <td>Chokurdakh</td>\n",
       "      <td>RU</td>\n",
       "      <td>2021-03-24 18:52:24</td>\n",
       "      <td>70.6333</td>\n",
       "      <td>147.9167</td>\n",
       "      <td>-22.90</td>\n",
       "      <td>99</td>\n",
       "      <td>100</td>\n",
       "      <td>6.35</td>\n",
       "    </tr>\n",
       "  </tbody>\n",
       "</table>\n",
       "</div>"
      ],
      "text/plain": [
       "    City_ID          City Country                 Date      Lat       Lng  \\\n",
       "4         4     Upernavik      GL  2021-03-24 18:52:22  72.7868  -56.1549   \n",
       "5         5         Kapaa      US  2021-03-24 18:48:28  22.0752 -159.3190   \n",
       "6         6  Longyearbyen      SJ  2021-03-24 18:52:23  78.2186   15.6401   \n",
       "8         8       Margate      GB  2021-03-24 18:52:23  51.3813    1.3862   \n",
       "10       10    Chokurdakh      RU  2021-03-24 18:52:24  70.6333  147.9167   \n",
       "\n",
       "    Max Temp  Humidity  Cloudiness  Wind Speed  \n",
       "4     -14.10        88          95        3.67  \n",
       "5      72.00        78          20        8.05  \n",
       "6      26.60        68          40       14.97  \n",
       "8      51.01        70         100        3.00  \n",
       "10    -22.90        99         100        6.35  "
      ]
     },
     "execution_count": 87,
     "metadata": {},
     "output_type": "execute_result"
    }
   ],
   "source": [
    "city_data_df.loc[(city_data_df[\"Lat\"] >= 0)].head()"
   ]
  },
  {
   "cell_type": "code",
   "execution_count": 88,
   "metadata": {},
   "outputs": [],
   "source": [
    "# Create Northern and Southern Hemisphere DataFrames.\n",
    "northern_hemi_df = city_data_df.loc[(city_data_df[\"Lat\"] >= 0)]\n",
    "southern_hemi_df = city_data_df.loc[(city_data_df[\"Lat\"] < 0)]"
   ]
  },
  {
   "cell_type": "markdown",
   "metadata": {},
   "source": [
    "# Module 6.4.2: Perform Linear Regression on the Maximum Temperature for the Northern Hemisphere"
   ]
  },
  {
   "cell_type": "code",
   "execution_count": 95,
   "metadata": {},
   "outputs": [
    {
     "data": {
      "image/png": "[encoded data removed]",
      "text/plain": [
       "<Figure size 432x288 with 1 Axes>"
      ]
     },
     "metadata": {
      "needs_background": "light"
     },
     "output_type": "display_data"
    }
   ],
   "source": [
    "#To generate the linear regression on the maximum temperature for the Northern Hemisphere, we'll need x and y values. \n",
    "#Set the x values equal to the latitude column and the y values equal to the maximum temperature column from the \n",
    "#northern_hemi_df DataFrame.\n",
    "\n",
    "#Call the plot_linear_regression function with the x and y values, and edit the title, y_label, and text_coordinates for \n",
    "#the maximum temperature scatter plot. Add the code to a new cell and run it to generate the linear regression and plot the\n",
    "#data.\n",
    "# Linear regression on the Northern Hemisphere\n",
    "x_values = northern_hemi_df[\"Lat\"]\n",
    "y_values = northern_hemi_df[\"Max Temp\"]\n",
    "# Call the function.\n",
    "plot_linear_regression(x_values, y_values,\n",
    "                       'Linear Regression on the Northern Hemisphere \\\n",
    "                        for Maximum Temperature', 'Max Temp',(9,-25))"
   ]
  },
  {
   "cell_type": "code",
   "execution_count": 90,
   "metadata": {},
   "outputs": [
    {
     "data": {
      "image/png": "[encoded data removed]",
      "text/plain": [
       "<Figure size 432x288 with 1 Axes>"
      ]
     },
     "metadata": {
      "needs_background": "light"
     },
     "output_type": "display_data"
    }
   ],
   "source": [
    "# Linear regression on the Southern Hemisphere\n",
    "x_values = southern_hemi_df[\"Lat\"]\n",
    "y_values = southern_hemi_df[\"Max Temp\"]\n",
    "# Call the function.\n",
    "plot_linear_regression(x_values, y_values,\n",
    "                       'Linear Regression on the Southern Hemisphere \\\n",
    "                        for Maximum Temperature', 'Max Temp',(-50,90))"
   ]
  },
  {
   "cell_type": "markdown",
   "metadata": {},
   "source": [
    "# Module 6.4.2: Perform Linear Regression on the Maximum Temperature for the Southern Hemisphere"
   ]
  },
  {
   "cell_type": "code",
   "execution_count": 92,
   "metadata": {},
   "outputs": [
    {
     "data": {
      "image/png": "[encoded data removed]",
      "text/plain": [
       "<Figure size 432x288 with 1 Axes>"
      ]
     },
     "metadata": {
      "needs_background": "light"
     },
     "output_type": "display_data"
    }
   ],
   "source": [
    "#To generate the linear regression on the maximum temperature for the Southern Hemisphere, reuse the code for the Northern \n",
    "#Hemisphere and replace the northern_hemi_df DataFrame with the southern_hemi_df DataFrame to get the x- and y-values.\n",
    "\n",
    "# Linear regression on the Southern Hemisphere\n",
    "x_values = southern_hemi_df[\"Lat\"]\n",
    "y_values = southern_hemi_df[\"Max Temp\"]\n",
    "# Call the function.\n",
    "plot_linear_regression(x_values, y_values,\n",
    "                       'Linear Regression on the Southern Hemisphere \\\n",
    "                        for Maximum Temperature', 'Max Temp',(-50,90))"
   ]
  },
  {
   "cell_type": "code",
   "execution_count": 93,
   "metadata": {},
   "outputs": [],
   "source": [
    "#Findings: The correlation between the latitude and the maximum temperature is strong to very strong because the r-value \n",
    "#is less than –0.7 for the Northern Hemisphere and greater than 0.7 for the Southern Hemisphere, as shown by the plots here.\n",
    "#This means that as we approach the equator, 0° latitude, the temperatures become warmer. And when we are further from the \n",
    "#equator the temperatures become cooler. Check the r-values for your plots. "
   ]
  },
  {
   "cell_type": "markdown",
   "metadata": {},
   "source": [
    "# Module 6.4.3: Find the Correlation Between Latitude and Percent Humidity"
   ]
  },
  {
   "cell_type": "code",
   "execution_count": 96,
   "metadata": {},
   "outputs": [
    {
     "data": {
      "image/png": "[encoded data removed]",
      "text/plain": [
       "<Figure size 432x288 with 1 Axes>"
      ]
     },
     "metadata": {
      "needs_background": "light"
     },
     "output_type": "display_data"
    }
   ],
   "source": [
    "# Linear regression on the Northern Hemisphere\n",
    "x_values = northern_hemi_df[\"Lat\"]\n",
    "y_values = northern_hemi_df[\"Humidity\"]\n",
    "# Call the function.\n",
    "plot_linear_regression(x_values, y_values,\n",
    "                       'Linear Regression on the Northern Hemisphere \\\n",
    "                        for % Humidity', '% Humidity',(40,10))"
   ]
  },
  {
   "cell_type": "markdown",
   "metadata": {},
   "source": [
    "# Module 6.4.3: Perform Linear Regression on the Percent Humidity for the Southern Hemisphere"
   ]
  },
  {
   "cell_type": "code",
   "execution_count": 99,
   "metadata": {},
   "outputs": [
    {
     "data": {
      "image/png": "[encoded data removed]",
      "text/plain": [
       "<Figure size 432x288 with 1 Axes>"
      ]
     },
     "metadata": {
      "needs_background": "light"
     },
     "output_type": "display_data"
    }
   ],
   "source": [
    "# Linear regression on the Southern Hemisphere\n",
    "x_values = southern_hemi_df[\"Lat\"]\n",
    "y_values = southern_hemi_df[\"Humidity\"]\n",
    "# Call the function.\n",
    "plot_linear_regression(x_values, y_values,\n",
    "                       'Linear Regression on the Southern Hemisphere \\\n",
    "                        for % Humidity', '% Humidity',(-50,15))"
   ]
  },
  {
   "cell_type": "code",
   "execution_count": 100,
   "metadata": {},
   "outputs": [],
   "source": [
    "#Findings: The correlation between the latitude and percent humidity is very low because the r-value is less than 0.04 for \n",
    "#the Northern and Southern Hemispheres for the plots shown here. This means that percent humidity is unpredictable due to \n",
    "#changing weather patterns that can increase or decrease percent humidity. Check the r-values for your plots. "
   ]
  },
  {
   "cell_type": "markdown",
   "metadata": {},
   "source": [
    "# module 6.4.4: Find the Correlation Between Latitude and Percent Cloudiness"
   ]
  },
  {
   "cell_type": "code",
   "execution_count": 113,
   "metadata": {},
   "outputs": [
    {
     "data": {
      "image/png": "[encoded data removed]",
      "text/plain": [
       "<Figure size 432x288 with 1 Axes>"
      ]
     },
     "metadata": {
      "needs_background": "light"
     },
     "output_type": "display_data"
    }
   ],
   "source": [
    "# Linear regression on the Northern Hemisphere\n",
    "x_values = northern_hemi_df[\"Lat\"]\n",
    "y_values = northern_hemi_df[\"Cloudiness\"]\n",
    "# Call the function.\n",
    "plot_linear_regression(x_values, y_values,\n",
    "                       'Linear Regression on the Northern Hemisphere \\\n",
    "                        for Cloudiness', 'Claudiness',(-2,80))"
   ]
  },
  {
   "cell_type": "code",
   "execution_count": 115,
   "metadata": {},
   "outputs": [
    {
     "data": {
      "image/png": "[encoded data removed]",
      "text/plain": [
       "<Figure size 432x288 with 1 Axes>"
      ]
     },
     "metadata": {
      "needs_background": "light"
     },
     "output_type": "display_data"
    }
   ],
   "source": [
    "# Linear regression on the Southern Hemisphere\n",
    "x_values = southern_hemi_df[\"Lat\"]\n",
    "y_values = southern_hemi_df[\"Cloudiness\"]\n",
    "# Call the function.\n",
    "plot_linear_regression(x_values, y_values,\n",
    "                       'Linear Regression on the Southern Hemisphere \\\n",
    "                        for % Cloudiness', '% Cloudiness',(-50,60))"
   ]
  },
  {
   "cell_type": "code",
   "execution_count": 116,
   "metadata": {},
   "outputs": [],
   "source": [
    "#Findings: The correlation between the latitude and percent cloudiness is very low because the r-value is less than –0.09 \n",
    "#for the Northern Hemisphere and less than –0.02 for the Southern Hemisphere for the plots shown here. This means that \n",
    "#cloudiness is unpredictable due to changing weather patterns that can increase or decrease percent cloudiness. Check the \n",
    "#r-values for your plots. "
   ]
  },
  {
   "cell_type": "markdown",
   "metadata": {},
   "source": [
    "# Module: 6.4.5 Find the Correlation Between Latitude and Wind Speed"
   ]
  },
  {
   "cell_type": "code",
   "execution_count": 118,
   "metadata": {},
   "outputs": [
    {
     "data": {
      "image/png": "[encoded data removed]",
      "text/plain": [
       "<Figure size 432x288 with 1 Axes>"
      ]
     },
     "metadata": {
      "needs_background": "light"
     },
     "output_type": "display_data"
    }
   ],
   "source": [
    "# Linear regression on the Northern Hemisphere\n",
    "x_values = northern_hemi_df[\"Lat\"]\n",
    "y_values = northern_hemi_df[\"Wind Speed\"]\n",
    "# Call the function.\n",
    "plot_linear_regression(x_values, y_values,\n",
    "                       'Linear Regression on the Northern Hemisphere \\\n",
    "                        for Wind Speed', 'Wind Speed',(40,35))"
   ]
  },
  {
   "cell_type": "code",
   "execution_count": 120,
   "metadata": {},
   "outputs": [
    {
     "data": {
      "image/png": "[encoded data removed]",
      "text/plain": [
       "<Figure size 432x288 with 1 Axes>"
      ]
     },
     "metadata": {
      "needs_background": "light"
     },
     "output_type": "display_data"
    }
   ],
   "source": [
    "# Linear regression on the Southern Hemisphere\n",
    "x_values = southern_hemi_df[\"Lat\"]\n",
    "y_values = southern_hemi_df[\"Wind Speed\"]\n",
    "# Call the function.\n",
    "plot_linear_regression(x_values, y_values,\n",
    "                       'Linear Regression on the Southern Hemisphere \\\n",
    "                        for Wind Speed', 'Wind Speed',(-50,35))"
   ]
  },
  {
   "cell_type": "code",
   "execution_count": null,
   "metadata": {},
   "outputs": [],
   "source": [
    "#Findings: The correlation between the latitude and wind speed is very low because the r-value is less  than –0.07 for the \n",
    "#Northern Hemisphere and less than –0.3 for the Southern Hemisphere for the plots shown here. This means that wind speed \n",
    "#is unpredictable due to changing weather patterns that can increase or decrease wind speed. Check the r-values for your \n",
    "#plots. "
   ]
  }
 ],
 "metadata": {
  "kernelspec": {
   "display_name": "PythonData",
   "language": "python",
   "name": "pythondata"
  },
  "language_info": {
   "codemirror_mode": {
    "name": "ipython",
    "version": 3
   },
   "file_extension": ".py",
   "mimetype": "text/x-python",
   "name": "python",
   "nbconvert_exporter": "python",
   "pygments_lexer": "ipython3",
   "version": "3.7.9"
  }
 },
 "nbformat": 4,
 "nbformat_minor": 4
}
