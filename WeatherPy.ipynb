{
 "cells": [
  {
   "cell_type": "code",
   "execution_count": 1,
   "metadata": {},
   "outputs": [],
   "source": [
    "# Import the dependencies.\n",
    "import pandas as pd\n",
    "import matplotlib.pyplot as plt\n",
    "import numpy as np"
   ]
  },
  {
   "cell_type": "code",
   "execution_count": 2,
   "metadata": {},
   "outputs": [
    {
     "data": {
      "text/plain": [
       "<zip at 0x8127df0>"
      ]
     },
     "execution_count": 2,
     "metadata": {},
     "output_type": "execute_result"
    }
   ],
   "source": [
    "#In the next cell, we'll add the code that generates the latitudes and longitudes, but first, they need to be stored so \n",
    "#that we can access them later. Since we are creating arrays of latitudes and longitudes, we'll declare each array as a \n",
    "#variable.\n",
    "# Create a set of random latitude and longitude combinations.\n",
    "lats = np.random.uniform(low=-90.000, high=90.000, size=500)\n",
    "lngs = np.random.uniform(low=-180.000, high=180.000, size=500)\n",
    "lat_lngs = zip(lats, lngs)\n",
    "lat_lngs\n",
    "\n",
    "#The zip object packs each pair of lats and lngs having the same index in their respective array into a tuple. If there \n",
    "#are 1,500 latitudes and longitudes, there will be 1,500 tuples of paired latitudes and longitudes, where each latitude \n",
    "#and longitude in a tuple can be accessed by the index of 0 and 1, respectively."
   ]
  },
  {
   "cell_type": "code",
   "execution_count": 3,
   "metadata": {},
   "outputs": [],
   "source": [
    "# Add the latitudes and longitudes to a list.\n",
    "coordinates = list(lat_lngs)\n",
    "#You can only unzip a zipped tuple once before it is removed from the computer's memory. Make sure you unzip the latitudes \n",
    "#and longitudes into the coordinates list before moving on."
   ]
  },
  {
   "cell_type": "code",
   "execution_count": 4,
   "metadata": {},
   "outputs": [],
   "source": [
    "# Use the citipy module to determine city based on latitude and longitude.\n",
    "from citipy import citipy"
   ]
  },
  {
   "cell_type": "code",
   "execution_count": 5,
   "metadata": {},
   "outputs": [
    {
     "name": "stdout",
     "output_type": "stream",
     "text": [
      "fortuna us\n",
      "tsihombe mg\n",
      "mys shmidta ru\n",
      "khatanga ru\n",
      "puerto ayora ec\n",
      "tupik ru\n",
      "dzhusaly kz\n",
      "ushuaia ar\n",
      "bluff nz\n",
      "saint-philippe re\n",
      "kondinskoye ru\n",
      "albany au\n",
      "vostok ru\n",
      "lebu cl\n",
      "namibe ao\n",
      "esperance au\n",
      "belushya guba ru\n",
      "port macquarie au\n",
      "saint-philippe re\n",
      "tuktoyaktuk ca\n",
      "albany au\n",
      "mahebourg mu\n",
      "vaini to\n",
      "kapaa us\n",
      "basco ph\n",
      "hermanus za\n",
      "new norfolk au\n",
      "jizan sa\n",
      "barrow us\n",
      "port blair in\n",
      "sentyabrskiy ru\n",
      "bonthe sl\n",
      "atuona pf\n",
      "carnarvon au\n",
      "belushya guba ru\n",
      "east london za\n",
      "yellowknife ca\n",
      "evensk ru\n",
      "saleaula ws\n",
      "ballina au\n",
      "narsaq gl\n",
      "peniche pt\n",
      "west bay ky\n",
      "illoqqortoormiut gl\n",
      "eureka us\n",
      "chokurdakh ru\n",
      "bredasdorp za\n",
      "katsuura jp\n",
      "carnarvon au\n",
      "luwingu zm\n",
      "cabo san lucas mx\n",
      "tuktoyaktuk ca\n",
      "east london za\n",
      "bambous virieux mu\n",
      "vaitupu wf\n",
      "ushuaia ar\n",
      "neijiang cn\n",
      "mataura pf\n",
      "rikitea pf\n",
      "amderma ru\n",
      "rikitea pf\n",
      "punta arenas cl\n",
      "iqaluit ca\n",
      "murgab tm\n",
      "laguna br\n",
      "sentyabrskiy ru\n",
      "bengbu cn\n",
      "pahrump us\n",
      "bredasdorp za\n",
      "huambo ao\n",
      "vaini to\n",
      "illoqqortoormiut gl\n",
      "cape town za\n",
      "nalut ly\n",
      "hobart au\n",
      "hasaki jp\n",
      "atocha bo\n",
      "hilo us\n",
      "bluff nz\n",
      "rikitea pf\n",
      "khatanga ru\n",
      "talnakh ru\n",
      "kahului us\n",
      "svetlyy ru\n",
      "kieta pg\n",
      "vangaindrano mg\n",
      "te anau nz\n",
      "ushuaia ar\n",
      "mao td\n",
      "castro cl\n",
      "clyde river ca\n",
      "solnechnyy ru\n",
      "tuktoyaktuk ca\n",
      "georgetown sh\n",
      "hilo us\n",
      "rikitea pf\n",
      "ambulu id\n",
      "taolanaro mg\n",
      "atuona pf\n",
      "severo-kurilsk ru\n",
      "busselton au\n",
      "yellowknife ca\n",
      "lata sb\n",
      "mataura pf\n",
      "lichinga mz\n",
      "nokha in\n",
      "tiksi ru\n",
      "rikitea pf\n",
      "ponta do sol cv\n",
      "port blair in\n",
      "grand river south east mu\n",
      "mahebourg mu\n",
      "new norfolk au\n",
      "chuy uy\n",
      "thompson ca\n",
      "umzimvubu za\n",
      "mahebourg mu\n",
      "gimli ca\n",
      "elizabeth city us\n",
      "lebu cl\n",
      "promysla ru\n",
      "airai pw\n",
      "manaure co\n",
      "port elizabeth za\n",
      "hermanus za\n",
      "college us\n",
      "jamestown sh\n",
      "bredasdorp za\n",
      "rawson ar\n",
      "pangnirtung ca\n",
      "cape town za\n",
      "san cristobal ec\n",
      "mastic beach us\n",
      "kapaa us\n",
      "punta arenas cl\n",
      "carnarvon au\n",
      "waingapu id\n",
      "jamestown sh\n",
      "rikitea pf\n",
      "punta arenas cl\n",
      "batticaloa lk\n",
      "yellowknife ca\n",
      "mys shmidta ru\n",
      "illoqqortoormiut gl\n",
      "rikitea pf\n",
      "poum nc\n",
      "bluff nz\n",
      "alto araguaia br\n",
      "tandlianwala pk\n",
      "airai pw\n",
      "youhao cn\n",
      "illoqqortoormiut gl\n",
      "punta arenas cl\n",
      "cravo norte co\n",
      "port alfred za\n",
      "ancud cl\n",
      "tura ru\n",
      "kapaa us\n",
      "faanui pf\n",
      "mataura pf\n",
      "sartell us\n",
      "butaritari ki\n",
      "wulanhaote cn\n",
      "sentyabrskiy ru\n",
      "tautira pf\n",
      "rikitea pf\n",
      "banda aceh id\n",
      "jamestown sh\n",
      "kapaa us\n",
      "rikitea pf\n",
      "hilo us\n",
      "port alfred za\n",
      "saint-philippe re\n",
      "kaitangata nz\n",
      "amderma ru\n",
      "narsaq gl\n",
      "san angelo us\n",
      "rikitea pf\n",
      "hilo us\n",
      "albany au\n",
      "punta arenas cl\n",
      "padang id\n",
      "upernavik gl\n",
      "puerto ayora ec\n",
      "busselton au\n",
      "gravdal no\n",
      "maragogi br\n",
      "barentsburg sj\n",
      "kotagiri in\n",
      "ponta do sol cv\n",
      "east london za\n",
      "avarua ck\n",
      "mehamn no\n",
      "severodvinsk ru\n",
      "san jose de rio tinto hn\n",
      "carnarvon au\n",
      "port elizabeth za\n",
      "kapaa us\n",
      "ushuaia ar\n",
      "hermanus za\n",
      "bredasdorp za\n",
      "diu in\n",
      "atuona pf\n",
      "pevek ru\n",
      "padang id\n",
      "chulumani bo\n",
      "ushuaia ar\n",
      "iwanai jp\n",
      "barentsburg sj\n",
      "flinders au\n",
      "albany au\n",
      "lebu cl\n",
      "luderitz na\n",
      "mataura pf\n",
      "benavente es\n",
      "qaanaaq gl\n",
      "jamestown sh\n",
      "eisenberg de\n",
      "barentsburg sj\n",
      "broken hill au\n",
      "ahumada mx\n",
      "tuysarkan ir\n",
      "nyurba ru\n",
      "grand river south east mu\n",
      "yellowknife ca\n",
      "albany au\n",
      "barentsburg sj\n",
      "sola vu\n",
      "pisco pe\n",
      "quang ngai vn\n",
      "port alfred za\n",
      "praia cv\n",
      "vanino ru\n",
      "moron mn\n",
      "businga cd\n",
      "hithadhoo mv\n",
      "georgetown sh\n",
      "victoria sc\n",
      "mataura pf\n",
      "busselton au\n",
      "kapaa us\n",
      "ushuaia ar\n",
      "provideniya ru\n",
      "tuktoyaktuk ca\n",
      "hermanus za\n",
      "lorengau pg\n",
      "dakar sn\n",
      "bredasdorp za\n",
      "albany au\n",
      "adrar dz\n",
      "rikitea pf\n",
      "abu dhabi ae\n",
      "kalmar se\n",
      "fortuna us\n",
      "albany au\n",
      "hermanus za\n",
      "illoqqortoormiut gl\n",
      "aklavik ca\n",
      "santo antonio do ica br\n",
      "tazmalt dz\n",
      "ushuaia ar\n",
      "saint george bm\n",
      "alofi nu\n",
      "bluff nz\n",
      "vila franca do campo pt\n",
      "saint-philippe re\n",
      "hilo us\n",
      "new norfolk au\n",
      "mataura pf\n",
      "duz tn\n",
      "beringovskiy ru\n",
      "puerto ayora ec\n",
      "jamestown sh\n",
      "inderborskiy kz\n",
      "surt ly\n",
      "kahului us\n",
      "pevek ru\n",
      "saleaula ws\n",
      "falmouth gb\n",
      "souillac mu\n",
      "fukue jp\n",
      "kahului us\n",
      "morehead pg\n",
      "saleaula ws\n",
      "khatanga ru\n",
      "iqaluit ca\n",
      "punta arenas cl\n",
      "wagar sd\n",
      "havre-saint-pierre ca\n",
      "pascagoula us\n",
      "fairbanks us\n",
      "khatanga ru\n",
      "avarua ck\n",
      "mataura pf\n",
      "yerbogachen ru\n",
      "kieta pg\n",
      "catalina ca\n",
      "chuy uy\n",
      "kahului us\n",
      "tongren cn\n",
      "kapaa us\n",
      "albany au\n",
      "mahebourg mu\n",
      "odweyne so\n",
      "ivaipora br\n",
      "kendari id\n",
      "amapa br\n",
      "taolanaro mg\n",
      "guerrero negro mx\n",
      "busselton au\n",
      "mar del plata ar\n",
      "lolua tv\n",
      "barrow us\n",
      "hermanus za\n",
      "atuona pf\n",
      "attawapiskat ca\n",
      "bethel us\n",
      "albany au\n",
      "copala mx\n",
      "kruisfontein za\n",
      "kapaa us\n",
      "kahului us\n",
      "castro cl\n",
      "labutta mm\n",
      "dekoa cf\n",
      "guerrero negro mx\n",
      "bredasdorp za\n",
      "busselton au\n",
      "clarence town bs\n",
      "hobart au\n",
      "cidreira br\n",
      "avarua ck\n",
      "jingdezhen cn\n",
      "zhigansk ru\n",
      "avarua ck\n",
      "port alfred za\n",
      "gao ml\n",
      "bredasdorp za\n",
      "ushuaia ar\n",
      "malwan in\n",
      "mataura pf\n",
      "hobart au\n",
      "taolanaro mg\n",
      "ushuaia ar\n",
      "nizhneyansk ru\n",
      "saint george bm\n",
      "rikitea pf\n",
      "taolanaro mg\n",
      "jamestown sh\n",
      "laguna br\n",
      "udachnyy ru\n",
      "korla cn\n",
      "hammerfest no\n",
      "yellowknife ca\n",
      "puerto ayora ec\n",
      "cherskiy ru\n",
      "saint-philippe re\n",
      "taolanaro mg\n",
      "bluff nz\n",
      "whithorn gb\n",
      "vaini to\n",
      "castro cl\n",
      "new norfolk au\n",
      "arraial do cabo br\n",
      "nikolskoye ru\n",
      "kahului us\n",
      "asau tv\n",
      "waingapu id\n",
      "bluff nz\n",
      "katobu id\n",
      "sinegorye ru\n",
      "del rio us\n",
      "taolanaro mg\n",
      "thompson ca\n",
      "hithadhoo mv\n",
      "nikolskoye ru\n",
      "costesti ro\n",
      "severo-kurilsk ru\n",
      "provideniya ru\n",
      "hobart au\n",
      "yenagoa ng\n",
      "jamestown sh\n",
      "rikitea pf\n",
      "vaini to\n",
      "bluff nz\n",
      "busselton au\n",
      "hobart au\n",
      "avarua ck\n",
      "puerto ayora ec\n",
      "ushuaia ar\n",
      "yellowknife ca\n",
      "dikson ru\n",
      "atuona pf\n",
      "leningradskiy ru\n",
      "chimbote pe\n",
      "vaini to\n",
      "victoria sc\n",
      "tuktoyaktuk ca\n",
      "cape town za\n",
      "dikson ru\n",
      "repnoye ru\n",
      "kavieng pg\n",
      "taburi ph\n",
      "bluff nz\n",
      "punta arenas cl\n",
      "punta arenas cl\n",
      "albany au\n",
      "okhotsk ru\n",
      "evensk ru\n",
      "boende cd\n",
      "manta ec\n",
      "yulara au\n",
      "udachnyy ru\n",
      "busselton au\n",
      "sambava mg\n",
      "sentyabrskiy ru\n",
      "east london za\n",
      "shumskiy ru\n",
      "meulaboh id\n",
      "ramanuj ganj in\n",
      "pevek ru\n",
      "punta arenas cl\n",
      "shingu jp\n",
      "tingrela ci\n",
      "hermanus za\n",
      "bredasdorp za\n",
      "saint-philippe re\n",
      "stokmarknes no\n",
      "vila velha br\n",
      "charagua bo\n",
      "bredasdorp za\n",
      "cienfuegos cu\n",
      "bluff nz\n",
      "tasiilaq gl\n",
      "saldanha za\n",
      "kenai us\n",
      "umm lajj sa\n",
      "atuona pf\n",
      "punta arenas cl\n",
      "bathsheba bb\n",
      "lobito ao\n",
      "punta arenas cl\n",
      "taolanaro mg\n",
      "mataura pf\n",
      "vestmannaeyjar is\n",
      "esperance au\n",
      "belushya guba ru\n",
      "albany au\n",
      "yuancheng cn\n",
      "albany au\n",
      "barrow us\n",
      "tsihombe mg\n",
      "mataura pf\n",
      "port alfred za\n",
      "rikitea pf\n",
      "komsomolskiy ru\n",
      "torrox es\n",
      "pochutla mx\n",
      "lagos pt\n",
      "sungaipenuh id\n",
      "severo-kurilsk ru\n",
      "sao filipe cv\n",
      "ushuaia ar\n",
      "lompoc us\n",
      "codrington ag\n",
      "rikitea pf\n",
      "mpika zm\n",
      "mudbidri in\n",
      "tasiilaq gl\n",
      "illoqqortoormiut gl\n",
      "cacapava do sul br\n",
      "batticaloa lk\n",
      "asau tv\n",
      "mount gambier au\n",
      "magadi ke\n",
      "cairns au\n",
      "asau tv\n",
      "attawapiskat ca\n",
      "punta arenas cl\n",
      "lexington us\n",
      "busselton au\n",
      "saskylakh ru\n",
      "ushuaia ar\n",
      "banjar id\n",
      "leningradskiy ru\n",
      "alice springs au\n",
      "taolanaro mg\n",
      "vaitupu wf\n",
      "rikitea pf\n",
      "busselton au\n",
      "sao jose da coroa grande br\n",
      "dunedin nz\n",
      "ushuaia ar\n",
      "grand river south east mu\n",
      "hervey bay au\n",
      "diffa ne\n",
      "dikson ru\n",
      "wisconsin rapids us\n",
      "guadix es\n",
      "dongsheng cn\n"
     ]
    }
   ],
   "source": [
    "# Use the tuple() function to display the latitude and longitude combinations.\n",
    "for coordinate in coordinates:\n",
    "    print(citipy.nearest_city(coordinate[0], coordinate[1]).city_name,\n",
    "          citipy.nearest_city(coordinate[0], coordinate[1]).country_code)"
   ]
  },
  {
   "cell_type": "code",
   "execution_count": 6,
   "metadata": {},
   "outputs": [
    {
     "data": {
      "text/plain": [
       "265"
      ]
     },
     "execution_count": 6,
     "metadata": {},
     "output_type": "execute_result"
    }
   ],
   "source": [
    "# Create a list for holding the cities.\n",
    "cities = []\n",
    "# Identify the nearest city for each latitude and longitude combination.\n",
    "for coordinate in coordinates:\n",
    "    city = citipy.nearest_city(coordinate[0], coordinate[1]).city_name\n",
    "\n",
    "    # If the city is unique, then we will add it to the cities list.\n",
    "    if city not in cities:\n",
    "        cities.append(city)\n",
    "# Print the city count to confirm sufficient count.\n",
    "len(cities)"
   ]
  },
  {
   "cell_type": "markdown",
   "metadata": {},
   "source": [
    "# Module 6.2.1: Understanding APIs\n"
   ]
  },
  {
   "cell_type": "code",
   "execution_count": 7,
   "metadata": {},
   "outputs": [],
   "source": [
    "#Using an API has its limitations because not all information from a server is accessible. Most APIs have tiered services, \n",
    "#from free to paid. Free services allow access to limited information, and paid subscriptions provide more access based on \n",
    "#the payment plan. Our company has a paid subscription for APIs, but we can only get certain information from websites on \n",
    "#hotels such as location, accessibility, rooms, prices, services, and amenities, as well as regional weather data."
   ]
  },
  {
   "cell_type": "markdown",
   "metadata": {},
   "source": [
    "# Module 6.2.2: Get Started with OpenWeatherMap API"
   ]
  },
  {
   "cell_type": "code",
   "execution_count": 8,
   "metadata": {},
   "outputs": [],
   "source": [
    "#Launch the Anaconda Prompt for your PythonData environment.\n",
    "#After the Python prompt, >, type python to launch Python.\n",
    "#At the Python prompt, >>>, type import requests and press Enter.\n",
    "#On the next line type requests.__version__ and press Enter.\n",
    "#The output should be version 2.22.0 or later."
   ]
  },
  {
   "cell_type": "markdown",
   "metadata": {},
   "source": [
    "# Module 6.2.4: Make an API Call\n",
    "## Retrieve a Response Using the get() Method"
   ]
  },
  {
   "cell_type": "code",
   "execution_count": 9,
   "metadata": {},
   "outputs": [],
   "source": [
    "# Import the requests library.\n",
    "import requests\n",
    "\n",
    "# Import the API key.\n",
    "from config import weather_api_key"
   ]
  },
  {
   "cell_type": "code",
   "execution_count": 10,
   "metadata": {},
   "outputs": [
    {
     "name": "stdout",
     "output_type": "stream",
     "text": [
      "http://api.openweathermap.org/data/2.5/weather?units=Imperial&APPID=f1fbebd8ae0bab942dba92d8bad5d83b&q=Boston\n"
     ]
    }
   ],
   "source": [
    "# Starting URL for Weather Map API Call.\n",
    "url = \"http://api.openweathermap.org/data/2.5/weather?units=Imperial&APPID=\" + weather_api_key+ \"&q=\" + \"Boston\"\n",
    "print(url)"
   ]
  },
  {
   "cell_type": "code",
   "execution_count": 11,
   "metadata": {},
   "outputs": [
    {
     "name": "stdout",
     "output_type": "stream",
     "text": [
      "http://api.openweathermap.org/data/2.5/weather?units=Imperial&APPID=f1fbebd8ae0bab942dba92d8bad5d83b&q=Boston&q=Boston\n"
     ]
    }
   ],
   "source": [
    "# Create an endpoint URL for a city.\n",
    "city_url = url + \"&q=\" + \"Boston\"\n",
    "print(city_url)"
   ]
  },
  {
   "cell_type": "code",
   "execution_count": 12,
   "metadata": {},
   "outputs": [
    {
     "data": {
      "text/plain": [
       "<Response [200]>"
      ]
     },
     "execution_count": 12,
     "metadata": {},
     "output_type": "execute_result"
    }
   ],
   "source": [
    "# Make a 'Get' request for the city weather.\n",
    "city_weather = requests.get(city_url)\n",
    "city_weather\n",
    "\n",
    "#The code output will be <Response [200]>, indicating a valid response. We won't see this code when a website appears in a \n",
    "#browser. However, when a website does not appear, we'll see a 404 code, indicating a client error. You can directly call \n",
    "#the response code with the get() method using the status_code. If we chain the status_code to the city_weather variable, \n",
    "#we get 200 as the output."
   ]
  },
  {
   "cell_type": "markdown",
   "metadata": {},
   "source": [
    "# Module 6.2.4: Get Data from a Response"
   ]
  },
  {
   "cell_type": "code",
   "execution_count": 13,
   "metadata": {},
   "outputs": [
    {
     "data": {
      "text/plain": [
       "<Response [200]>"
      ]
     },
     "execution_count": 13,
     "metadata": {},
     "output_type": "execute_result"
    }
   ],
   "source": [
    "# Create an endpoint URL for a city.\n",
    "city_url = url + \"&q=\" + \"Boston\"\n",
    "city_weather = requests.get(city_url)\n",
    "city_weather\n",
    "\n",
    "#When we run this cell the output is \"<Response [200]>.\"\n",
    "#When we receive a valid response from the server, we have to decide on the data format. The options are text, JSON, XML, \n",
    "#or HTML format. We can apply the format attributes to get the data into a useful format to parse.\n",
    "#One format that provides a preview of the JSON data is the text attribute. Let's get the content for the Boston weather \n",
    "#data using the following code."
   ]
  },
  {
   "cell_type": "code",
   "execution_count": 14,
   "metadata": {},
   "outputs": [
    {
     "data": {
      "text/plain": [
       "'{\"coord\":{\"lon\":-71.0598,\"lat\":42.3584},\"weather\":[{\"id\":804,\"main\":\"Clouds\",\"description\":\"overcast clouds\",\"icon\":\"04n\"}],\"base\":\"stations\",\"main\":{\"temp\":51.94,\"feels_like\":47.84,\"temp_min\":48.2,\"temp_max\":55.99,\"pressure\":1022,\"humidity\":81},\"visibility\":10000,\"wind\":{\"speed\":5.75,\"deg\":100},\"clouds\":{\"all\":90},\"dt\":1616629953,\"sys\":{\"type\":1,\"id\":3486,\"country\":\"US\",\"sunrise\":1616582406,\"sunset\":1616626836},\"timezone\":-14400,\"id\":4930956,\"name\":\"Boston\",\"cod\":200}'"
      ]
     },
     "execution_count": 14,
     "metadata": {},
     "output_type": "execute_result"
    }
   ],
   "source": [
    "# Get the text of the 'Get' request.\n",
    "city_weather.text\n",
    "#The text in the output is a dictionary of dictionaries and arrays, or a JSON file. We can work with this data, but it \n",
    "#might be more challenging if we needed to retrieve temperature (temp) and humidity ( humidity) from this output because \n",
    "#the data is in a sentence format."
   ]
  },
  {
   "cell_type": "code",
   "execution_count": 15,
   "metadata": {},
   "outputs": [
    {
     "data": {
      "text/plain": [
       "{'coord': {'lon': -71.0598, 'lat': 42.3584},\n",
       " 'weather': [{'id': 804,\n",
       "   'main': 'Clouds',\n",
       "   'description': 'overcast clouds',\n",
       "   'icon': '04n'}],\n",
       " 'base': 'stations',\n",
       " 'main': {'temp': 51.94,\n",
       "  'feels_like': 47.84,\n",
       "  'temp_min': 48.2,\n",
       "  'temp_max': 55.99,\n",
       "  'pressure': 1022,\n",
       "  'humidity': 81},\n",
       " 'visibility': 10000,\n",
       " 'wind': {'speed': 5.75, 'deg': 100},\n",
       " 'clouds': {'all': 90},\n",
       " 'dt': 1616629953,\n",
       " 'sys': {'type': 1,\n",
       "  'id': 3486,\n",
       "  'country': 'US',\n",
       "  'sunrise': 1616582406,\n",
       "  'sunset': 1616626836},\n",
       " 'timezone': -14400,\n",
       " 'id': 4930956,\n",
       " 'name': 'Boston',\n",
       " 'cod': 200}"
      ]
     },
     "execution_count": 15,
     "metadata": {},
     "output_type": "execute_result"
    }
   ],
   "source": [
    "# Get the JSON text of the 'Get' request.\n",
    "city_weather.json()"
   ]
  },
  {
   "cell_type": "markdown",
   "metadata": {},
   "source": [
    "# Module 6.2.4: Handle Request Errors"
   ]
  },
  {
   "cell_type": "code",
   "execution_count": 16,
   "metadata": {},
   "outputs": [
    {
     "name": "stdout",
     "output_type": "stream",
     "text": [
      "City Weather found.\n"
     ]
    }
   ],
   "source": [
    "#When we submit a get request for the city_weather, we want to make sure that we get a valid response, i.e., 200, before \n",
    "#we retrieve any data. To check if we get a valid response, we can write a conditional expression that will evaluate \n",
    "#whether the status code is equal to 200. If it is, then we can print out a statement that says the weather data was found. \n",
    "#If there is a response other than 200, we can print out a statement that says the weather was not found, as in the \n",
    "#following example:\n",
    "# Create an endpoint URL for a city.\n",
    "city_url = url + \"&q=\" + \"Boston\"\n",
    "city_weather = requests.get(city_url)\n",
    "if city_weather.status_code == 200:\n",
    "    print(f\"City Weather found.\")\n",
    "else:\n",
    "    print(f\"City weather not found.\")\n",
    "    \n",
    "#When the conditional expression is evaluated, it will print City weather found if true, or City weather not found if false.\n",
    "#When we run the cell code above, the output is City weather found."
   ]
  },
  {
   "cell_type": "code",
   "execution_count": 17,
   "metadata": {},
   "outputs": [
    {
     "name": "stdout",
     "output_type": "stream",
     "text": [
      "http://api.openweathermap.org/data/2.5/weather?units=Imperial&APPID=f1fbebd8ae0bab942dba92d8bad5d83b&q=Boston&q=Boston\n"
     ]
    }
   ],
   "source": [
    "#However, if we type print(city_url) in a new cell and run the cell, the output will be a URL. If we click the URL, the \n",
    "#web browser returns a 404 response and there is no data to retrieve.\n",
    "print(city_url)\n"
   ]
  },
  {
   "cell_type": "markdown",
   "metadata": {},
   "source": [
    "# Module 6.2.5: Parse a Response from an API"
   ]
  },
  {
   "cell_type": "code",
   "execution_count": 18,
   "metadata": {},
   "outputs": [
    {
     "data": {
      "text/plain": [
       "{'coord': {'lon': -71.0598, 'lat': 42.3584},\n",
       " 'weather': [{'id': 804,\n",
       "   'main': 'Clouds',\n",
       "   'description': 'overcast clouds',\n",
       "   'icon': '04n'}],\n",
       " 'base': 'stations',\n",
       " 'main': {'temp': 51.94,\n",
       "  'feels_like': 47.84,\n",
       "  'temp_min': 48.2,\n",
       "  'temp_max': 55.99,\n",
       "  'pressure': 1022,\n",
       "  'humidity': 81},\n",
       " 'visibility': 10000,\n",
       " 'wind': {'speed': 5.75, 'deg': 100},\n",
       " 'clouds': {'all': 90},\n",
       " 'dt': 1616629953,\n",
       " 'sys': {'type': 1,\n",
       "  'id': 3486,\n",
       "  'country': 'US',\n",
       "  'sunrise': 1616582406,\n",
       "  'sunset': 1616626836},\n",
       " 'timezone': -14400,\n",
       " 'id': 4930956,\n",
       " 'name': 'Boston',\n",
       " 'cod': 200}"
      ]
     },
     "execution_count": 18,
     "metadata": {},
     "output_type": "execute_result"
    }
   ],
   "source": [
    "#Before we collect weather data from more than 500 cities, we'll walk through how to get the weather data from Boston. \n",
    "#First, correct the spelling for the city of Boston to get a valid URL\n",
    "# Create an endpoint URL for a city.\n",
    "city_url = url + \"&q=\" + \"Boston\"\n",
    "city_weather = requests.get(city_url)\n",
    "city_weather.json()"
   ]
  },
  {
   "cell_type": "code",
   "execution_count": 19,
   "metadata": {},
   "outputs": [],
   "source": [
    "#let's assign a variable to the city_weather.json() data to the variable \"boston_data\" \n",
    "# Get the JSON data.\n",
    "boston_data = city_weather.json()"
   ]
  },
  {
   "cell_type": "code",
   "execution_count": 20,
   "metadata": {},
   "outputs": [
    {
     "data": {
      "text/plain": [
       "'US'"
      ]
     },
     "execution_count": 20,
     "metadata": {},
     "output_type": "execute_result"
    }
   ],
   "source": [
    "boston_data['sys']['country']"
   ]
  },
  {
   "cell_type": "code",
   "execution_count": 21,
   "metadata": {},
   "outputs": [
    {
     "data": {
      "text/plain": [
       "1616629953"
      ]
     },
     "execution_count": 21,
     "metadata": {},
     "output_type": "execute_result"
    }
   ],
   "source": [
    "#If we want to retrieve the date in the weather data, we would add the dt key to the boston_data variable\n",
    "boston_data[\"dt\"]"
   ]
  },
  {
   "cell_type": "code",
   "execution_count": 22,
   "metadata": {},
   "outputs": [
    {
     "name": "stdout",
     "output_type": "stream",
     "text": [
      "42.3584 -71.0598 55.99 81 90 5.75\n"
     ]
    }
   ],
   "source": [
    "#Using similar syntax to get the time of day, we can get the latitude, longitude, maximum temperature, humidity, \n",
    "#percent cloudiness, and wind speed. Add the following code to a new cell and run the cell.\n",
    "\n",
    "lat = boston_data[\"coord\"][\"lat\"]\n",
    "lng = boston_data[\"coord\"][\"lon\"]\n",
    "max_temp = boston_data[\"main\"][\"temp_max\"]\n",
    "humidity = boston_data[\"main\"][\"humidity\"]\n",
    "clouds = boston_data[\"clouds\"][\"all\"]\n",
    "wind = boston_data[\"wind\"][\"speed\"]\n",
    "print(lat, lng, max_temp, humidity, clouds, wind)"
   ]
  },
  {
   "cell_type": "markdown",
   "metadata": {},
   "source": [
    "# Module 6.2.5: Convert the Date Timestamp"
   ]
  },
  {
   "cell_type": "code",
   "execution_count": 23,
   "metadata": {},
   "outputs": [
    {
     "data": {
      "text/plain": [
       "datetime.datetime(2021, 3, 24, 23, 52, 33)"
      ]
     },
     "execution_count": 23,
     "metadata": {},
     "output_type": "execute_result"
    }
   ],
   "source": [
    "#Let's convert the date from the Boston weather data in the JSON format to the ISO format\n",
    "\n",
    "# Import the datetime module from the datetime library.\n",
    "from datetime import datetime\n",
    "# Get the date from the JSON file.\n",
    "date = boston_data[\"dt\"]\n",
    "# Convert the UTC date to a date format with year, month, day, hours, minutes, and seconds.\n",
    "datetime.utcfromtimestamp(date)"
   ]
  },
  {
   "cell_type": "markdown",
   "metadata": {},
   "source": [
    "# Module 6.2.6: Get the City Weather Data\n"
   ]
  },
  {
   "cell_type": "code",
   "execution_count": 24,
   "metadata": {},
   "outputs": [],
   "source": [
    "#1. Import our dependencies and initialize counters and an empty list that will hold the weather data.\n",
    "#2. Loop through the cities list.\n",
    "#3. Group the cities in sets of 50 to log the process as we find the weather data for each city.\n",
    "    #Two counters will be needed here: one to log the city count from 1 to 50, and another for the sets.\n",
    "#4. Build the city_url or endpoint for each city.\n",
    "#5. Log the URL and the record and set numbers.\n",
    "#6. Make an API request for each city.\n",
    "#7. Parse the JSON weather data for the following:\n",
    "    #City, country, and date\n",
    "    #Latitude and longitude\n",
    "    #Maximum temperature\n",
    "    #Humidity\n",
    "    #Cloudiness\n",
    "    #Wind speed\n",
    "#8. Add the data to a list in a dictionary format and then convert the list to a DataFrame."
   ]
  },
  {
   "cell_type": "markdown",
   "metadata": {},
   "source": [
    "# 1. Import Dependencies, and Initialize an Empty List and Counters"
   ]
  },
  {
   "cell_type": "code",
   "execution_count": 25,
   "metadata": {},
   "outputs": [],
   "source": [
    "# Import the datetime module from the datetime library.\n",
    "from datetime import datetime\n",
    "\n",
    "# Import the requests library.\n",
    "import requests\n",
    "\n",
    "# Import the API key.\n",
    "from config import weather_api_key\n",
    "\n",
    "# Import the datetime module from the datetime library.\n",
    "from datetime import datetime"
   ]
  },
  {
   "cell_type": "code",
   "execution_count": 26,
   "metadata": {},
   "outputs": [],
   "source": [
    "url = \"http://api.openweathermap.org/data/2.5/weather?units=Imperial&APPID=\" + weather_api_key"
   ]
  },
  {
   "cell_type": "code",
   "execution_count": 27,
   "metadata": {},
   "outputs": [
    {
     "name": "stdout",
     "output_type": "stream",
     "text": [
      "Beginning Data Retrieval     \n",
      "-----------------------------\n"
     ]
    }
   ],
   "source": [
    "# Create an empty list to hold the weather data.\n",
    "city_data = []\n",
    "# Print the beginning of the logging.\n",
    "print(\"Beginning Data Retrieval     \")\n",
    "print(\"-----------------------------\")\n",
    "\n",
    "# Create counters.\n",
    "record_count = 1\n",
    "set_count = 1\n",
    "\n",
    "#In the code block, we have initialized the counters at 1 because we want the first iteration of the logging for each \n",
    "#recorded response and the set to start at 1."
   ]
  },
  {
   "cell_type": "markdown",
   "metadata": {},
   "source": [
    "# 2. Loop Through the List of Cities and Build the City URL"
   ]
  },
  {
   "cell_type": "code",
   "execution_count": 28,
   "metadata": {},
   "outputs": [
    {
     "name": "stdout",
     "output_type": "stream",
     "text": [
      "Processing Record 1 of Set 1 | fortuna\n",
      "Processing Record 2 of Set 1 | tsihombe\n",
      "City not found. Skipping...\n",
      "Processing Record 3 of Set 1 | mys shmidta\n",
      "City not found. Skipping...\n",
      "Processing Record 4 of Set 1 | khatanga\n",
      "Processing Record 5 of Set 1 | puerto ayora\n",
      "Processing Record 6 of Set 1 | tupik\n",
      "Processing Record 7 of Set 1 | dzhusaly\n",
      "City not found. Skipping...\n",
      "Processing Record 8 of Set 1 | ushuaia\n",
      "Processing Record 9 of Set 1 | bluff\n",
      "Processing Record 10 of Set 1 | saint-philippe\n",
      "Processing Record 11 of Set 1 | kondinskoye\n",
      "Processing Record 12 of Set 1 | albany\n",
      "Processing Record 13 of Set 1 | vostok\n",
      "Processing Record 14 of Set 1 | lebu\n",
      "Processing Record 15 of Set 1 | namibe\n",
      "Processing Record 16 of Set 1 | esperance\n",
      "Processing Record 17 of Set 1 | belushya guba\n",
      "City not found. Skipping...\n",
      "Processing Record 18 of Set 1 | port macquarie\n",
      "Processing Record 19 of Set 1 | tuktoyaktuk\n",
      "Processing Record 20 of Set 1 | mahebourg\n",
      "Processing Record 21 of Set 1 | vaini\n",
      "Processing Record 22 of Set 1 | kapaa\n",
      "Processing Record 23 of Set 1 | basco\n",
      "Processing Record 24 of Set 1 | hermanus\n",
      "Processing Record 25 of Set 1 | new norfolk\n",
      "Processing Record 26 of Set 1 | jizan\n",
      "Processing Record 27 of Set 1 | barrow\n",
      "Processing Record 28 of Set 1 | port blair\n",
      "Processing Record 29 of Set 1 | sentyabrskiy\n",
      "City not found. Skipping...\n",
      "Processing Record 30 of Set 1 | bonthe\n",
      "Processing Record 31 of Set 1 | atuona\n",
      "Processing Record 32 of Set 1 | carnarvon\n",
      "Processing Record 33 of Set 1 | east london\n",
      "Processing Record 34 of Set 1 | yellowknife\n",
      "Processing Record 35 of Set 1 | evensk\n",
      "Processing Record 36 of Set 1 | saleaula\n",
      "City not found. Skipping...\n",
      "Processing Record 37 of Set 1 | ballina\n",
      "Processing Record 38 of Set 1 | narsaq\n",
      "Processing Record 39 of Set 1 | peniche\n",
      "Processing Record 40 of Set 1 | west bay\n",
      "Processing Record 41 of Set 1 | illoqqortoormiut\n",
      "City not found. Skipping...\n",
      "Processing Record 42 of Set 1 | eureka\n",
      "Processing Record 43 of Set 1 | chokurdakh\n",
      "Processing Record 44 of Set 1 | bredasdorp\n",
      "Processing Record 45 of Set 1 | katsuura\n",
      "Processing Record 46 of Set 1 | luwingu\n",
      "Processing Record 47 of Set 1 | cabo san lucas\n",
      "Processing Record 48 of Set 1 | bambous virieux\n",
      "Processing Record 49 of Set 1 | vaitupu\n",
      "City not found. Skipping...\n",
      "Processing Record 50 of Set 1 | neijiang\n",
      "Processing Record 1 of Set 2 | mataura\n",
      "Processing Record 2 of Set 2 | rikitea\n",
      "Processing Record 3 of Set 2 | amderma\n",
      "City not found. Skipping...\n",
      "Processing Record 4 of Set 2 | punta arenas\n",
      "Processing Record 5 of Set 2 | iqaluit\n",
      "Processing Record 6 of Set 2 | murgab\n",
      "Processing Record 7 of Set 2 | laguna\n",
      "Processing Record 8 of Set 2 | bengbu\n",
      "Processing Record 9 of Set 2 | pahrump\n",
      "Processing Record 10 of Set 2 | huambo\n",
      "Processing Record 11 of Set 2 | cape town\n",
      "Processing Record 12 of Set 2 | nalut\n",
      "Processing Record 13 of Set 2 | hobart\n",
      "Processing Record 14 of Set 2 | hasaki\n",
      "Processing Record 15 of Set 2 | atocha\n",
      "Processing Record 16 of Set 2 | hilo\n",
      "Processing Record 17 of Set 2 | talnakh\n",
      "Processing Record 18 of Set 2 | kahului\n",
      "Processing Record 19 of Set 2 | svetlyy\n",
      "Processing Record 20 of Set 2 | kieta\n",
      "Processing Record 21 of Set 2 | vangaindrano\n",
      "Processing Record 22 of Set 2 | te anau\n",
      "Processing Record 23 of Set 2 | mao\n",
      "Processing Record 24 of Set 2 | castro\n",
      "Processing Record 25 of Set 2 | clyde river\n",
      "Processing Record 26 of Set 2 | solnechnyy\n",
      "Processing Record 27 of Set 2 | georgetown\n",
      "Processing Record 28 of Set 2 | ambulu\n",
      "Processing Record 29 of Set 2 | taolanaro\n",
      "City not found. Skipping...\n",
      "Processing Record 30 of Set 2 | severo-kurilsk\n",
      "Processing Record 31 of Set 2 | busselton\n",
      "Processing Record 32 of Set 2 | lata\n",
      "Processing Record 33 of Set 2 | lichinga\n",
      "Processing Record 34 of Set 2 | nokha\n",
      "Processing Record 35 of Set 2 | tiksi\n",
      "Processing Record 36 of Set 2 | ponta do sol\n",
      "Processing Record 37 of Set 2 | grand river south east\n",
      "City not found. Skipping...\n",
      "Processing Record 38 of Set 2 | chuy\n",
      "Processing Record 39 of Set 2 | thompson\n",
      "Processing Record 40 of Set 2 | umzimvubu\n",
      "City not found. Skipping...\n",
      "Processing Record 41 of Set 2 | gimli\n",
      "Processing Record 42 of Set 2 | elizabeth city\n",
      "Processing Record 43 of Set 2 | promysla\n",
      "City not found. Skipping...\n",
      "Processing Record 44 of Set 2 | airai\n",
      "Processing Record 45 of Set 2 | manaure\n",
      "Processing Record 46 of Set 2 | port elizabeth\n",
      "Processing Record 47 of Set 2 | college\n",
      "Processing Record 48 of Set 2 | jamestown\n",
      "Processing Record 49 of Set 2 | rawson\n",
      "Processing Record 50 of Set 2 | pangnirtung\n",
      "Processing Record 1 of Set 3 | san cristobal\n",
      "Processing Record 2 of Set 3 | mastic beach\n",
      "Processing Record 3 of Set 3 | waingapu\n",
      "Processing Record 4 of Set 3 | batticaloa\n",
      "Processing Record 5 of Set 3 | poum\n",
      "Processing Record 6 of Set 3 | alto araguaia\n",
      "Processing Record 7 of Set 3 | tandlianwala\n",
      "Processing Record 8 of Set 3 | youhao\n",
      "Processing Record 9 of Set 3 | cravo norte\n",
      "Processing Record 10 of Set 3 | port alfred\n",
      "Processing Record 11 of Set 3 | ancud\n",
      "Processing Record 12 of Set 3 | tura\n",
      "Processing Record 13 of Set 3 | faanui\n",
      "Processing Record 14 of Set 3 | sartell\n",
      "Processing Record 15 of Set 3 | butaritari\n",
      "Processing Record 16 of Set 3 | wulanhaote\n",
      "City not found. Skipping...\n",
      "Processing Record 17 of Set 3 | tautira\n",
      "Processing Record 18 of Set 3 | banda aceh\n",
      "Processing Record 19 of Set 3 | kaitangata\n",
      "Processing Record 20 of Set 3 | san angelo\n",
      "Processing Record 21 of Set 3 | padang\n",
      "Processing Record 22 of Set 3 | upernavik\n",
      "Processing Record 23 of Set 3 | gravdal\n",
      "Processing Record 24 of Set 3 | maragogi\n",
      "Processing Record 25 of Set 3 | barentsburg\n",
      "City not found. Skipping...\n",
      "Processing Record 26 of Set 3 | kotagiri\n",
      "Processing Record 27 of Set 3 | avarua\n",
      "Processing Record 28 of Set 3 | mehamn\n",
      "Processing Record 29 of Set 3 | severodvinsk\n",
      "Processing Record 30 of Set 3 | san jose de rio tinto\n",
      "Processing Record 31 of Set 3 | diu\n",
      "Processing Record 32 of Set 3 | pevek\n",
      "Processing Record 33 of Set 3 | chulumani\n",
      "Processing Record 34 of Set 3 | iwanai\n",
      "Processing Record 35 of Set 3 | flinders\n",
      "Processing Record 36 of Set 3 | luderitz\n",
      "Processing Record 37 of Set 3 | benavente\n",
      "Processing Record 38 of Set 3 | qaanaaq\n",
      "Processing Record 39 of Set 3 | eisenberg\n",
      "Processing Record 40 of Set 3 | broken hill\n",
      "Processing Record 41 of Set 3 | ahumada\n",
      "City not found. Skipping...\n",
      "Processing Record 42 of Set 3 | tuysarkan\n",
      "City not found. Skipping...\n",
      "Processing Record 43 of Set 3 | nyurba\n",
      "Processing Record 44 of Set 3 | sola\n",
      "Processing Record 45 of Set 3 | pisco\n",
      "Processing Record 46 of Set 3 | quang ngai\n",
      "Processing Record 47 of Set 3 | praia\n",
      "Processing Record 48 of Set 3 | vanino\n",
      "Processing Record 49 of Set 3 | moron\n",
      "Processing Record 50 of Set 3 | businga\n",
      "Processing Record 1 of Set 4 | hithadhoo\n",
      "Processing Record 2 of Set 4 | victoria\n",
      "Processing Record 3 of Set 4 | provideniya\n",
      "Processing Record 4 of Set 4 | lorengau\n",
      "Processing Record 5 of Set 4 | dakar\n",
      "Processing Record 6 of Set 4 | adrar\n",
      "Processing Record 7 of Set 4 | abu dhabi\n",
      "Processing Record 8 of Set 4 | kalmar\n",
      "Processing Record 9 of Set 4 | aklavik\n",
      "Processing Record 10 of Set 4 | santo antonio do ica\n",
      "Processing Record 11 of Set 4 | tazmalt\n",
      "Processing Record 12 of Set 4 | saint george\n",
      "Processing Record 13 of Set 4 | alofi\n",
      "Processing Record 14 of Set 4 | vila franca do campo\n",
      "Processing Record 15 of Set 4 | duz\n",
      "City not found. Skipping...\n",
      "Processing Record 16 of Set 4 | beringovskiy\n",
      "Processing Record 17 of Set 4 | inderborskiy\n",
      "City not found. Skipping...\n",
      "Processing Record 18 of Set 4 | surt\n",
      "Processing Record 19 of Set 4 | falmouth\n",
      "Processing Record 20 of Set 4 | souillac\n",
      "Processing Record 21 of Set 4 | fukue\n",
      "Processing Record 22 of Set 4 | morehead\n",
      "Processing Record 23 of Set 4 | wagar\n",
      "Processing Record 24 of Set 4 | havre-saint-pierre\n",
      "Processing Record 25 of Set 4 | pascagoula\n",
      "Processing Record 26 of Set 4 | fairbanks\n",
      "Processing Record 27 of Set 4 | yerbogachen\n",
      "Processing Record 28 of Set 4 | catalina\n",
      "Processing Record 29 of Set 4 | tongren\n",
      "Processing Record 30 of Set 4 | odweyne\n",
      "Processing Record 31 of Set 4 | ivaipora\n",
      "Processing Record 32 of Set 4 | kendari\n",
      "Processing Record 33 of Set 4 | amapa\n",
      "Processing Record 34 of Set 4 | guerrero negro\n",
      "Processing Record 35 of Set 4 | mar del plata\n",
      "Processing Record 36 of Set 4 | lolua\n",
      "City not found. Skipping...\n",
      "Processing Record 37 of Set 4 | attawapiskat\n",
      "City not found. Skipping...\n",
      "Processing Record 38 of Set 4 | bethel\n"
     ]
    },
    {
     "name": "stdout",
     "output_type": "stream",
     "text": [
      "Processing Record 39 of Set 4 | copala\n",
      "Processing Record 40 of Set 4 | kruisfontein\n",
      "Processing Record 41 of Set 4 | labutta\n",
      "City not found. Skipping...\n",
      "Processing Record 42 of Set 4 | dekoa\n",
      "City not found. Skipping...\n",
      "Processing Record 43 of Set 4 | clarence town\n",
      "Processing Record 44 of Set 4 | cidreira\n",
      "Processing Record 45 of Set 4 | jingdezhen\n",
      "Processing Record 46 of Set 4 | zhigansk\n",
      "Processing Record 47 of Set 4 | gao\n",
      "Processing Record 48 of Set 4 | malwan\n",
      "City not found. Skipping...\n",
      "Processing Record 49 of Set 4 | nizhneyansk\n",
      "City not found. Skipping...\n",
      "Processing Record 50 of Set 4 | udachnyy\n",
      "Processing Record 1 of Set 5 | korla\n",
      "Processing Record 2 of Set 5 | hammerfest\n",
      "Processing Record 3 of Set 5 | cherskiy\n",
      "Processing Record 4 of Set 5 | whithorn\n",
      "Processing Record 5 of Set 5 | arraial do cabo\n",
      "Processing Record 6 of Set 5 | nikolskoye\n",
      "Processing Record 7 of Set 5 | asau\n",
      "Processing Record 8 of Set 5 | katobu\n",
      "Processing Record 9 of Set 5 | sinegorye\n",
      "Processing Record 10 of Set 5 | del rio\n",
      "Processing Record 11 of Set 5 | costesti\n",
      "Processing Record 12 of Set 5 | yenagoa\n",
      "Processing Record 13 of Set 5 | dikson\n",
      "Processing Record 14 of Set 5 | leningradskiy\n",
      "Processing Record 15 of Set 5 | chimbote\n",
      "Processing Record 16 of Set 5 | repnoye\n",
      "Processing Record 17 of Set 5 | kavieng\n",
      "Processing Record 18 of Set 5 | taburi\n",
      "City not found. Skipping...\n",
      "Processing Record 19 of Set 5 | okhotsk\n",
      "Processing Record 20 of Set 5 | boende\n",
      "Processing Record 21 of Set 5 | manta\n",
      "Processing Record 22 of Set 5 | yulara\n",
      "Processing Record 23 of Set 5 | sambava\n",
      "Processing Record 24 of Set 5 | shumskiy\n",
      "Processing Record 25 of Set 5 | meulaboh\n",
      "Processing Record 26 of Set 5 | ramanuj ganj\n",
      "Processing Record 27 of Set 5 | shingu\n",
      "Processing Record 28 of Set 5 | tingrela\n",
      "City not found. Skipping...\n",
      "Processing Record 29 of Set 5 | stokmarknes\n",
      "Processing Record 30 of Set 5 | vila velha\n",
      "Processing Record 31 of Set 5 | charagua\n",
      "Processing Record 32 of Set 5 | cienfuegos\n",
      "Processing Record 33 of Set 5 | tasiilaq\n",
      "Processing Record 34 of Set 5 | saldanha\n",
      "Processing Record 35 of Set 5 | kenai\n",
      "Processing Record 36 of Set 5 | umm lajj\n",
      "Processing Record 37 of Set 5 | bathsheba\n",
      "Processing Record 38 of Set 5 | lobito\n",
      "Processing Record 39 of Set 5 | vestmannaeyjar\n",
      "Processing Record 40 of Set 5 | yuancheng\n",
      "Processing Record 41 of Set 5 | komsomolskiy\n",
      "Processing Record 42 of Set 5 | torrox\n",
      "Processing Record 43 of Set 5 | pochutla\n",
      "Processing Record 44 of Set 5 | lagos\n",
      "Processing Record 45 of Set 5 | sungaipenuh\n",
      "Processing Record 46 of Set 5 | sao filipe\n",
      "Processing Record 47 of Set 5 | lompoc\n",
      "Processing Record 48 of Set 5 | codrington\n",
      "Processing Record 49 of Set 5 | mpika\n",
      "Processing Record 50 of Set 5 | mudbidri\n",
      "Processing Record 1 of Set 6 | cacapava do sul\n",
      "Processing Record 2 of Set 6 | mount gambier\n",
      "Processing Record 3 of Set 6 | magadi\n",
      "Processing Record 4 of Set 6 | cairns\n",
      "Processing Record 5 of Set 6 | lexington\n",
      "Processing Record 6 of Set 6 | saskylakh\n",
      "Processing Record 7 of Set 6 | banjar\n",
      "Processing Record 8 of Set 6 | alice springs\n",
      "Processing Record 9 of Set 6 | sao jose da coroa grande\n",
      "Processing Record 10 of Set 6 | dunedin\n",
      "Processing Record 11 of Set 6 | hervey bay\n",
      "Processing Record 12 of Set 6 | diffa\n",
      "Processing Record 13 of Set 6 | wisconsin rapids\n",
      "Processing Record 14 of Set 6 | guadix\n",
      "Processing Record 15 of Set 6 | dongsheng\n",
      "-----------------------------\n",
      "Data Retrieval Complete      \n",
      "-----------------------------\n"
     ]
    }
   ],
   "source": [
    "# Loop through all the cities in the list.\n",
    "for i, city in enumerate(cities):\n",
    "\n",
    "    # Group cities in sets of 50 for logging purposes.\n",
    "    if (i % 50 == 0 and i >= 50):\n",
    "        set_count += 1\n",
    "        record_count = 1\n",
    "    # Create endpoint URL with each city.\n",
    "    city_url = url + \"&q=\" + city.replace(\" \",\"+\")\n",
    "\n",
    "    # Log the URL, record, and set numbers and the city.\n",
    "    print(f\"Processing Record {record_count} of Set {set_count} | {city}\")\n",
    "    # Add 1 to the record count.\n",
    "    record_count += 1\n",
    "    \n",
    "    # Run an API request for each of the cities.\n",
    "    try:\n",
    "        # Parse the JSON and retrieve data.\n",
    "        city_weather = requests.get(city_url).json()\n",
    "        # Parse out the needed data.\n",
    "        city_lat = city_weather[\"coord\"][\"lat\"]\n",
    "        city_lng = city_weather[\"coord\"][\"lon\"]\n",
    "        city_max_temp = city_weather[\"main\"][\"temp_max\"]\n",
    "        city_humidity = city_weather[\"main\"][\"humidity\"]\n",
    "        city_clouds = city_weather[\"clouds\"][\"all\"]\n",
    "        city_wind = city_weather[\"wind\"][\"speed\"]\n",
    "        city_country = city_weather[\"sys\"][\"country\"]\n",
    "        # Convert the date to ISO standard.\n",
    "        city_date = datetime.utcfromtimestamp(city_weather[\"dt\"]).strftime('%Y-%m-%d %H:%M:%S')\n",
    "        # Append the city information into city_data list.\n",
    "        city_data.append({\"City\": city.title(),\n",
    "                          \"Lat\": city_lat,\n",
    "                          \"Lng\": city_lng,\n",
    "                          \"Max Temp\": city_max_temp,\n",
    "                          \"Humidity\": city_humidity,\n",
    "                          \"Cloudiness\": city_clouds,\n",
    "                          \"Wind Speed\": city_wind,\n",
    "                          \"Country\": city_country,\n",
    "                          \"Date\": city_date})\n",
    "\n",
    "# If an error is experienced, skip the city.\n",
    "    except:\n",
    "        print(\"City not found. Skipping...\")\n",
    "        pass\n",
    "\n",
    "# Indicate that Data Loading is complete.\n",
    "print(\"-----------------------------\")\n",
    "print(\"Data Retrieval Complete      \")\n",
    "print(\"-----------------------------\")\n",
    "\n",
    "#Let's review the code:\n",
    "\n",
    "#We parse the JSON file for the current city.\n",
    "#If there is no weather data for the city, i.e. , a <Response [404]> then there is no weather to retrieve and City not found. Skipping... is printed.\n",
    "#If there is weather data for the city, we will retrieve the latitude, longitude, maximum temperature, humidity, cloudiness,\n",
    "#wind speed, and date and assign those values to variables.\n",
    "#We could write a try-except block for each one of these parameters to handle the KeyError if the data wasn't found, but \n",
    "#since these parameters are always present in the response this won't be necessary.\n",
    "#We append the cities list with a dictionary for that city, where the key-value pairs are the values from our weather \n",
    "#parameters.\n",
    "#Finally, below the try block and after the except block, we add the closing print statement, which will let us know the \n",
    "#data retrieval has been completed. Make sure that your except block is indented and in line with the try block, and that \n",
    "#the print statements are flush with the margin.\n",
    "#Under the print statement in the except block, we add the pass statement, which is a general purpose statement to handle \n",
    "#all errors encountered and to allow the program to continue."
   ]
  },
  {
   "cell_type": "code",
   "execution_count": 29,
   "metadata": {},
   "outputs": [
    {
     "data": {
      "text/plain": [
       "238"
      ]
     },
     "execution_count": 29,
     "metadata": {},
     "output_type": "execute_result"
    }
   ],
   "source": [
    "# tally the number of cities in the city_data array\n",
    "len(city_data)"
   ]
  },
  {
   "cell_type": "markdown",
   "metadata": {},
   "source": [
    "# Module 6.2.7: Create a DataFrame of City Weather Data"
   ]
  },
  {
   "cell_type": "code",
   "execution_count": 30,
   "metadata": {},
   "outputs": [
    {
     "data": {
      "text/html": [
       "<div>\n",
       "<style scoped>\n",
       "    .dataframe tbody tr th:only-of-type {\n",
       "        vertical-align: middle;\n",
       "    }\n",
       "\n",
       "    .dataframe tbody tr th {\n",
       "        vertical-align: top;\n",
       "    }\n",
       "\n",
       "    .dataframe thead th {\n",
       "        text-align: right;\n",
       "    }\n",
       "</style>\n",
       "<table border=\"1\" class=\"dataframe\">\n",
       "  <thead>\n",
       "    <tr style=\"text-align: right;\">\n",
       "      <th></th>\n",
       "      <th>City</th>\n",
       "      <th>Lat</th>\n",
       "      <th>Lng</th>\n",
       "      <th>Max Temp</th>\n",
       "      <th>Humidity</th>\n",
       "      <th>Cloudiness</th>\n",
       "      <th>Wind Speed</th>\n",
       "      <th>Country</th>\n",
       "      <th>Date</th>\n",
       "    </tr>\n",
       "  </thead>\n",
       "  <tbody>\n",
       "    <tr>\n",
       "      <th>0</th>\n",
       "      <td>Fortuna</td>\n",
       "      <td>40.5982</td>\n",
       "      <td>-124.1573</td>\n",
       "      <td>53.01</td>\n",
       "      <td>81</td>\n",
       "      <td>90</td>\n",
       "      <td>10.36</td>\n",
       "      <td>US</td>\n",
       "      <td>2021-03-25 00:02:13</td>\n",
       "    </tr>\n",
       "    <tr>\n",
       "      <th>1</th>\n",
       "      <td>Khatanga</td>\n",
       "      <td>71.9667</td>\n",
       "      <td>102.5000</td>\n",
       "      <td>-8.23</td>\n",
       "      <td>96</td>\n",
       "      <td>99</td>\n",
       "      <td>3.47</td>\n",
       "      <td>RU</td>\n",
       "      <td>2021-03-24 23:58:18</td>\n",
       "    </tr>\n",
       "    <tr>\n",
       "      <th>2</th>\n",
       "      <td>Puerto Ayora</td>\n",
       "      <td>-0.7393</td>\n",
       "      <td>-90.3518</td>\n",
       "      <td>80.01</td>\n",
       "      <td>87</td>\n",
       "      <td>32</td>\n",
       "      <td>1.01</td>\n",
       "      <td>EC</td>\n",
       "      <td>2021-03-24 23:57:42</td>\n",
       "    </tr>\n",
       "    <tr>\n",
       "      <th>3</th>\n",
       "      <td>Tupik</td>\n",
       "      <td>54.4253</td>\n",
       "      <td>119.9327</td>\n",
       "      <td>17.22</td>\n",
       "      <td>87</td>\n",
       "      <td>38</td>\n",
       "      <td>1.25</td>\n",
       "      <td>RU</td>\n",
       "      <td>2021-03-25 00:02:14</td>\n",
       "    </tr>\n",
       "    <tr>\n",
       "      <th>4</th>\n",
       "      <td>Ushuaia</td>\n",
       "      <td>-54.8000</td>\n",
       "      <td>-68.3000</td>\n",
       "      <td>42.80</td>\n",
       "      <td>75</td>\n",
       "      <td>20</td>\n",
       "      <td>36.82</td>\n",
       "      <td>AR</td>\n",
       "      <td>2021-03-24 23:56:31</td>\n",
       "    </tr>\n",
       "    <tr>\n",
       "      <th>5</th>\n",
       "      <td>Bluff</td>\n",
       "      <td>-46.6000</td>\n",
       "      <td>168.3333</td>\n",
       "      <td>60.01</td>\n",
       "      <td>79</td>\n",
       "      <td>16</td>\n",
       "      <td>1.99</td>\n",
       "      <td>NZ</td>\n",
       "      <td>2021-03-24 23:57:50</td>\n",
       "    </tr>\n",
       "    <tr>\n",
       "      <th>6</th>\n",
       "      <td>Saint-Philippe</td>\n",
       "      <td>-21.3585</td>\n",
       "      <td>55.7679</td>\n",
       "      <td>77.00</td>\n",
       "      <td>78</td>\n",
       "      <td>0</td>\n",
       "      <td>5.75</td>\n",
       "      <td>RE</td>\n",
       "      <td>2021-03-24 23:54:59</td>\n",
       "    </tr>\n",
       "    <tr>\n",
       "      <th>7</th>\n",
       "      <td>Kondinskoye</td>\n",
       "      <td>59.6481</td>\n",
       "      <td>67.4100</td>\n",
       "      <td>23.95</td>\n",
       "      <td>95</td>\n",
       "      <td>100</td>\n",
       "      <td>8.55</td>\n",
       "      <td>RU</td>\n",
       "      <td>2021-03-25 00:02:15</td>\n",
       "    </tr>\n",
       "    <tr>\n",
       "      <th>8</th>\n",
       "      <td>Albany</td>\n",
       "      <td>42.6001</td>\n",
       "      <td>-73.9662</td>\n",
       "      <td>52.00</td>\n",
       "      <td>84</td>\n",
       "      <td>100</td>\n",
       "      <td>4.00</td>\n",
       "      <td>US</td>\n",
       "      <td>2021-03-24 23:55:45</td>\n",
       "    </tr>\n",
       "    <tr>\n",
       "      <th>9</th>\n",
       "      <td>Vostok</td>\n",
       "      <td>46.4856</td>\n",
       "      <td>135.8833</td>\n",
       "      <td>29.35</td>\n",
       "      <td>73</td>\n",
       "      <td>47</td>\n",
       "      <td>2.84</td>\n",
       "      <td>RU</td>\n",
       "      <td>2021-03-25 00:02:15</td>\n",
       "    </tr>\n",
       "  </tbody>\n",
       "</table>\n",
       "</div>"
      ],
      "text/plain": [
       "             City      Lat       Lng  Max Temp  Humidity  Cloudiness  \\\n",
       "0         Fortuna  40.5982 -124.1573     53.01        81          90   \n",
       "1        Khatanga  71.9667  102.5000     -8.23        96          99   \n",
       "2    Puerto Ayora  -0.7393  -90.3518     80.01        87          32   \n",
       "3           Tupik  54.4253  119.9327     17.22        87          38   \n",
       "4         Ushuaia -54.8000  -68.3000     42.80        75          20   \n",
       "5           Bluff -46.6000  168.3333     60.01        79          16   \n",
       "6  Saint-Philippe -21.3585   55.7679     77.00        78           0   \n",
       "7     Kondinskoye  59.6481   67.4100     23.95        95         100   \n",
       "8          Albany  42.6001  -73.9662     52.00        84         100   \n",
       "9          Vostok  46.4856  135.8833     29.35        73          47   \n",
       "\n",
       "   Wind Speed Country                 Date  \n",
       "0       10.36      US  2021-03-25 00:02:13  \n",
       "1        3.47      RU  2021-03-24 23:58:18  \n",
       "2        1.01      EC  2021-03-24 23:57:42  \n",
       "3        1.25      RU  2021-03-25 00:02:14  \n",
       "4       36.82      AR  2021-03-24 23:56:31  \n",
       "5        1.99      NZ  2021-03-24 23:57:50  \n",
       "6        5.75      RE  2021-03-24 23:54:59  \n",
       "7        8.55      RU  2021-03-25 00:02:15  \n",
       "8        4.00      US  2021-03-24 23:55:45  \n",
       "9        2.84      RU  2021-03-25 00:02:15  "
      ]
     },
     "execution_count": 30,
     "metadata": {},
     "output_type": "execute_result"
    }
   ],
   "source": [
    "#Our next steps will entail converting the array of dictionaries to a DataFrame, ensuring the columns are in the correct \n",
    "#order, and exporting the DataFrame to a comma-separated (CSV) file.\n",
    "\n",
    "#Recall that we can convert a list of dictionaries to a Pandas DataFrame using df = pd.DataFrame(list with dictionaries).\n",
    "# Convert the array of dictionaries to a Pandas DataFrame.\n",
    "city_data_df = pd.DataFrame(city_data)\n",
    "city_data_df.head(10)"
   ]
  },
  {
   "cell_type": "code",
   "execution_count": 31,
   "metadata": {},
   "outputs": [
    {
     "data": {
      "text/html": [
       "<div>\n",
       "<style scoped>\n",
       "    .dataframe tbody tr th:only-of-type {\n",
       "        vertical-align: middle;\n",
       "    }\n",
       "\n",
       "    .dataframe tbody tr th {\n",
       "        vertical-align: top;\n",
       "    }\n",
       "\n",
       "    .dataframe thead th {\n",
       "        text-align: right;\n",
       "    }\n",
       "</style>\n",
       "<table border=\"1\" class=\"dataframe\">\n",
       "  <thead>\n",
       "    <tr style=\"text-align: right;\">\n",
       "      <th></th>\n",
       "      <th>City</th>\n",
       "      <th>Country</th>\n",
       "      <th>Date</th>\n",
       "      <th>Lat</th>\n",
       "      <th>Lng</th>\n",
       "      <th>Max Temp</th>\n",
       "      <th>Humidity</th>\n",
       "      <th>Cloudiness</th>\n",
       "      <th>Wind Speed</th>\n",
       "    </tr>\n",
       "  </thead>\n",
       "  <tbody>\n",
       "    <tr>\n",
       "      <th>0</th>\n",
       "      <td>Fortuna</td>\n",
       "      <td>US</td>\n",
       "      <td>2021-03-25 00:02:13</td>\n",
       "      <td>40.5982</td>\n",
       "      <td>-124.1573</td>\n",
       "      <td>53.01</td>\n",
       "      <td>81</td>\n",
       "      <td>90</td>\n",
       "      <td>10.36</td>\n",
       "    </tr>\n",
       "    <tr>\n",
       "      <th>1</th>\n",
       "      <td>Khatanga</td>\n",
       "      <td>RU</td>\n",
       "      <td>2021-03-24 23:58:18</td>\n",
       "      <td>71.9667</td>\n",
       "      <td>102.5000</td>\n",
       "      <td>-8.23</td>\n",
       "      <td>96</td>\n",
       "      <td>99</td>\n",
       "      <td>3.47</td>\n",
       "    </tr>\n",
       "    <tr>\n",
       "      <th>2</th>\n",
       "      <td>Puerto Ayora</td>\n",
       "      <td>EC</td>\n",
       "      <td>2021-03-24 23:57:42</td>\n",
       "      <td>-0.7393</td>\n",
       "      <td>-90.3518</td>\n",
       "      <td>80.01</td>\n",
       "      <td>87</td>\n",
       "      <td>32</td>\n",
       "      <td>1.01</td>\n",
       "    </tr>\n",
       "    <tr>\n",
       "      <th>3</th>\n",
       "      <td>Tupik</td>\n",
       "      <td>RU</td>\n",
       "      <td>2021-03-25 00:02:14</td>\n",
       "      <td>54.4253</td>\n",
       "      <td>119.9327</td>\n",
       "      <td>17.22</td>\n",
       "      <td>87</td>\n",
       "      <td>38</td>\n",
       "      <td>1.25</td>\n",
       "    </tr>\n",
       "    <tr>\n",
       "      <th>4</th>\n",
       "      <td>Ushuaia</td>\n",
       "      <td>AR</td>\n",
       "      <td>2021-03-24 23:56:31</td>\n",
       "      <td>-54.8000</td>\n",
       "      <td>-68.3000</td>\n",
       "      <td>42.80</td>\n",
       "      <td>75</td>\n",
       "      <td>20</td>\n",
       "      <td>36.82</td>\n",
       "    </tr>\n",
       "    <tr>\n",
       "      <th>...</th>\n",
       "      <td>...</td>\n",
       "      <td>...</td>\n",
       "      <td>...</td>\n",
       "      <td>...</td>\n",
       "      <td>...</td>\n",
       "      <td>...</td>\n",
       "      <td>...</td>\n",
       "      <td>...</td>\n",
       "      <td>...</td>\n",
       "    </tr>\n",
       "    <tr>\n",
       "      <th>233</th>\n",
       "      <td>Hervey Bay</td>\n",
       "      <td>AU</td>\n",
       "      <td>2021-03-24 23:58:55</td>\n",
       "      <td>-25.2986</td>\n",
       "      <td>152.8535</td>\n",
       "      <td>80.60</td>\n",
       "      <td>50</td>\n",
       "      <td>0</td>\n",
       "      <td>5.75</td>\n",
       "    </tr>\n",
       "    <tr>\n",
       "      <th>234</th>\n",
       "      <td>Diffa</td>\n",
       "      <td>NE</td>\n",
       "      <td>2021-03-25 00:03:17</td>\n",
       "      <td>13.3154</td>\n",
       "      <td>12.6113</td>\n",
       "      <td>81.88</td>\n",
       "      <td>16</td>\n",
       "      <td>99</td>\n",
       "      <td>12.06</td>\n",
       "    </tr>\n",
       "    <tr>\n",
       "      <th>235</th>\n",
       "      <td>Wisconsin Rapids</td>\n",
       "      <td>US</td>\n",
       "      <td>2021-03-25 00:03:18</td>\n",
       "      <td>44.3836</td>\n",
       "      <td>-89.8174</td>\n",
       "      <td>44.60</td>\n",
       "      <td>87</td>\n",
       "      <td>90</td>\n",
       "      <td>13.80</td>\n",
       "    </tr>\n",
       "    <tr>\n",
       "      <th>236</th>\n",
       "      <td>Guadix</td>\n",
       "      <td>ES</td>\n",
       "      <td>2021-03-25 00:02:01</td>\n",
       "      <td>37.2993</td>\n",
       "      <td>-3.1392</td>\n",
       "      <td>48.00</td>\n",
       "      <td>46</td>\n",
       "      <td>1</td>\n",
       "      <td>1.99</td>\n",
       "    </tr>\n",
       "    <tr>\n",
       "      <th>237</th>\n",
       "      <td>Dongsheng</td>\n",
       "      <td>CN</td>\n",
       "      <td>2021-03-25 00:02:08</td>\n",
       "      <td>39.8161</td>\n",
       "      <td>109.9776</td>\n",
       "      <td>43.43</td>\n",
       "      <td>43</td>\n",
       "      <td>90</td>\n",
       "      <td>9.51</td>\n",
       "    </tr>\n",
       "  </tbody>\n",
       "</table>\n",
       "<p>238 rows × 9 columns</p>\n",
       "</div>"
      ],
      "text/plain": [
       "                 City Country                 Date      Lat       Lng  \\\n",
       "0             Fortuna      US  2021-03-25 00:02:13  40.5982 -124.1573   \n",
       "1            Khatanga      RU  2021-03-24 23:58:18  71.9667  102.5000   \n",
       "2        Puerto Ayora      EC  2021-03-24 23:57:42  -0.7393  -90.3518   \n",
       "3               Tupik      RU  2021-03-25 00:02:14  54.4253  119.9327   \n",
       "4             Ushuaia      AR  2021-03-24 23:56:31 -54.8000  -68.3000   \n",
       "..                ...     ...                  ...      ...       ...   \n",
       "233        Hervey Bay      AU  2021-03-24 23:58:55 -25.2986  152.8535   \n",
       "234             Diffa      NE  2021-03-25 00:03:17  13.3154   12.6113   \n",
       "235  Wisconsin Rapids      US  2021-03-25 00:03:18  44.3836  -89.8174   \n",
       "236            Guadix      ES  2021-03-25 00:02:01  37.2993   -3.1392   \n",
       "237         Dongsheng      CN  2021-03-25 00:02:08  39.8161  109.9776   \n",
       "\n",
       "     Max Temp  Humidity  Cloudiness  Wind Speed  \n",
       "0       53.01        81          90       10.36  \n",
       "1       -8.23        96          99        3.47  \n",
       "2       80.01        87          32        1.01  \n",
       "3       17.22        87          38        1.25  \n",
       "4       42.80        75          20       36.82  \n",
       "..        ...       ...         ...         ...  \n",
       "233     80.60        50           0        5.75  \n",
       "234     81.88        16          99       12.06  \n",
       "235     44.60        87          90       13.80  \n",
       "236     48.00        46           1        1.99  \n",
       "237     43.43        43          90        9.51  \n",
       "\n",
       "[238 rows x 9 columns]"
      ]
     },
     "execution_count": 31,
     "metadata": {},
     "output_type": "execute_result"
    }
   ],
   "source": [
    "new_column_order = [\"City\", \"Country\", \"Date\", \"Lat\", \"Lng\", \"Max Temp\", \"Humidity\", \"Cloudiness\", \"Wind Speed\"]\n",
    "city_data_df = city_data_df[new_column_order]\n",
    "city_data_df"
   ]
  },
  {
   "cell_type": "code",
   "execution_count": 32,
   "metadata": {},
   "outputs": [],
   "source": [
    "# Create the output file (CSV).\n",
    "output_data_file = \"weather_data/cities.csv\"\n",
    "# Export the City_Data into a CSV.\n",
    "city_data_df.to_csv(output_data_file, index_label = \"City_ID\")\n",
    "\n",
    "#The last line in the code block will export the DataFrame to a CSV file, with the index label (or column A) header as \n",
    "#\"City_ID.\" If we ever need to export the CSV file to a DataFrame, that header will be present in the DataFrame.\n",
    "\n",
    "#We've completed our tasks for making API calls, parsing the response, and collecting the data for our project. Before we \n",
    "#move on to graphing and statistical analysis, let's update our GitHub repository."
   ]
  },
  {
   "cell_type": "markdown",
   "metadata": {},
   "source": [
    "# Module 6.3.1 Plot Latitude vs. Temperature"
   ]
  },
  {
   "cell_type": "code",
   "execution_count": 33,
   "metadata": {},
   "outputs": [],
   "source": [
    "#We are going to create a series of scatter plots for each weather parameter against the latitude for all the cities. \n",
    "#The students will use these scatter plots to write a summary report on how different weather parameters change based on \n",
    "#the latitude.\n",
    "\n",
    "#We'll create scatter plots for latitude vs. maximum temperature, humidity, cloudiness, and wind speed. The first, latitude \n",
    "#vs. maximum temperature, should look like the following scatter plot.\n",
    "\n",
    "#Note: Recall that to create a scatter plot, we collect then add x- and y-axis data to plt.scatter()"
   ]
  },
  {
   "cell_type": "code",
   "execution_count": 34,
   "metadata": {},
   "outputs": [],
   "source": [
    "#Step 1: First, we'll retrieve the data we need to create our scatter plots. We will need latitude, maximum temperature, \n",
    "#humidity, cloudiness, and wind speed from all the cities.\n",
    "\n",
    "# Extract relevant fields from the DataFrame for plotting.\n",
    "lats = city_data_df[\"Lat\"]\n",
    "max_temps = city_data_df[\"Max Temp\"]\n",
    "humidity = city_data_df[\"Humidity\"]\n",
    "cloudiness = city_data_df[\"Cloudiness\"]\n",
    "wind_speed = city_data_df[\"Wind Speed\"]"
   ]
  },
  {
   "cell_type": "code",
   "execution_count": 35,
   "metadata": {},
   "outputs": [
    {
     "data": {
      "text/plain": [
       "1616634184.2145557"
      ]
     },
     "execution_count": 35,
     "metadata": {},
     "output_type": "execute_result"
    }
   ],
   "source": [
    "#Step 2: Your final scatter plot will need the current date in the title. To add the current date, we will need to import\n",
    "#the time module, rather than the datetime module that we used to convert the date. The time module is a standard Python \n",
    "#library, so there is no need to install it.\n",
    "# Import the time module.\n",
    "import time\n",
    "# Get today's date in seconds.\n",
    "today = time.time()\n",
    "today"
   ]
  },
  {
   "cell_type": "code",
   "execution_count": 36,
   "metadata": {},
   "outputs": [
    {
     "data": {
      "image/png": "[encoded data removed]",
      "text/plain": [
       "<Figure size 432x288 with 1 Axes>"
      ]
     },
     "metadata": {
      "needs_background": "light"
     },
     "output_type": "display_data"
    }
   ],
   "source": [
    "#The format for time appears like the datetime stamp for the JSON weather data. We can convert this using the string format\n",
    "#method, strftime() and pass the formatting parameters for our date in parentheses. To get the format for today, we can add \n",
    "#%x inside the parentheses.\n",
    "\n",
    "#In the API_practice file, add strftime(\"%x\")to the time module for our today variable and run the cell. The output will be \n",
    "#today's date.\n",
    "# Import time module\n",
    "import time\n",
    "\n",
    "# Build the scatter plot for latitude vs. max temperature.\n",
    "plt.scatter(lats,\n",
    "            max_temps,\n",
    "            edgecolor=\"black\", linewidths=1, marker=\"o\",\n",
    "            alpha=0.8, label=\"Cities\")\n",
    "\n",
    "# Incorporate the other graph properties.\n",
    "plt.title(f\"City Latitude vs. Max Temperature \"+ time.strftime(\"%x\"))\n",
    "plt.ylabel(\"Max Temperature (F)\")\n",
    "plt.xlabel(\"Latitude\")\n",
    "plt.grid(True)\n",
    "\n",
    "# Save the figure.\n",
    "plt.savefig(\"weather_data/Fig1.png\")\n",
    "\n",
    "# Show plot.\n",
    "plt.show()"
   ]
  },
  {
   "cell_type": "code",
   "execution_count": 37,
   "metadata": {},
   "outputs": [
    {
     "data": {
      "image/png": "[encoded data removed]",
      "text/plain": [
       "<Figure size 432x288 with 1 Axes>"
      ]
     },
     "metadata": {
      "needs_background": "light"
     },
     "output_type": "display_data"
    }
   ],
   "source": [
    "# Build the scatter plots for latitude vs. humidity.\n",
    "plt.scatter(lats,\n",
    "            humidity,\n",
    "            edgecolor=\"black\", linewidths=1, marker=\"o\",\n",
    "            alpha=0.8, label=\"Cities\")\n",
    "\n",
    "# Incorporate the other graph properties.\n",
    "plt.title(f\"City Latitude vs. Humidity \"+ time.strftime(\"%x\"))\n",
    "plt.ylabel(\"Humidity (%)\")\n",
    "plt.xlabel(\"Latitude\")\n",
    "plt.grid(True)\n",
    "# Save the figure.\n",
    "plt.savefig(\"weather_data/Fig2.png\")\n",
    "# Show plot.\n",
    "plt.show()"
   ]
  },
  {
   "cell_type": "markdown",
   "metadata": {},
   "source": [
    "# Module: 6.3.3 Plot Latitude vs. Cloudiness\n"
   ]
  },
  {
   "cell_type": "code",
   "execution_count": 38,
   "metadata": {},
   "outputs": [
    {
     "data": {
      "image/png": "[encoded data removed]",
      "text/plain": [
       "<Figure size 432x288 with 1 Axes>"
      ]
     },
     "metadata": {
      "needs_background": "light"
     },
     "output_type": "display_data"
    }
   ],
   "source": [
    "#Let's refactor the code for our scatter plots by changing the y-axis variable to \"cloudiness,\" the title to \"Cloudiness \n",
    "#(%),\" and the y-axis label to \"Cloudiness (%).\"\n",
    "# Build the scatter plots for latitude vs. cloudiness.\n",
    "plt.scatter(lats,\n",
    "            cloudiness,\n",
    "            edgecolor=\"black\", linewidths=1, marker=\"o\",\n",
    "            alpha=0.8, label=\"Cities\")\n",
    "\n",
    "# Incorporate the other graph properties.\n",
    "plt.title(f\"City Latitude vs. Cloudiness (%) \"+ time.strftime(\"%x\"))\n",
    "plt.ylabel(\"Cloudiness (%)\")\n",
    "plt.xlabel(\"Latitude\")\n",
    "plt.grid(True)\n",
    "# Save the figure.\n",
    "plt.savefig(\"weather_data/Fig3.png\")\n",
    "# Show plot.\n",
    "plt.show()"
   ]
  },
  {
   "cell_type": "markdown",
   "metadata": {},
   "source": [
    "# Module: 6.3.4 Plot Latitude vs. Wind Speed\n"
   ]
  },
  {
   "cell_type": "code",
   "execution_count": 39,
   "metadata": {},
   "outputs": [
    {
     "data": {
      "image/png": "[encoded data removed]",
      "text/plain": [
       "<Figure size 432x288 with 1 Axes>"
      ]
     },
     "metadata": {
      "needs_background": "light"
     },
     "output_type": "display_data"
    }
   ],
   "source": [
    "#Now, we can create our last scatter plot! Let's repurpose the code we have been using and change the y-axis variable to \n",
    "#\"wind speed,\" the title to \"Wind Speed,\" and the y-axis label to \"Wind Speed (mph).\"\n",
    "\n",
    "# Build the scatter plots for latitude vs. wind speed.\n",
    "plt.scatter(lats,\n",
    "            wind_speed,\n",
    "            edgecolor=\"black\", linewidths=1, marker=\"o\",\n",
    "            alpha=0.8, label=\"Cities\")\n",
    "\n",
    "# Incorporate the other graph properties.\n",
    "plt.title(f\"City Latitude vs. Wind Speed \"+ time.strftime(\"%x\"))\n",
    "plt.ylabel(\"Wind Speed (mph)\")\n",
    "plt.xlabel(\"Latitude\")\n",
    "plt.grid(True)\n",
    "# Save the figure.\n",
    "plt.savefig(\"weather_data/Fig4.png\")\n",
    "# Show plot.\n",
    "plt.show()"
   ]
  },
  {
   "cell_type": "markdown",
   "metadata": {},
   "source": [
    "# Module 6.4.1: Use Linear Regression to Find the Relationship Between Variables"
   ]
  },
  {
   "cell_type": "code",
   "execution_count": 40,
   "metadata": {},
   "outputs": [],
   "source": [
    "#Linear regression is used to find a relationship between a dependent variable and one or more independent variables. \n",
    "#The trick is to find something (a dependent variable) that depends on something else (the independent variable) and plot \n",
    "#that relationship.\n",
    "#Independent variable: the variable changed by the analyst to observe how it affects the dependent variable \n",
    "\n",
    "#Dependent variable: the variable tested by the analyst to observe how it is affected by the independent variable\n",
    "\n",
    "#To determine if maximum temperature correlates to latitude, we can plot a linear regression line, a straight trendline \n",
    "#predicting the average y-value, or dependent variable, for a given x-value, or independent variable. This line can be \n",
    "#plotted using the equation y = mx + b, where \"m\" is the slope of the line and \"b\" is the y-intercept. For every x-value,\n",
    "#or latitude we use in the equation, we will get a predicted temperature value.\n",
    "\n",
    "#To determine how strong the relationship is between the fitted line and the data, we find the correlation coefficient, \n",
    "#or r-value. A correlation coefficient close to 1 shows a strong positive correlation, whereas close to –1 shows a strong \n",
    "#negative correlation. A correlation coefficient close to zero is no correlation."
   ]
  },
  {
   "cell_type": "markdown",
   "metadata": {},
   "source": [
    "# Module 6.4.1: Practice Using Linear Regression"
   ]
  },
  {
   "cell_type": "code",
   "execution_count": 41,
   "metadata": {},
   "outputs": [],
   "source": [
    "#In a new cell of our random_numbers Jupyter Notebook file, we'll import the linear regression function from the SciPy \n",
    "#statistics module."
   ]
  },
  {
   "cell_type": "markdown",
   "metadata": {},
   "source": [
    "# Mondule 6.4.2: Find the Correlation Between Latitude and Maximum Temperature"
   ]
  },
  {
   "cell_type": "code",
   "execution_count": 42,
   "metadata": {},
   "outputs": [],
   "source": [
    "#Using the data from the Northern and Southern Hemispheres, we are going to perform linear regression on all four weather \n",
    "#parameters: maximum temperature, humidity, cloudiness, and wind speed.\n",
    "\n",
    "#We have an algorithm that performs the linear regression; returns the equation of the regression line, and correlation \n",
    "#coefficient, and p value; and adds the regression line to a scatter plot of city weather data. Below, the code looks like \n",
    "#what we have used before.\n",
    "\n",
    "# Perform linear regression.\n",
    "#1. (slope, intercept, r_value, p_value, std_err) = linregress(x_values, y_values)\n",
    "\n",
    "# Calculate the regression line \"y values\" from the slope and intercept.\n",
    "#2. regress_values = x_values * slope + intercept\n",
    "\n",
    "# Get the equation of the line.\n",
    "#3. line_eq = \"y = \" + str(round(slope,2)) + \"x + \" + str(round(intercept,2))\n",
    "\n",
    "# Create a scatter plot of the x and y values.\n",
    "#4. plt.scatter(x_values,y_values)\n",
    "# Plot the regression line with the x-values and the y coordinates based on the intercept and slope.\n",
    "#5. plt.plot(x_values,regress_values,\"r\")\n",
    "# Annotate the text for the line equation and add its coordinates.\n",
    "#6. plt.annotate(line_eq, (10,40), fontsize=15, color=\"red\")\n",
    "#7. plt.xlabel('Latitude')\n",
    "#8. plt.ylabel('Temp')\n",
    "#9. plt.show()"
   ]
  },
  {
   "cell_type": "markdown",
   "metadata": {},
   "source": [
    "# Module 6.4.2: Create a Linear Regression Function"
   ]
  },
  {
   "cell_type": "code",
   "execution_count": 43,
   "metadata": {},
   "outputs": [],
   "source": [
    "  # Import linregress\n",
    "from scipy.stats import linregress"
   ]
  },
  {
   "cell_type": "code",
   "execution_count": 44,
   "metadata": {},
   "outputs": [],
   "source": [
    "# Create a function to create perform linear regression on the weather data\n",
    "# and plot a regression line and the equation with the data.\n",
    "def plot_linear_regression(x_values, y_values, title, y_label, text_coordinates):\n",
    "    # Run regression on hemisphere weather data.\n",
    "    (slope, intercept, r_value, p_value, std_err) = linregress(x_values, y_values)\n",
    "    # Calculate the regression line \"y values\" from the slope and intercept.\n",
    "    regress_values = x_values * slope + intercept\n",
    "    # Get the equation of the line.\n",
    "    line_eq = \"y = \" + str(round(slope,2)) + \"x + \" + str(round(intercept,2))\n",
    "    # Create a scatter plot and plot the regression line.\n",
    "    plt.scatter(x_values,y_values)\n",
    "    plt.plot(x_values,regress_values,\"r\")\n",
    "    # Annotate the text for the line equation.\n",
    "    plt.annotate(line_eq, text_coordinates, fontsize=15, color=\"red\")\n",
    "    plt.xlabel('Latitude')\n",
    "    plt.ylabel(y_label)\n",
    "    plt.show()\n",
    "#If we run this code there will be no output until we call the function with five parameters."
   ]
  },
  {
   "cell_type": "markdown",
   "metadata": {},
   "source": [
    "# Module 6.4.2: Create the Hemisphere DataFrames"
   ]
  },
  {
   "cell_type": "code",
   "execution_count": 45,
   "metadata": {},
   "outputs": [],
   "source": [
    "#We will add some code to perform regression analysis on the maximum temperatures in the Northern and Southern Hemispheres. \n",
    "#To do this, we will need to create Northern Hemisphere DataFrames from the city_data_df DataFrame.\n",
    "\n",
    "#To create a new DataFrame from a current DataFrame, we can use the loc method on the current DataFrame. The loc method \n",
    "#accesses a group of rows and columns in the current DataFrame by an index, labels, or a Boolean array. The syntax to get a\n",
    "#specific row from a current DataFrame is row = df.loc[row_index].\n",
    "\n",
    "#Let's apply this method to our city_data_df DataFrame by adding the code index13 = city_data_df.loc[13] in a cell and \n",
    "#running the cell. The output will present all the information at index 13 of the city_data_df DataFrame. Note that you may \n",
    "#see a different city in your output cell than the one shown in the following image.\n",
    "city_data_df = pd.read_csv(\"weather_data/cities.csv\")"
   ]
  },
  {
   "cell_type": "code",
   "execution_count": 46,
   "metadata": {},
   "outputs": [
    {
     "data": {
      "text/plain": [
       "City_ID                        13\n",
       "City               Port Macquarie\n",
       "Country                        AU\n",
       "Date          2021-03-24 23:56:40\n",
       "Lat                      -31.4333\n",
       "Lng                       152.917\n",
       "Max Temp                    80.01\n",
       "Humidity                       54\n",
       "Cloudiness                      0\n",
       "Wind Speed                      3\n",
       "Name: 13, dtype: object"
      ]
     },
     "execution_count": 46,
     "metadata": {},
     "output_type": "execute_result"
    }
   ],
   "source": [
    "index13 = city_data_df.loc[13]\n",
    "index13"
   ]
  },
  {
   "cell_type": "code",
   "execution_count": 47,
   "metadata": {},
   "outputs": [
    {
     "data": {
      "text/plain": [
       "0       True\n",
       "1       True\n",
       "2      False\n",
       "3       True\n",
       "4      False\n",
       "       ...  \n",
       "233    False\n",
       "234     True\n",
       "235     True\n",
       "236     True\n",
       "237     True\n",
       "Name: Lat, Length: 238, dtype: bool"
      ]
     },
     "execution_count": 47,
     "metadata": {},
     "output_type": "execute_result"
    }
   ],
   "source": [
    "#We can also filter a DataFrame based on a value of a row. For instance, if we wanted to get all Northern Hemisphere \n",
    "#latitudes, for latitudes greater than or equal to 0, we can filter the city_data_df DataFrame using the code \n",
    "#city_data_df[\"Lat\"] >= 0. Executing this code will return either \"True\" or \"False\" for all the rows that meet these \n",
    "#criteria.\n",
    "\n",
    "city_data_df[\"Lat\"] >= 0"
   ]
  },
  {
   "cell_type": "code",
   "execution_count": 48,
   "metadata": {},
   "outputs": [
    {
     "data": {
      "text/html": [
       "<div>\n",
       "<style scoped>\n",
       "    .dataframe tbody tr th:only-of-type {\n",
       "        vertical-align: middle;\n",
       "    }\n",
       "\n",
       "    .dataframe tbody tr th {\n",
       "        vertical-align: top;\n",
       "    }\n",
       "\n",
       "    .dataframe thead th {\n",
       "        text-align: right;\n",
       "    }\n",
       "</style>\n",
       "<table border=\"1\" class=\"dataframe\">\n",
       "  <thead>\n",
       "    <tr style=\"text-align: right;\">\n",
       "      <th></th>\n",
       "      <th>City_ID</th>\n",
       "      <th>City</th>\n",
       "      <th>Country</th>\n",
       "      <th>Date</th>\n",
       "      <th>Lat</th>\n",
       "      <th>Lng</th>\n",
       "      <th>Max Temp</th>\n",
       "      <th>Humidity</th>\n",
       "      <th>Cloudiness</th>\n",
       "      <th>Wind Speed</th>\n",
       "    </tr>\n",
       "  </thead>\n",
       "  <tbody>\n",
       "    <tr>\n",
       "      <th>0</th>\n",
       "      <td>0</td>\n",
       "      <td>Fortuna</td>\n",
       "      <td>US</td>\n",
       "      <td>2021-03-25 00:02:13</td>\n",
       "      <td>40.5982</td>\n",
       "      <td>-124.1573</td>\n",
       "      <td>53.01</td>\n",
       "      <td>81</td>\n",
       "      <td>90</td>\n",
       "      <td>10.36</td>\n",
       "    </tr>\n",
       "    <tr>\n",
       "      <th>1</th>\n",
       "      <td>1</td>\n",
       "      <td>Khatanga</td>\n",
       "      <td>RU</td>\n",
       "      <td>2021-03-24 23:58:18</td>\n",
       "      <td>71.9667</td>\n",
       "      <td>102.5000</td>\n",
       "      <td>-8.23</td>\n",
       "      <td>96</td>\n",
       "      <td>99</td>\n",
       "      <td>3.47</td>\n",
       "    </tr>\n",
       "    <tr>\n",
       "      <th>3</th>\n",
       "      <td>3</td>\n",
       "      <td>Tupik</td>\n",
       "      <td>RU</td>\n",
       "      <td>2021-03-25 00:02:14</td>\n",
       "      <td>54.4253</td>\n",
       "      <td>119.9327</td>\n",
       "      <td>17.22</td>\n",
       "      <td>87</td>\n",
       "      <td>38</td>\n",
       "      <td>1.25</td>\n",
       "    </tr>\n",
       "    <tr>\n",
       "      <th>7</th>\n",
       "      <td>7</td>\n",
       "      <td>Kondinskoye</td>\n",
       "      <td>RU</td>\n",
       "      <td>2021-03-25 00:02:15</td>\n",
       "      <td>59.6481</td>\n",
       "      <td>67.4100</td>\n",
       "      <td>23.95</td>\n",
       "      <td>95</td>\n",
       "      <td>100</td>\n",
       "      <td>8.55</td>\n",
       "    </tr>\n",
       "    <tr>\n",
       "      <th>8</th>\n",
       "      <td>8</td>\n",
       "      <td>Albany</td>\n",
       "      <td>US</td>\n",
       "      <td>2021-03-24 23:55:45</td>\n",
       "      <td>42.6001</td>\n",
       "      <td>-73.9662</td>\n",
       "      <td>52.00</td>\n",
       "      <td>84</td>\n",
       "      <td>100</td>\n",
       "      <td>4.00</td>\n",
       "    </tr>\n",
       "    <tr>\n",
       "      <th>...</th>\n",
       "      <td>...</td>\n",
       "      <td>...</td>\n",
       "      <td>...</td>\n",
       "      <td>...</td>\n",
       "      <td>...</td>\n",
       "      <td>...</td>\n",
       "      <td>...</td>\n",
       "      <td>...</td>\n",
       "      <td>...</td>\n",
       "      <td>...</td>\n",
       "    </tr>\n",
       "    <tr>\n",
       "      <th>228</th>\n",
       "      <td>228</td>\n",
       "      <td>Saskylakh</td>\n",
       "      <td>RU</td>\n",
       "      <td>2021-03-24 23:55:26</td>\n",
       "      <td>71.9167</td>\n",
       "      <td>114.0833</td>\n",
       "      <td>-4.86</td>\n",
       "      <td>92</td>\n",
       "      <td>100</td>\n",
       "      <td>8.39</td>\n",
       "    </tr>\n",
       "    <tr>\n",
       "      <th>234</th>\n",
       "      <td>234</td>\n",
       "      <td>Diffa</td>\n",
       "      <td>NE</td>\n",
       "      <td>2021-03-25 00:03:17</td>\n",
       "      <td>13.3154</td>\n",
       "      <td>12.6113</td>\n",
       "      <td>81.88</td>\n",
       "      <td>16</td>\n",
       "      <td>99</td>\n",
       "      <td>12.06</td>\n",
       "    </tr>\n",
       "    <tr>\n",
       "      <th>235</th>\n",
       "      <td>235</td>\n",
       "      <td>Wisconsin Rapids</td>\n",
       "      <td>US</td>\n",
       "      <td>2021-03-25 00:03:18</td>\n",
       "      <td>44.3836</td>\n",
       "      <td>-89.8174</td>\n",
       "      <td>44.60</td>\n",
       "      <td>87</td>\n",
       "      <td>90</td>\n",
       "      <td>13.80</td>\n",
       "    </tr>\n",
       "    <tr>\n",
       "      <th>236</th>\n",
       "      <td>236</td>\n",
       "      <td>Guadix</td>\n",
       "      <td>ES</td>\n",
       "      <td>2021-03-25 00:02:01</td>\n",
       "      <td>37.2993</td>\n",
       "      <td>-3.1392</td>\n",
       "      <td>48.00</td>\n",
       "      <td>46</td>\n",
       "      <td>1</td>\n",
       "      <td>1.99</td>\n",
       "    </tr>\n",
       "    <tr>\n",
       "      <th>237</th>\n",
       "      <td>237</td>\n",
       "      <td>Dongsheng</td>\n",
       "      <td>CN</td>\n",
       "      <td>2021-03-25 00:02:08</td>\n",
       "      <td>39.8161</td>\n",
       "      <td>109.9776</td>\n",
       "      <td>43.43</td>\n",
       "      <td>43</td>\n",
       "      <td>90</td>\n",
       "      <td>9.51</td>\n",
       "    </tr>\n",
       "  </tbody>\n",
       "</table>\n",
       "<p>149 rows × 10 columns</p>\n",
       "</div>"
      ],
      "text/plain": [
       "     City_ID              City Country                 Date      Lat  \\\n",
       "0          0           Fortuna      US  2021-03-25 00:02:13  40.5982   \n",
       "1          1          Khatanga      RU  2021-03-24 23:58:18  71.9667   \n",
       "3          3             Tupik      RU  2021-03-25 00:02:14  54.4253   \n",
       "7          7       Kondinskoye      RU  2021-03-25 00:02:15  59.6481   \n",
       "8          8            Albany      US  2021-03-24 23:55:45  42.6001   \n",
       "..       ...               ...     ...                  ...      ...   \n",
       "228      228         Saskylakh      RU  2021-03-24 23:55:26  71.9167   \n",
       "234      234             Diffa      NE  2021-03-25 00:03:17  13.3154   \n",
       "235      235  Wisconsin Rapids      US  2021-03-25 00:03:18  44.3836   \n",
       "236      236            Guadix      ES  2021-03-25 00:02:01  37.2993   \n",
       "237      237         Dongsheng      CN  2021-03-25 00:02:08  39.8161   \n",
       "\n",
       "          Lng  Max Temp  Humidity  Cloudiness  Wind Speed  \n",
       "0   -124.1573     53.01        81          90       10.36  \n",
       "1    102.5000     -8.23        96          99        3.47  \n",
       "3    119.9327     17.22        87          38        1.25  \n",
       "7     67.4100     23.95        95         100        8.55  \n",
       "8    -73.9662     52.00        84         100        4.00  \n",
       "..        ...       ...       ...         ...         ...  \n",
       "228  114.0833     -4.86        92         100        8.39  \n",
       "234   12.6113     81.88        16          99       12.06  \n",
       "235  -89.8174     44.60        87          90       13.80  \n",
       "236   -3.1392     48.00        46           1        1.99  \n",
       "237  109.9776     43.43        43          90        9.51  \n",
       "\n",
       "[149 rows x 10 columns]"
      ]
     },
     "execution_count": 48,
     "metadata": {},
     "output_type": "execute_result"
    }
   ],
   "source": [
    "#If we want to return a DataFrame with all data fitting the criteria, for latitudes greater than or equal to 0, we can use \n",
    "#the loc method on the city_data_df DataFrame. Inside the brackets, we would add the conditional filter \n",
    "#city_data_df[\"Lat\"] >= 0\n",
    "\n",
    "city_data_df.loc[(city_data_df[\"Lat\"] >= 0)]"
   ]
  },
  {
   "cell_type": "code",
   "execution_count": 49,
   "metadata": {},
   "outputs": [
    {
     "data": {
      "text/html": [
       "<div>\n",
       "<style scoped>\n",
       "    .dataframe tbody tr th:only-of-type {\n",
       "        vertical-align: middle;\n",
       "    }\n",
       "\n",
       "    .dataframe tbody tr th {\n",
       "        vertical-align: top;\n",
       "    }\n",
       "\n",
       "    .dataframe thead th {\n",
       "        text-align: right;\n",
       "    }\n",
       "</style>\n",
       "<table border=\"1\" class=\"dataframe\">\n",
       "  <thead>\n",
       "    <tr style=\"text-align: right;\">\n",
       "      <th></th>\n",
       "      <th>City_ID</th>\n",
       "      <th>City</th>\n",
       "      <th>Country</th>\n",
       "      <th>Date</th>\n",
       "      <th>Lat</th>\n",
       "      <th>Lng</th>\n",
       "      <th>Max Temp</th>\n",
       "      <th>Humidity</th>\n",
       "      <th>Cloudiness</th>\n",
       "      <th>Wind Speed</th>\n",
       "    </tr>\n",
       "  </thead>\n",
       "  <tbody>\n",
       "    <tr>\n",
       "      <th>0</th>\n",
       "      <td>0</td>\n",
       "      <td>Fortuna</td>\n",
       "      <td>US</td>\n",
       "      <td>2021-03-25 00:02:13</td>\n",
       "      <td>40.5982</td>\n",
       "      <td>-124.1573</td>\n",
       "      <td>53.01</td>\n",
       "      <td>81</td>\n",
       "      <td>90</td>\n",
       "      <td>10.36</td>\n",
       "    </tr>\n",
       "    <tr>\n",
       "      <th>1</th>\n",
       "      <td>1</td>\n",
       "      <td>Khatanga</td>\n",
       "      <td>RU</td>\n",
       "      <td>2021-03-24 23:58:18</td>\n",
       "      <td>71.9667</td>\n",
       "      <td>102.5000</td>\n",
       "      <td>-8.23</td>\n",
       "      <td>96</td>\n",
       "      <td>99</td>\n",
       "      <td>3.47</td>\n",
       "    </tr>\n",
       "    <tr>\n",
       "      <th>3</th>\n",
       "      <td>3</td>\n",
       "      <td>Tupik</td>\n",
       "      <td>RU</td>\n",
       "      <td>2021-03-25 00:02:14</td>\n",
       "      <td>54.4253</td>\n",
       "      <td>119.9327</td>\n",
       "      <td>17.22</td>\n",
       "      <td>87</td>\n",
       "      <td>38</td>\n",
       "      <td>1.25</td>\n",
       "    </tr>\n",
       "    <tr>\n",
       "      <th>7</th>\n",
       "      <td>7</td>\n",
       "      <td>Kondinskoye</td>\n",
       "      <td>RU</td>\n",
       "      <td>2021-03-25 00:02:15</td>\n",
       "      <td>59.6481</td>\n",
       "      <td>67.4100</td>\n",
       "      <td>23.95</td>\n",
       "      <td>95</td>\n",
       "      <td>100</td>\n",
       "      <td>8.55</td>\n",
       "    </tr>\n",
       "    <tr>\n",
       "      <th>8</th>\n",
       "      <td>8</td>\n",
       "      <td>Albany</td>\n",
       "      <td>US</td>\n",
       "      <td>2021-03-24 23:55:45</td>\n",
       "      <td>42.6001</td>\n",
       "      <td>-73.9662</td>\n",
       "      <td>52.00</td>\n",
       "      <td>84</td>\n",
       "      <td>100</td>\n",
       "      <td>4.00</td>\n",
       "    </tr>\n",
       "  </tbody>\n",
       "</table>\n",
       "</div>"
      ],
      "text/plain": [
       "   City_ID         City Country                 Date      Lat       Lng  \\\n",
       "0        0      Fortuna      US  2021-03-25 00:02:13  40.5982 -124.1573   \n",
       "1        1     Khatanga      RU  2021-03-24 23:58:18  71.9667  102.5000   \n",
       "3        3        Tupik      RU  2021-03-25 00:02:14  54.4253  119.9327   \n",
       "7        7  Kondinskoye      RU  2021-03-25 00:02:15  59.6481   67.4100   \n",
       "8        8       Albany      US  2021-03-24 23:55:45  42.6001  -73.9662   \n",
       "\n",
       "   Max Temp  Humidity  Cloudiness  Wind Speed  \n",
       "0     53.01        81          90       10.36  \n",
       "1     -8.23        96          99        3.47  \n",
       "3     17.22        87          38        1.25  \n",
       "7     23.95        95         100        8.55  \n",
       "8     52.00        84         100        4.00  "
      ]
     },
     "execution_count": 49,
     "metadata": {},
     "output_type": "execute_result"
    }
   ],
   "source": [
    "city_data_df.loc[(city_data_df[\"Lat\"] >= 0)].head()"
   ]
  },
  {
   "cell_type": "code",
   "execution_count": 50,
   "metadata": {},
   "outputs": [],
   "source": [
    "# Create Northern and Southern Hemisphere DataFrames.\n",
    "northern_hemi_df = city_data_df.loc[(city_data_df[\"Lat\"] >= 0)]\n",
    "southern_hemi_df = city_data_df.loc[(city_data_df[\"Lat\"] < 0)]"
   ]
  },
  {
   "cell_type": "markdown",
   "metadata": {},
   "source": [
    "# Module 6.4.2: Perform Linear Regression on the Maximum Temperature for the Northern Hemisphere"
   ]
  },
  {
   "cell_type": "code",
   "execution_count": 51,
   "metadata": {},
   "outputs": [
    {
     "data": {
      "image/png": "[encoded data removed]",
      "text/plain": [
       "<Figure size 432x288 with 1 Axes>"
      ]
     },
     "metadata": {
      "needs_background": "light"
     },
     "output_type": "display_data"
    }
   ],
   "source": [
    "#To generate the linear regression on the maximum temperature for the Northern Hemisphere, we'll need x and y values. \n",
    "#Set the x values equal to the latitude column and the y values equal to the maximum temperature column from the \n",
    "#northern_hemi_df DataFrame.\n",
    "\n",
    "#Call the plot_linear_regression function with the x and y values, and edit the title, y_label, and text_coordinates for \n",
    "#the maximum temperature scatter plot. Add the code to a new cell and run it to generate the linear regression and plot the\n",
    "#data.\n",
    "# Linear regression on the Northern Hemisphere\n",
    "x_values = northern_hemi_df[\"Lat\"]\n",
    "y_values = northern_hemi_df[\"Max Temp\"]\n",
    "# Call the function.\n",
    "plot_linear_regression(x_values, y_values,\n",
    "                       'Linear Regression on the Northern Hemisphere \\\n",
    "                        for Maximum Temperature', 'Max Temp',(9,-25))"
   ]
  },
  {
   "cell_type": "code",
   "execution_count": 52,
   "metadata": {},
   "outputs": [
    {
     "data": {
      "image/png": "[encoded data removed]",
      "text/plain": [
       "<Figure size 432x288 with 1 Axes>"
      ]
     },
     "metadata": {
      "needs_background": "light"
     },
     "output_type": "display_data"
    }
   ],
   "source": [
    "# Linear regression on the Southern Hemisphere\n",
    "x_values = southern_hemi_df[\"Lat\"]\n",
    "y_values = southern_hemi_df[\"Max Temp\"]\n",
    "# Call the function.\n",
    "plot_linear_regression(x_values, y_values,\n",
    "                       'Linear Regression on the Southern Hemisphere \\\n",
    "                        for Maximum Temperature', 'Max Temp',(40,10))"
   ]
  },
  {
   "cell_type": "markdown",
   "metadata": {},
   "source": [
    "# Module 6.4.2: Perform Linear Regression on the Maximum Temperature for the Southern Hemisphere"
   ]
  },
  {
   "cell_type": "code",
   "execution_count": 53,
   "metadata": {},
   "outputs": [
    {
     "data": {
      "image/png": "[encoded data removed]",
      "text/plain": [
       "<Figure size 432x288 with 1 Axes>"
      ]
     },
     "metadata": {
      "needs_background": "light"
     },
     "output_type": "display_data"
    }
   ],
   "source": [
    "#To generate the linear regression on the maximum temperature for the Southern Hemisphere, reuse the code for the Northern \n",
    "#Hemisphere and replace the northern_hemi_df DataFrame with the southern_hemi_df DataFrame to get the x- and y-values.\n",
    "\n",
    "# Linear regression on the Southern Hemisphere\n",
    "x_values = southern_hemi_df[\"Lat\"]\n",
    "y_values = southern_hemi_df[\"Max Temp\"]\n",
    "# Call the function.\n",
    "plot_linear_regression(x_values, y_values,\n",
    "                       'Linear Regression on the Southern Hemisphere \\\n",
    "                        for Maximum Temperature', 'Max Temp',(40,10))"
   ]
  },
  {
   "cell_type": "code",
   "execution_count": 54,
   "metadata": {},
   "outputs": [],
   "source": [
    "#Findings: The correlation between the latitude and the maximum temperature is strong to very strong because the r-value \n",
    "#is less than –0.7 for the Northern Hemisphere and greater than 0.7 for the Southern Hemisphere, as shown by the plots here.\n",
    "#This means that as we approach the equator, 0° latitude, the temperatures become warmer. And when we are further from the \n",
    "#equator the temperatures become cooler. Check the r-values for your plots. "
   ]
  },
  {
   "cell_type": "markdown",
   "metadata": {},
   "source": [
    "# Module 6.4.3: Find the Correlation Between Latitude and Percent Humidity"
   ]
  },
  {
   "cell_type": "code",
   "execution_count": 55,
   "metadata": {},
   "outputs": [
    {
     "data": {
      "image/png": "[encoded data removed]",
      "text/plain": [
       "<Figure size 432x288 with 1 Axes>"
      ]
     },
     "metadata": {
      "needs_background": "light"
     },
     "output_type": "display_data"
    }
   ],
   "source": [
    "# Linear regression on the Northern Hemisphere\n",
    "x_values = northern_hemi_df[\"Lat\"]\n",
    "y_values = northern_hemi_df[\"Humidity\"]\n",
    "# Call the function.\n",
    "plot_linear_regression(x_values, y_values,\n",
    "                       'Linear Regression on the Northern Hemisphere \\\n",
    "                        for % Humidity', '% Humidity',(40,10))"
   ]
  },
  {
   "cell_type": "markdown",
   "metadata": {},
   "source": [
    "# Module 6.4.3: Perform Linear Regression on the Percent Humidity for the Southern Hemisphere"
   ]
  },
  {
   "cell_type": "code",
   "execution_count": 56,
   "metadata": {},
   "outputs": [
    {
     "data": {
      "image/png": "[encoded data removed]",
      "text/plain": [
       "<Figure size 432x288 with 1 Axes>"
      ]
     },
     "metadata": {
      "needs_background": "light"
     },
     "output_type": "display_data"
    }
   ],
   "source": [
    "# Linear regression on the Southern Hemisphere\n",
    "x_values = southern_hemi_df[\"Lat\"]\n",
    "y_values = southern_hemi_df[\"Humidity\"]\n",
    "# Call the function.\n",
    "plot_linear_regression(x_values, y_values,\n",
    "                       'Linear Regression on the Southern Hemisphere \\\n",
    "                        for % Humidity', '% Humidity',(40,10))"
   ]
  },
  {
   "cell_type": "code",
   "execution_count": 57,
   "metadata": {},
   "outputs": [],
   "source": [
    "#Findings: The correlation between the latitude and percent humidity is very low because the r-value is less than 0.04 for \n",
    "#the Northern and Southern Hemispheres for the plots shown here. This means that percent humidity is unpredictable due to \n",
    "#changing weather patterns that can increase or decrease percent humidity. Check the r-values for your plots. "
   ]
  },
  {
   "cell_type": "markdown",
   "metadata": {},
   "source": [
    "# module 6.4.4: Find the Correlation Between Latitude and Percent Cloudiness"
   ]
  },
  {
   "cell_type": "code",
   "execution_count": 58,
   "metadata": {},
   "outputs": [
    {
     "data": {
      "image/png": "[encoded data removed]",
      "text/plain": [
       "<Figure size 432x288 with 1 Axes>"
      ]
     },
     "metadata": {
      "needs_background": "light"
     },
     "output_type": "display_data"
    }
   ],
   "source": [
    "# Linear regression on the Northern Hemisphere\n",
    "x_values = northern_hemi_df[\"Lat\"]\n",
    "y_values = northern_hemi_df[\"Cloudiness\"]\n",
    "# Call the function.\n",
    "plot_linear_regression(x_values, y_values,\n",
    "                       'Linear Regression on the Northern Hemisphere \\\n",
    "                        for Cloudiness', 'Claudiness',(40,10))"
   ]
  },
  {
   "cell_type": "code",
   "execution_count": 59,
   "metadata": {},
   "outputs": [
    {
     "data": {
      "image/png": "[encoded data removed]",
      "text/plain": [
       "<Figure size 432x288 with 1 Axes>"
      ]
     },
     "metadata": {
      "needs_background": "light"
     },
     "output_type": "display_data"
    }
   ],
   "source": [
    "# Linear regression on the Southern Hemisphere\n",
    "x_values = southern_hemi_df[\"Lat\"]\n",
    "y_values = southern_hemi_df[\"Cloudiness\"]\n",
    "# Call the function.\n",
    "plot_linear_regression(x_values, y_values,\n",
    "                       'Linear Regression on the Southern Hemisphere \\\n",
    "                        for % Cloudiness', '% Cloudiness',(40,10))"
   ]
  },
  {
   "cell_type": "code",
   "execution_count": 60,
   "metadata": {},
   "outputs": [],
   "source": [
    "#Findings: The correlation between the latitude and percent cloudiness is very low because the r-value is less than –0.09 \n",
    "#for the Northern Hemisphere and less than –0.02 for the Southern Hemisphere for the plots shown here. This means that \n",
    "#cloudiness is unpredictable due to changing weather patterns that can increase or decrease percent cloudiness. Check the \n",
    "#r-values for your plots. "
   ]
  },
  {
   "cell_type": "markdown",
   "metadata": {},
   "source": [
    "# Module: 6.4.5 Find the Correlation Between Latitude and Wind Speed"
   ]
  },
  {
   "cell_type": "code",
   "execution_count": 61,
   "metadata": {},
   "outputs": [
    {
     "data": {
      "image/png": "[encoded data removed]",
      "text/plain": [
       "<Figure size 432x288 with 1 Axes>"
      ]
     },
     "metadata": {
      "needs_background": "light"
     },
     "output_type": "display_data"
    }
   ],
   "source": [
    "# Linear regression on the Northern Hemisphere\n",
    "x_values = northern_hemi_df[\"Lat\"]\n",
    "y_values = northern_hemi_df[\"Wind Speed\"]\n",
    "# Call the function.\n",
    "plot_linear_regression(x_values, y_values,\n",
    "                       'Linear Regression on the Northern Hemisphere \\\n",
    "                        for Wind Speed', 'Wind Speed',(40,10))"
   ]
  },
  {
   "cell_type": "code",
   "execution_count": 62,
   "metadata": {},
   "outputs": [
    {
     "data": {
      "image/png": "[encoded data removed]",
      "text/plain": [
       "<Figure size 432x288 with 1 Axes>"
      ]
     },
     "metadata": {
      "needs_background": "light"
     },
     "output_type": "display_data"
    }
   ],
   "source": [
    "# Linear regression on the Southern Hemisphere\n",
    "x_values = southern_hemi_df[\"Lat\"]\n",
    "y_values = southern_hemi_df[\"Wind Speed\"]\n",
    "# Call the function.\n",
    "plot_linear_regression(x_values, y_values,\n",
    "                       'Linear Regression on the Southern Hemisphere \\\n",
    "                        for Wind Speed', 'Wind Speed',(40,10))"
   ]
  },
  {
   "cell_type": "code",
   "execution_count": 63,
   "metadata": {},
   "outputs": [],
   "source": [
    "#Findings: The correlation between the latitude and wind speed is very low because the r-value is less  than –0.07 for the \n",
    "#Northern Hemisphere and less than –0.3 for the Southern Hemisphere for the plots shown here. This means that wind speed \n",
    "#is unpredictable due to changing weather patterns that can increase or decrease wind speed. Check the r-values for your \n",
    "#plots. "
   ]
  }
 ],
 "metadata": {
  "kernelspec": {
   "display_name": "PythonData",
   "language": "python",
   "name": "pythondata"
  },
  "language_info": {
   "codemirror_mode": {
    "name": "ipython",
    "version": 3
   },
   "file_extension": ".py",
   "mimetype": "text/x-python",
   "name": "python",
   "nbconvert_exporter": "python",
   "pygments_lexer": "ipython3",
   "version": "3.7.9"
  }
 },
 "nbformat": 4,
 "nbformat_minor": 4
}
